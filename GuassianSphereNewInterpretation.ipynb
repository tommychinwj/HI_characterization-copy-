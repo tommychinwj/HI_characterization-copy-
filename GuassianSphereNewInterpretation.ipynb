{
 "cells": [
  {
   "cell_type": "code",
   "execution_count": 1,
   "metadata": {},
   "outputs": [],
   "source": [
    "import matplotlib.pyplot as plt\n",
    "import numpy as np\n",
    "import py21cmfast as p21c\n",
    "import logging, os\n",
    "from datetime import datetime\n",
    "from numba import jit, njit"
   ]
  },
  {
   "cell_type": "markdown",
   "metadata": {},
   "source": [
    "## Set logger to log caching activity"
   ]
  },
  {
   "cell_type": "code",
   "execution_count": 2,
   "metadata": {},
   "outputs": [],
   "source": [
    "logger = logging.getLogger('21cmFAST')\n",
    "logger.setLevel(logging.INFO)"
   ]
  },
  {
   "cell_type": "markdown",
   "metadata": {},
   "source": [
    "## Reset cache location "
   ]
  },
  {
   "cell_type": "code",
   "execution_count": 3,
   "metadata": {},
   "outputs": [],
   "source": [
    "p21c.config['direc'] = '/lustre/aoc/projects/hera/wchin/21cmFAST-cache'"
   ]
  },
  {
   "cell_type": "markdown",
   "metadata": {},
   "source": [
    "## Colorbar function"
   ]
  },
  {
   "cell_type": "code",
   "execution_count": 4,
   "metadata": {},
   "outputs": [],
   "source": [
    "def colorbar(mappable, plot_color='white'):\n",
    "    from mpl_toolkits.axes_grid1 import make_axes_locatable\n",
    "    last_axes = plt.gca()\n",
    "    ax = mappable.axes\n",
    "    fig = ax.figure\n",
    "    divider = make_axes_locatable(ax)\n",
    "    cax = divider.append_axes(\"right\", size=\"5%\", pad=0.05)\n",
    "    cbar = fig.colorbar(mappable, cax=cax)\n",
    "    plt.ylabel('Neutral Fraction', color=plot_color)\n",
    "    plt.tick_params(color=plot_color, labelcolor=plot_color)\n",
    "    plt.sca(last_axes)\n",
    "    \n",
    "    ax.tick_params(color=plot_color, labelcolor=plot_color)\n",
    "    \n",
    "#     for spine in ax.spines.values():  # figure spine color\n",
    "#         spine.set_edgecolor(plot_color)\n",
    "    \n",
    "    return cbar"
   ]
  },
  {
   "cell_type": "markdown",
   "metadata": {},
   "source": [
    "## Cosmological Parameters (Default is used when no input is specified)"
   ]
  },
  {
   "cell_type": "code",
   "execution_count": 5,
   "metadata": {
    "ExecuteTime": {
     "end_time": "2020-07-13T16:47:07.620136Z",
     "start_time": "2020-07-13T16:47:07.617575Z"
    }
   },
   "outputs": [],
   "source": [
    "cosmo_params = p21c.CosmoParams()"
   ]
  },
  {
   "cell_type": "markdown",
   "metadata": {},
   "source": [
    "## User Parameters, like box length, number of voxels (i.e. resolution) etc."
   ]
  },
  {
   "cell_type": "code",
   "execution_count": 6,
   "metadata": {
    "ExecuteTime": {
     "end_time": "2020-07-13T16:47:07.625008Z",
     "start_time": "2020-07-13T16:47:07.622093Z"
    }
   },
   "outputs": [],
   "source": [
    "BOX_LEN=301  # 300, 301\n",
    "HII_DIM=301  # 450, 301\n",
    "\n",
    "user_params = p21c.UserParams(\n",
    "    BOX_LEN=BOX_LEN,  # Box length in Mpc\n",
    "    DIM=4*HII_DIM,      # Number of Voxels for hight resolution \n",
    "    HII_DIM=HII_DIM,  # Number of Voxels for low resolution \n",
    "    N_THREADS=os.cpu_count()\n",
    ")"
   ]
  },
  {
   "cell_type": "markdown",
   "metadata": {},
   "source": [
    "## Creating initial conditions box"
   ]
  },
  {
   "cell_type": "code",
   "execution_count": null,
   "metadata": {
    "ExecuteTime": {
     "end_time": "2020-07-13T16:49:19.338938Z",
     "start_time": "2020-07-13T16:47:07.627140Z"
    }
   },
   "outputs": [
    {
     "name": "stdout",
     "output_type": "stream",
     "text": [
      "Excution qued at 2020-12-26 15:06:53.427730\n"
     ]
    }
   ],
   "source": [
    "start_time = datetime.now()\n",
    "print(f'Excution qued at {start_time}')\n",
    "\n",
    "init_cond = p21c.initial_conditions(\n",
    "    cosmo_params=cosmo_params,\n",
    "    user_params=user_params,\n",
    "    direc='/lustre/aoc/projects/hera/wchin/21cmFAST-cache'\n",
    ")\n",
    "\n",
    "end_time = datetime.now()\n",
    "execution_time = end_time - start_time\n",
    "print(f'Execution completed at {end_time}')\n",
    "print(f'Execution time = {execution_time}')"
   ]
  },
  {
   "cell_type": "markdown",
   "metadata": {},
   "source": [
    "## CHAMP Bootcamp"
   ]
  },
  {
   "cell_type": "code",
   "execution_count": null,
   "metadata": {},
   "outputs": [],
   "source": [
    "redshifts = np.array([8.5, 7.5, 6.5, 6.0])\n",
    "R_BUBBLE_MAXES = np.array([15]*len(redshifts))\n",
    "HII_EFF_FACTORS = np.array([30]*len(redshifts))"
   ]
  },
  {
   "cell_type": "markdown",
   "metadata": {},
   "source": [
    "## Generate ionized boxes and total neutral fractions as a function of redshift"
   ]
  },
  {
   "cell_type": "code",
   "execution_count": null,
   "metadata": {
    "scrolled": true
   },
   "outputs": [],
   "source": [
    "progress_status = True\n",
    "\n",
    "ionized_boxes = np.zeros((len(redshifts), HII_DIM, HII_DIM, HII_DIM))\n",
    "total_neutral_fractions = np.zeros(len(redshifts))\n",
    "\n",
    "# print progress and local time\n",
    "if progress_status:\n",
    "    start_time = datetime.now()\n",
    "    current_time = start_time\n",
    "    print(f'Progress = 0%, localtime = {start_time}')\n",
    "\n",
    "for i, z in enumerate(redshifts):\n",
    "    ionized_boxes[i] = p21c.ionize_box(\n",
    "        redshift=z, \n",
    "        init_boxes=init_cond,\n",
    "        astro_params={\n",
    "            'HII_EFF_FACTOR': HII_EFF_FACTORS[i],\n",
    "            'R_BUBBLE_MAX': R_BUBBLE_MAXES[i]\n",
    "        }\n",
    "    ).xH_box\n",
    "    total_neutral_fractions[i] = np.mean(ionized_boxes[i])\n",
    "\n",
    "    # print progress and local time\n",
    "    if progress_status:\n",
    "        previous_time = current_time\n",
    "        current_time = datetime.now()\n",
    "        loop_time = current_time - previous_time\n",
    "        elapsed_time = current_time - start_time\n",
    "        print(f'progress = {int(round((i+1)*100/len(redshifts)))}%, \\\n",
    "localtime = {current_time}, loopexecuted in {loop_time}, elapsedtime = {elapsed_time}')\n",
    "        \n",
    "total_neutral_fractions"
   ]
  },
  {
   "cell_type": "markdown",
   "metadata": {},
   "source": [
    "## Make sure averaging region size is not larger than the box itself "
   ]
  },
  {
   "cell_type": "code",
   "execution_count": null,
   "metadata": {},
   "outputs": [],
   "source": [
    "def check_averaging_radius_limit(averaging_radius, box_length):\n",
    "    # check to see if averaging region is larger than the box itself\n",
    "    if averaging_radius > (box_length-1)/2:\n",
    "        raise ValueError(f'Averaging_radius = {averaging_radius} > \\\n",
    "{(box_length-1)/2} = (Box Length-1)/2, averaging region is larger than the box itself.')"
   ]
  },
  {
   "cell_type": "markdown",
   "metadata": {},
   "source": [
    "## Measure the distance of each voxel to the center"
   ]
  },
  {
   "cell_type": "code",
   "execution_count": null,
   "metadata": {},
   "outputs": [],
   "source": [
    "@jit\n",
    "def distance_from_coordinate(box_length):\n",
    "    \"\"\"\n",
    "    Generate a cube of voxels.\n",
    "    On each voxel, the distanace from the center is \n",
    "    calculated and the value is assigned to the voxel.\n",
    "    jit by numba compiles what it can to machine code,\n",
    "    the rest as python code.\n",
    "    \n",
    "    Parameters\n",
    "    ----------\n",
    "    box_length : int\n",
    "        The length of each side of the cube.\n",
    "        \n",
    "    Returns\n",
    "    -------\n",
    "    distance : 3D-ndarray\n",
    "        Cube of voxels with each voxel having its \n",
    "        distance from the center assigned to it.\n",
    "    \"\"\"\n",
    "    # range of nummbers with 0 as the center    \n",
    "    index = np.arange(-0.5*(box_length-1), 0.5*(box_length+1))\n",
    "    # 3D mesh\n",
    "    x_mesh, y_mesh, z_mesh = np.meshgrid(index, index, index, indexing='ij')\n",
    "    # generating cube and computing distacne for each voxel\n",
    "    distance = np.sqrt((x_mesh)**2 + (y_mesh)**2 + (z_mesh)**2)\n",
    "    \n",
    "    return distance"
   ]
  },
  {
   "cell_type": "markdown",
   "metadata": {},
   "source": [
    "## Random Coordinate"
   ]
  },
  {
   "cell_type": "code",
   "execution_count": null,
   "metadata": {},
   "outputs": [],
   "source": [
    "def random_cube_regions(box_length, number_of_coordinates, radius):\n",
    "    \"\"\"\n",
    "    Selects a number cubical sub-regions\n",
    "    within a larger cube at random positions.\n",
    "    \n",
    "    Parameters\n",
    "    ----------\n",
    "    box_length            : int\n",
    "        Side length of the larger cube in\n",
    "        arbitrary units of number of cells.\n",
    "    number_of_coordinates : int\n",
    "        Νumber of sub-regions to be selected.\n",
    "    radius                : int\n",
    "        Side of the smaller selected cubical \n",
    "        sub-region in arbitrary units of number of cells.\n",
    "        Called radius because a sphere is\n",
    "        often define within this smaller cube.\n",
    "        \n",
    "    Returns\n",
    "    -------\n",
    "    inds1 : ndarray dtype:int\n",
    "        In 1D, the left bound that defines the cubical region.\n",
    "    inds2 : ndarray dtype:int\n",
    "        In 1D, the right bound that defines the cubical region.\n",
    "    \"\"\"\n",
    "    \n",
    "    np.random.seed()  # no entry: set seed to a randome number\n",
    "#     np.random.seed(4)  # specifying seed for testing purposes\n",
    "\n",
    "    # selecting 'number_of_coordiantes' random coordinates within larger cube\n",
    "    coordinates = np.random.randint(0, box_length, size=(number_of_coordinates, 3))\n",
    "    \n",
    "    # cube indices \n",
    "    inds1 = (coordinates-radius).astype(int)\n",
    "    inds2 = (coordinates+radius+1).astype(int)  # ending index is not inclusive\n",
    "    \n",
    "\n",
    "    return inds1, inds2"
   ]
  },
  {
   "cell_type": "markdown",
   "metadata": {
    "ExecuteTime": {
     "end_time": "2020-07-02T04:52:03.906927Z",
     "start_time": "2020-07-02T04:52:03.902405Z"
    }
   },
   "source": [
    "## Select a Smaller Cube with Sides 2R+1 Voxels, Centered about the Random Coordinate"
   ]
  },
  {
   "cell_type": "code",
   "execution_count": null,
   "metadata": {},
   "outputs": [],
   "source": [
    "def slicing_the_cube(ind1, ind2, box):\n",
    "    \"\"\"\n",
    "    Selects a smaller cubical sub-region within a larger cube called 'box'.\n",
    "    Incoorporates periodic boundary conditions, i.e. Pac-Man effect.\n",
    "    This function takes in a set of slicing indices of one particular randomly\n",
    "    selected cubical sub-region and returns the selected smaller cube.\n",
    "    \n",
    "    Parameters\n",
    "    ----------\n",
    "    ind1 : 1D ndarray, dtype: int\n",
    "        The left bounds of the selected region in 1D respectively.\n",
    "    ind2 : 1D ndarray, dtype: int\n",
    "        The right bounds of the selected region in 1D respectively.\n",
    "    box  : 3D ndarray, dtype: float32\n",
    "        Data cube, when the smaller cubical\n",
    "        sub-regions are being selected from.\n",
    "        \n",
    "    Returns\n",
    "    -------\n",
    "    output_box : 3D ndarray, dtype: float32\n",
    "        The selected cubical smaller sub-region\n",
    "        within the larger data cube.\n",
    "    \"\"\"\n",
    "        \n",
    "    if ind1[0] < 0:  # periodic boundary conditions\n",
    "        # region that went beyond the zeroth voxel face of the\n",
    "        # cube is replaced by the region at the 'box_length'th\n",
    "        # voxel face of the cube with the same size.\n",
    "        x_inds = np.r_[(ind1[0]+len(box)):len(box), 0:ind2[0]]\n",
    "    elif ind2[0] > len(box):\n",
    "        # region that went beyond the 'box_length'th voxel face\n",
    "        # of the cube is replaced by the region at the zeroth \n",
    "        # voxel face of the cube with the same size.\n",
    "        x_inds = np.r_[ind1[0]:len(box), 0:(ind2[0]-len(box))]\n",
    "    else:\n",
    "        # selected voxel is perfectly in the larger data cube.\n",
    "        x_inds = np.r_[ind1[0]:ind2[0]]\n",
    "\n",
    "    if ind1[1] < 0:\n",
    "        y_inds = np.r_[(ind1[1]+len(box)):len(box), 0:ind2[1]]\n",
    "    elif ind2[1] > len(box):\n",
    "        y_inds = np.r_[ind1[1]:len(box), 0:(ind2[1]-len(box))]\n",
    "    else:\n",
    "        y_inds = np.r_[ind1[1]:ind2[1]]\n",
    "\n",
    "    if ind1[2] < 0:\n",
    "        z_inds = np.r_[(ind1[2]+len(box)):len(box), 0:ind2[2]]\n",
    "    elif ind2[2] > len(box):\n",
    "        z_inds = np.r_[ind1[2]:len(box), 0:(ind2[2]-len(box))]\n",
    "    else:\n",
    "        z_inds = np.r_[ind1[2]:ind2[2]]\n",
    "                    \n",
    "    try:\n",
    "        # box[indices]\n",
    "        output_box = box[np.ix_(x_inds, y_inds, z_inds)]\n",
    "        \n",
    "    except IndexError:  # sample region larger than box.\n",
    "        print(f'ind1 = {ind1}')  # print useful info\n",
    "        print(f'ind2 = {ind2}')  # for debugging\n",
    "        print(f'box length = {len(box)}')\n",
    "        print(f'x_ind1 = {ind1[0]}')\n",
    "        print(f'x_ind2 = {ind2[0]}')\n",
    "        print(f'x_inds = {x_inds}')\n",
    "        print(f'y_ind1 = {ind1[1]}')\n",
    "        print(f'y_ind2 = {ind2[1]}')\n",
    "        print(f'y_inds = {y_inds}')\n",
    "        print(f'z_ind1 = {ind1[2]}')\n",
    "        print(f'z_ind2 = {ind2[2]}')\n",
    "        print(f'z_inds = {z_inds}')\n",
    "        \n",
    "    return output_box"
   ]
  },
  {
   "cell_type": "markdown",
   "metadata": {},
   "source": [
    "## Gausssian Sphere Averaging"
   ]
  },
  {
   "cell_type": "code",
   "execution_count": null,
   "metadata": {},
   "outputs": [],
   "source": [
    "def gaussian_sphere_average(\n",
    "    distance_box, \n",
    "    radius, \n",
    "    input_box, \n",
    "    shell_num, \n",
    "    sigma_factor\n",
    "):\n",
    "    \"\"\"\n",
    "    Takes in a cube of voxels and defines 'shell_num'\n",
    "    of concentric spherical shells and a core.\n",
    "    A mean is taken over the voxels in each shell and the core.\n",
    "    Then 'shell_num' equally spaced values are drawn as weights from 0 to \n",
    "    'sigma_factor' standard deviations of the Gaussian distribution.\n",
    "    Each spherical shell and the core is assigned a weight, \n",
    "    The inner most core is weighted the most.\n",
    "    The weights decrease moving outwards through the shells.\n",
    "    And the outmost shell is weighted the least.\n",
    "    The function then computes a weighted average over the shells and core.\n",
    "    \n",
    "    Parameters\n",
    "    ----------\n",
    "    distance_box : 3D ndarray, dtype: float32\n",
    "        Cube of voxels with each voxel having its \n",
    "        distance from the center assigned to it.\n",
    "        This function uses the distance box to\n",
    "        set the condition required to slice\n",
    "        the voxels in the spherical shells.\n",
    "    radius : int\n",
    "        Radius of the Guassian sphere, i.e. \n",
    "        the sphere complied by the center core \n",
    "        and the concentric spherical shells \n",
    "        in units of number of voxels.\n",
    "    input_box : \n",
    "    \n",
    "    \n",
    "    \n",
    "    \"\"\"\n",
    "    \n",
    "    \n",
    "    mean = np.zeros(shell_num)\n",
    "\n",
    "    shell_radius_edges = np.linspace(0,1,shell_num+1)\n",
    "    # sigma_factor number of sigmas the weighting goes out to, sigma = radius\n",
    "    shell_center = 0.5*(shell_radius_edges[1:] + shell_radius_edges[:-1])*sigma_factor \n",
    "    weight = gaussian(x=shell_center)\n",
    "    \n",
    "    for ii in range(shell_num):\n",
    "        condition = np.logical_and(\n",
    "            distance_box <= shell_radius_edges[ii+1]*radius, \n",
    "            distance_box > shell_radius_edges[ii]*radius\n",
    "        )\n",
    "        mean[ii] = np.mean(input_box[condition])  # inside shell mean\n",
    "        \n",
    "    Gaussian_mean = np.average(mean, weights=weight)\n",
    "    \n",
    "    return Gaussian_mean"
   ]
  },
  {
   "cell_type": "markdown",
   "metadata": {},
   "source": [
    "## Gaussian function"
   ]
  },
  {
   "cell_type": "code",
   "execution_count": null,
   "metadata": {},
   "outputs": [],
   "source": [
    "@njit\n",
    "def gaussian(x):  # μ=0, σ=1/sqrt(2), π=1\n",
    "    \"\"\"\n",
    "    Gaussian distribution with amplitude=1,\n",
    "    mu=0, standard deviation=1/sqrt(2), pi=1.\n",
    "    @njit by numba compiles the code in machine code \n",
    "    instead of python, speeding up the computation.\n",
    "    \n",
    "    Parameters\n",
    "    ----------\n",
    "    x        : array_like\n",
    "        Independent variable\n",
    "        \n",
    "    Returns\n",
    "    -------\n",
    "    gaussian : array_like\n",
    "        Gaussian distribution array\n",
    "    \"\"\"\n",
    "    gaussian = np.exp(-x**2)\n",
    "    return gaussian"
   ]
  },
  {
   "cell_type": "markdown",
   "metadata": {},
   "source": [
    "## Sphere Blurring Function"
   ]
  },
  {
   "cell_type": "code",
   "execution_count": null,
   "metadata": {},
   "outputs": [],
   "source": [
    "@jit\n",
    "def average_neutral_fraction_distribution(\n",
    "    box, \n",
    "    radius, \n",
    "    iteration, \n",
    "    shell_num=6, \n",
    "    sigma_factor=1.4370397097748921*3, \n",
    "    blur_shape=None\n",
    "):\n",
    "    \n",
    "    box = box.copy()  # make copy of input box to have a separate box\n",
    "    \n",
    "    mean_data = np.zeros(iteration)  # empty list for data collection\n",
    "    \n",
    "    \n",
    "    if blur_shape == 'Gaussian_sphere':\n",
    "        \n",
    "        \n",
    "# ====================================================================================================================\n",
    "        # Radius Ratio 1\n",
    "        radius = int(round(radius*1.4370397097748921*3))\n",
    "        \n",
    "        # Radius Ratio 2\n",
    "#         radius = int(round(radius*((4/3/np.sqrt(np.pi))**(1/3))*13/4))  \n",
    "            # 13/4 --> speculated correction factor\n",
    "# ====================================================================================================================\n",
    "\n",
    "        \n",
    "        \n",
    "        # check to see if averaging region is largert than the box itself\n",
    "        check_averaging_radius_limit(radius, len(box))\n",
    "            \n",
    "        # used as condition to define a sphere within a cube\n",
    "        dist_frm_coord_box = distance_from_coordinate(radius*2+1)\n",
    "        \n",
    "        # iteration number of random cube region indices in the box\n",
    "        rand_coord_inds1, rand_coord_inds2 = random_cube_regions(\n",
    "            len(box), \n",
    "            iteration, \n",
    "            radius\n",
    "        )  \n",
    "\n",
    "        \n",
    "        for i in range(iteration):\n",
    "            cube_region_box = slicing_the_cube(\n",
    "                rand_coord_inds1[i, :], \n",
    "                rand_coord_inds2[i, :], \n",
    "                box\n",
    "            )\n",
    "            # mean\n",
    "            mean_data[i] = gaussian_sphere_average(\n",
    "                dist_frm_coord_box, \n",
    "                radius, \n",
    "                cube_region_box, \n",
    "                shell_num, \n",
    "                sigma_factor\n",
    "            )\n",
    "        \n",
    "    elif blur_shape == 'top_hat_sphere':\n",
    "        \n",
    "        # check to see if averaging region is largert than the box itself\n",
    "        check_averaging_radius_limit(radius, len(box))\n",
    "            \n",
    "        # used as condition to define a sphere within a cube\n",
    "        dist_frm_coord_box = distance_from_coordinate(radius*2+1)\n",
    "        \n",
    "        # iteration number of random cube region indices in the box\n",
    "        rand_coord_inds1, rand_coord_inds2 = random_cube_regions(\n",
    "            len(box), \n",
    "            iteration, \n",
    "            radius\n",
    "        )  \n",
    "        \n",
    "        for i in range(iteration):\n",
    "            cube_region_box = slicing_the_cube(\n",
    "                rand_coord_inds1[i, :], \n",
    "                rand_coord_inds2[i, :], \n",
    "                box\n",
    "            )\n",
    "            # mean\n",
    "            mean_data[i] = top_hat_sphere_average(\n",
    "                dist_frm_coord_box, \n",
    "                radius, \n",
    "                cube_region_box\n",
    "            )\n",
    "            \n",
    "    elif blur_shape == 'top_hat_cube':\n",
    "                \n",
    "        # ratio determiend by equating the volumes of cube & sphere\n",
    "        radius = int(round((radius*((4*np.pi/3)**(1/3))-1)/2))  \n",
    "\n",
    "        # check to see if averaging region is largert than the box itself\n",
    "        check_averaging_radius_limit(radius, len(box))\n",
    "\n",
    "        # iteration number of random cube region indices in the box\n",
    "        rand_coord_inds1, rand_coord_inds2 = random_cube_regions(\n",
    "            len(box), \n",
    "            iteration, \n",
    "            radius\n",
    "        )  \n",
    "        \n",
    "        for i in range(iteration):\n",
    "            cube_region_box = slicing_the_cube(\n",
    "                rand_coord_inds1[i, :], \n",
    "                rand_coord_inds2[i, :], \n",
    "                box\n",
    "            )\n",
    "            # mean\n",
    "            mean_data[i] = top_hat_cube_average(cube_region_box)\n",
    "    else:\n",
    "        \n",
    "        print('Blurring shape assumed to be a Gaussian sphere with 4 shells \\\n",
    "              weighted by equally spaced values from 0 sigma to 4 sigma.')\n",
    "                \n",
    "        \n",
    "# ====================================================================================================================\n",
    "        # Radius Ratio 1\n",
    "        radius = int(round(radius*1.4370397097748921*3))\n",
    "        \n",
    "        # Radius Ratio 2\n",
    "#         radius = int(round(radius*((4/3/np.sqrt(np.pi))**(1/3))*13/4))  \n",
    "            # 13/4 --> speculated correction factor\n",
    "# ====================================================================================================================\n",
    "        \n",
    "        \n",
    "        # check to see if averaging region is largert than the box itself\n",
    "        check_averaging_radius_limit(radius, len(box))\n",
    "\n",
    "        # used as condition to define a sphere within a cube\n",
    "        dist_frm_coord_box = distance_from_coordinate(radius*2+1)\n",
    "\n",
    "        # iteration number of random cube region indices in the box\n",
    "        rand_coord_inds1, rand_coord_inds2 = random_cube_regions(\n",
    "            len(box), \n",
    "            iteration, \n",
    "            radius\n",
    "        )  \n",
    "        \n",
    "        for i in range(iteration):\n",
    "            cube_region_box = slicing_the_cube(\n",
    "                rand_coord_inds1[i, :], \n",
    "                rand_coord_inds2[i, :], \n",
    "                box\n",
    "            )\n",
    "            mean_data[i] = gaussian_sphere_average(\n",
    "                dist_frm_coord_box, \n",
    "                radius, \n",
    "                cube_region_box, \n",
    "                shell_num, \n",
    "                sigma_factor\n",
    "            )\n",
    "            # mean\n",
    "            \n",
    "    return mean_data"
   ]
  },
  {
   "cell_type": "markdown",
   "metadata": {},
   "source": [
    "## Generate Average Neutral Fraction Distributions as a function of redshift"
   ]
  },
  {
   "cell_type": "code",
   "execution_count": null,
   "metadata": {},
   "outputs": [],
   "source": [
    "def generate_distributions(\n",
    "    boxes,\n",
    "    radii=np.arange(8, 17, 1),\n",
    "    iterations=int(10**3),\n",
    "    sigma_factor=1.4370397097748921*3,\n",
    "    shell_number=6,\n",
    "    progress_status=True\n",
    "):\n",
    "\n",
    "    gaussians = np.zeros((len(boxes), len(radii), iterations))\n",
    "    \n",
    "    # print progress and local time\n",
    "    if progress_status:\n",
    "        start_time = datetime.now()\n",
    "        current_time = start_time\n",
    "        print(f'Progress = 0%, localtime = {start_time}')\n",
    "\n",
    "    for i, box in enumerate(boxes):\n",
    "               \n",
    "        for ii, radius in enumerate(radii):\n",
    "                        \n",
    "            gaussians[i, ii, :] = average_neutral_fraction_distribution(\n",
    "                box=box,\n",
    "                radius=radius,\n",
    "                iteration=iterations,\n",
    "                sigma_factor=sigma_factor,\n",
    "                shell_num=shell_number,\n",
    "                blur_shape='Gaussian_sphere'\n",
    "            )\n",
    "        # print progress and local time\n",
    "        if progress_status:\n",
    "            previous_time = current_time\n",
    "            current_time = datetime.now()\n",
    "            loop_time = current_time - previous_time\n",
    "            elapsed_time = current_time - start_time\n",
    "            print(f'progress = {int(round((i+1)*100/len(boxes)))}%, \\\n",
    "localtime = {current_time}, loopexecuted in {loop_time}, elapsedtime = {elapsed_time}')\n",
    "    \n",
    "    return gaussians"
   ]
  },
  {
   "cell_type": "code",
   "execution_count": null,
   "metadata": {},
   "outputs": [],
   "source": [
    "radii = np.array([16, 15])  # array([34, 32, 30,... 6, 4]) units: voxels (51, 3, -3)\n",
    "iterations = int(1e5)\n",
    "\n",
    "gaussians = generate_distributions(\n",
    "    boxes=np.array([ionized_boxes[1]]),\n",
    "    radii=radii,\n",
    "    iterations=iterations,\n",
    "    sigma_factor=1.4370397097748921*3\n",
    ")"
   ]
  },
  {
   "cell_type": "code",
   "execution_count": 19,
   "metadata": {},
   "outputs": [],
   "source": [
    "np.save('/lustre/aoc/projects/hera/wchin/gaussians_z7.5_r16,15', gaussians)"
   ]
  },
  {
   "cell_type": "code",
   "execution_count": 20,
   "metadata": {},
   "outputs": [
    {
     "name": "stdout",
     "output_type": "stream",
     "text": [
      "Progress = 0%, localtime = 2020-12-23 13:37:22.636248\n",
      "progress = 100%, localtime = 2020-12-23 13:53:20.062243, loopexecuted in 0:15:57.425995, elapsedtime = 0:15:57.425995\n"
     ]
    }
   ],
   "source": [
    "radii = np.array([10])  # array([34, 32, 30,... 6, 4]) units: voxels (51, 3, -3)\n",
    "iterations = int(1e5)\n",
    "\n",
    "gaussians = generate_distributions(\n",
    "    boxes=np.array([ionized_boxes[-1]]),\n",
    "    radii=radii,\n",
    "    iterations=iterations,\n",
    "    sigma_factor=1.4370397097748921*3\n",
    ")"
   ]
  },
  {
   "cell_type": "code",
   "execution_count": 21,
   "metadata": {},
   "outputs": [],
   "source": [
    "np.save('/lustre/aoc/projects/hera/wchin/gaussians_z6.0_r10', gaussians)"
   ]
  },
  {
   "cell_type": "code",
   "execution_count": null,
   "metadata": {},
   "outputs": [],
   "source": []
  }
 ],
 "metadata": {
  "kernelspec": {
   "display_name": "21cmfast",
   "language": "python",
   "name": "21cmfast"
  },
  "language_info": {
   "codemirror_mode": {
    "name": "ipython",
    "version": 3
   },
   "file_extension": ".py",
   "mimetype": "text/x-python",
   "name": "python",
   "nbconvert_exporter": "python",
   "pygments_lexer": "ipython3",
   "version": "3.8.3"
  }
 },
 "nbformat": 4,
 "nbformat_minor": 4
}
