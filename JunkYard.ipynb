{
 "cells": [
  {
   "cell_type": "raw",
   "metadata": {},
   "source": [
    "print('Hello World')"
   ]
  },
  {
   "cell_type": "markdown",
   "metadata": {},
   "source": [
    "## Sphere"
   ]
  },
  {
   "cell_type": "code",
   "execution_count": null,
   "metadata": {},
   "outputs": [],
   "source": [
    "LEN = 5\n",
    "A = np.zeros((LEN,LEN,LEN))\n",
    "\n",
    "center_x = 0.5*(LEN-1)\n",
    "center_y = 0.5*(LEN-1)\n",
    "center_z = 0.5*(LEN-1)\n",
    "Radius = 2\n",
    "for xx in range(LEN):\n",
    "    for yy in range(LEN):\n",
    "        for zz in range(LEN):\n",
    "            dist = np.sqrt((xx - center_x)**2 + (yy - center_y)**2 + (zz - center_z)**2)\n",
    "            if dist <= Radius:\n",
    "                A[xx, yy, zz] = 1\n",
    "print(A)\n",
    "print(np.sum(A))\n",
    "print(center_x)\n",
    "plt.imshow(A[np.int(center_x),:,:])"
   ]
  },
  {
   "cell_type": "markdown",
   "metadata": {},
   "source": [
    "## Create square and circle around chosen point"
   ]
  },
  {
   "cell_type": "code",
   "execution_count": null,
   "metadata": {},
   "outputs": [],
   "source": [
    "# start with a 100 x 100 square grid\n",
    "Nside = 100\n",
    "base_indices = np.arange(Nside)\n",
    "x_indices, y_indices = np.meshgrid(base_indices, base_indices)\n",
    "reference_position_indices = np.array([37, 20])\n",
    "# disk = np.where(np.sqrt((x_indices - reference_position_indices[0])**2 + (y_indices - reference_position_indices[1])**2)<= 10, 1, 0)\n",
    "np.sqrt((x_indices - reference_position_indices[0])**2 + (y_indices - reference_position_indices[1])**2)<= 10\n",
    "plt.imshow(disk)"
   ]
  },
  {
   "cell_type": "code",
   "execution_count": null,
   "metadata": {},
   "outputs": [],
   "source": [
    "square = np.where(np.logical_and(np.abs(x_indices - reference_position_indices[0]) <= 5, np.abs(y_indices - reference_position_indices[1]) <= 5), 1, 0)\n",
    "plt.imshow(square)"
   ]
  },
  {
   "cell_type": "markdown",
   "metadata": {},
   "source": [
    "## np.where will ravel an array with any shape to a 1D array"
   ]
  },
  {
   "cell_type": "code",
   "execution_count": null,
   "metadata": {},
   "outputs": [],
   "source": [
    "x = np.arange(100).reshape(10,10)\n",
    "print(x)\n",
    "x[3:7,1:5] = np.where(x[3:7,1:5] % 2, 0, x[3:7,1:5])\n",
    "print(x)"
   ]
  },
  {
   "cell_type": "markdown",
   "metadata": {
    "ExecuteTime": {
     "end_time": "2020-06-29T16:19:19.841435Z",
     "start_time": "2020-06-29T16:19:19.838981Z"
    }
   },
   "source": [
    "## Slicing array with a condition"
   ]
  },
  {
   "cell_type": "code",
   "execution_count": null,
   "metadata": {},
   "outputs": [],
   "source": [
    "x = np.arange(20)\n",
    "avg_1 = x[np.logical_and(7 <= x, x <= 14)].mean()\n",
    "avg_2 = np.where(np.logical_and(7 <= x, x <= 14), x, 0).mean()\n",
    "avg_1 == avg_2"
   ]
  },
  {
   "cell_type": "code",
   "execution_count": null,
   "metadata": {},
   "outputs": [],
   "source": [
    "x_values = np.arange(20)\n",
    "condition = np.logical_and(7 <= x_values, x_values <= 14)\n",
    "x_values[condition]"
   ]
  },
  {
   "cell_type": "markdown",
   "metadata": {},
   "source": [
    "## Averaging sphere"
   ]
  },
  {
   "cell_type": "code",
   "execution_count": null,
   "metadata": {},
   "outputs": [],
   "source": [
    "test_box = np.random.rand(101,101,101)\n",
    "test_center = [0.5*(np.shape(test_box)[0]-1), 0.5*(np.shape(test_box)[1]-1), 0.5*(np.shape(test_box)[2]-1)]\n",
    "\n",
    "true_false_index_x = np.arange(np.shape(test_box)[0])\n",
    "true_false_index_y = np.arange(np.shape(test_box)[1])\n",
    "true_false_index_z = np.arange(np.shape(test_box)[2])\n",
    "test_x, test_y, test_z = np.meshgrid(true_false_index_x, true_false_index_y, true_false_index_z)\n",
    "\n",
    "circle_condition = np.sqrt((test_x - test_center[0])**2 + (test_y - test_center[1])**2 + (test_z - test_center[2])**2) <= 30\n",
    "inside_circle_mean = np.mean(test_box[circle_condition])\n",
    "test_box = np.where(circle_condition, inside_circle_mean, test_box)\n",
    "\n",
    "plt.imshow(test_box[:,:,21])"
   ]
  },
  {
   "cell_type": "markdown",
   "metadata": {},
   "source": [
    "## Light cone: Global Average Neutral Fraction vs. Redshift"
   ]
  },
  {
   "cell_type": "code",
   "execution_count": null,
   "metadata": {},
   "outputs": [],
   "source": [
    "lightcone = p21c.run_lightcone(\n",
    "    redshift = 6,\n",
    "    max_redshift = 8,\n",
    "    init_box=init_cond,\n",
    "    lightcone_quantities=(\n",
    "        'brightness_temp',\n",
    "        'xH_box',\n",
    "    ),\n",
    "    global_quantities=(\n",
    "        'brightness_temp',\n",
    "        'xH_box'\n",
    "    )\n",
    ")\n",
    "\n",
    "p21c.plotting.plot_global_history(lightcone, kind='xH_box')\n",
    "plt.title(\"Neutral Freaction vs. Redshift\")"
   ]
  },
  {
   "cell_type": "markdown",
   "metadata": {},
   "source": [
    "## Plotting slices of Neutral fractions."
   ]
  },
  {
   "cell_type": "code",
   "execution_count": null,
   "metadata": {},
   "outputs": [],
   "source": [
    "def simple_xH_plot(ion: p21c.outputs.IonizedBox, ax: plt.Axes):\n",
    "    return ax.imshow(ion.xH_box[:, :, 0].T, extent=(0,200,0,200), vmin=0, vmax=1, origin='lower')"
   ]
  },
  {
   "cell_type": "code",
   "execution_count": null,
   "metadata": {},
   "outputs": [],
   "source": [
    "fig, ax = plt.subplots(2, 4, figsize=(14,6), sharex=True, sharey=True, f)\n",
    "\n",
    "for i, z in enumerate([20, 12, 10, 9, 8, 7, 6, 5]):\n",
    "    ion = p21c.ionize_box(redshift=z, init_boxes=init_cond)\n",
    "    im = simple_xH_plot(ion, ax.flatten()[i])\n",
    "    ax.flatten()[i].set_title(f\"z = {z}, Age = {cosmo_params.cosmo.age(z):.2f}\")\n",
    "    \n",
    "cbar = plt.colorbar(im, ax=ax.ravel().tolist())\n",
    "cbar.set_label(\"Neutral Fraction\")"
   ]
  },
  {
   "cell_type": "markdown",
   "metadata": {},
   "source": [
    "## Plot slices of ionized boxes"
   ]
  },
  {
   "cell_type": "code",
   "execution_count": null,
   "metadata": {},
   "outputs": [],
   "source": [
    "color='w'\n",
    "\n",
    "fig, ax = plt.subplots(2, 4, figsize=(18,8), sharex=True, sharey=True, gridspec_kw={\"hspace\":0.1, 'wspace': 0.05})\n",
    "for i, box in enumerate(ionized_boxes):\n",
    "    im = ax.flatten()[i].imshow(box[150, :, :], extent=(0,200,0,200), vmin=0, vmax=1, origin='lower')\n",
    "    ax.flatten()[i].set_title(f\"EFF={HII_EFF_FACTORS[i]:.3f}\", color=color)\n",
    "    ax.flatten()[i].tick_params(color=color, labelcolor=color)\n",
    "    \n",
    "cbar = plt.colorbar(im, ax=ax.ravel().tolist())\n",
    "cbar.set_label(\"Neutral Fraction\", color=color)"
   ]
  },
  {
   "cell_type": "markdown",
   "metadata": {},
   "source": [
    "## unblurred and blurred side by side comparison"
   ]
  },
  {
   "cell_type": "code",
   "execution_count": null,
   "metadata": {},
   "outputs": [],
   "source": [
    "fig, (ax1, ax2) = plt.subplots(ncols=2, figsize=(15,15))\n",
    "\n",
    "img1 = ax1.imshow(ionized[:, :, 0], extent=(0,BOX_LEN,0,BOX_LEN), origin='lower')\n",
    "ax1.set_title(f\"z = {z}, Age = {cosmo_params.cosmo.age(z):.2f}\", fontsize=16)\n",
    "ax1.set_ylabel(\"y [voxel]\")\n",
    "ax1.set_xlabel(\"x [voxel]\")\n",
    "colorbar(img1)\n",
    "\n",
    "\n",
    "img2 = ax2.imshow(Sphere_Blurring(ionized, 140, 1)[:, :, 0], extent=(0,BOX_LEN,0,BOX_LEN), origin='lower')\n",
    "ax2.set_title(f\"Blurred, z = {z}, Age = {cosmo_params.cosmo.age(z):.2f}\", fontsize=16)\n",
    "ax2.set_xlabel(\"x [voxel]\")\n",
    "colorbar(img2)\n",
    "\n",
    "plt.tight_layout(h_pad=1)"
   ]
  },
  {
   "cell_type": "markdown",
   "metadata": {},
   "source": [
    "## x, y, z slices of the blurred box"
   ]
  },
  {
   "cell_type": "code",
   "execution_count": null,
   "metadata": {},
   "outputs": [],
   "source": [
    "fig, (ax1, ax2, ax3) = plt.subplots(ncols=3, figsize=(15,15), dpi=200)\n",
    "\n",
    "img1 = ax1.imshow(Sphere_blurred[0,:,:], origin='lower')\n",
    "colorbar(img1)\n",
    "\n",
    "img2 = ax2.imshow(Sphere_blurred[:,0,:], origin='lower')\n",
    "colorbar(img2)\n",
    "\n",
    "img3 = ax3.imshow(Sphere_blurred[:,:,0], origin='lower')\n",
    "colorbar(img3)\n",
    "\n",
    "plt.tight_layout(h_pad=1)"
   ]
  },
  {
   "cell_type": "markdown",
   "metadata": {},
   "source": [
    "## Generator"
   ]
  },
  {
   "cell_type": "code",
   "execution_count": null,
   "metadata": {},
   "outputs": [],
   "source": [
    "shape = (300, 100, 2740, 15, 22)\n",
    "list(np.random.randint(0,side_length) for side_length in shape)\n",
    "# generator = [expression for item(s) in iterable if condition]"
   ]
  },
  {
   "cell_type": "markdown",
   "metadata": {},
   "source": [
    "## Calculate Average with big function broken up into smaller functions"
   ]
  },
  {
   "cell_type": "code",
   "execution_count": null,
   "metadata": {},
   "outputs": [],
   "source": [
    "def calculate_average(box, radius, reference_position, shape='cube', weights=None):\n",
    "    \"\"\"\n",
    "    Given an array ``box``, calculate the average over some region with radius\n",
    "    ``radius`` centered on location ``reference_position``.\n",
    "    \"\"\"\n",
    "    # define a smaller cube with sides 2*radius+1\n",
    "    # condition for sphere\n",
    "    # mean(box[condition_for_sphere])\n",
    "    \n",
    "    # retrieve the region of interest\n",
    "    # region_of_interest = get_subarray(box, radius, reference_position, shape)\n",
    "    # mean of region and return value\n",
    "    # weights = generate_weights(region_of_interest, weights) # this is extra; don't worry for now\n",
    "    # return np.average(region_of_interest, weights=weights)"
   ]
  },
  {
   "cell_type": "markdown",
   "metadata": {},
   "source": [
    "## Definition of Weighted Average"
   ]
  },
  {
   "cell_type": "code",
   "execution_count": null,
   "metadata": {
    "ExecuteTime": {
     "end_time": "2020-07-01T18:31:03.613111Z",
     "start_time": "2020-07-01T18:31:03.606656Z"
    }
   },
   "outputs": [],
   "source": [
    "# weighted_average = sum(weights * array) / sum(weights)"
   ]
  },
  {
   "cell_type": "markdown",
   "metadata": {},
   "source": [
    "## Plotted gaussian and compute area under the curve"
   ]
  },
  {
   "cell_type": "code",
   "execution_count": null,
   "metadata": {
    "ExecuteTime": {
     "end_time": "2020-07-04T02:23:59.507558Z",
     "start_time": "2020-07-04T02:23:59.501194Z"
    }
   },
   "outputs": [],
   "source": [
    "def Gaussian(x, sigma=1, mu=0):\n",
    "    return (1/sigma/np.sqrt(2*np.pi))*(np.exp(-0.5*(((x-mu)/sigma)**2)))\n",
    "\n",
    "import numpy as np\n",
    "x = np.linspace(-1.4370396997748922,1.4370396997748922,10**3)\n",
    "sigma = 1\n",
    "g = Gaussian(x, sigma=sigma)\n",
    "# fig = plt.figure(figsize=(15,15))\n",
    "# plt.plot(x, g, [-4*sigma,-4*sigma], [-0.01, 0.2], [4*sigma,4*sigma], [-0.01, 0.2])\n",
    "\n",
    "from scipy.integrate import simps\n",
    "\n",
    "area = simps(g, x)\n",
    "print(area)"
   ]
  },
  {
   "cell_type": "markdown",
   "metadata": {},
   "source": [
    "## plotting the shells"
   ]
  },
  {
   "cell_type": "code",
   "execution_count": 28,
   "metadata": {},
   "outputs": [
    {
     "data": {
      "image/png": "[encoded data removed]",
      "text/plain": [
       "<Figure size 1080x1080 with 6 Axes>"
      ]
     },
     "metadata": {
      "needs_background": "light"
     },
     "output_type": "display_data"
    }
   ],
   "source": [
    "radius = 150\n",
    "shell_box = top_hat_shell_averaging(distance_from_coordinate(radius*2+1), radius, noise_box)\n",
    "\n",
    "fig, (ax1, ax2, ax3) = plt.subplots(ncols=3, figsize=(15,15))\n",
    "\n",
    "img1 = ax1.imshow(shell_box[150,:,:], origin='lower')\n",
    "colorbar(img1)\n",
    "\n",
    "img2 = ax2.imshow(shell_box[:,150,:], origin='lower')\n",
    "colorbar(img2)\n",
    "\n",
    "img3 = ax3.imshow(shell_box[:,:,150], origin='lower')\n",
    "colorbar(img3)\n",
    "\n",
    "plt.tight_layout(h_pad=1)"
   ]
  },
  {
   "cell_type": "markdown",
   "metadata": {},
   "source": [
    "## Average 4 spherical shells in a given box,  with diameter = sides of box, sphere centered on cube's center"
   ]
  },
  {
   "cell_type": "code",
   "execution_count": 22,
   "metadata": {},
   "outputs": [],
   "source": [
    "def top_hat_shell_averaging(distance_box, radius, input_box):\n",
    "    \n",
    "    sphere_condition =  distance_box <= radius\n",
    "        \n",
    "    inside_sphere_mean = np.mean(input_box[sphere_condition])  # slicing shaped array by condition will ravel the array\n",
    "\n",
    "    shell_condition1 =  distance_box <= 0.25*radius\n",
    "    shell_condition2 =  np.logical_and(distance_box <= 0.5*radius, distance_box > 0.25*radius)\n",
    "    shell_condition3 =  np.logical_and(distance_box <= 0.75*radius, distance_box > 0.5*radius)\n",
    "    shell_condition4 =  np.logical_and(distance_box <= radius, distance_box > 0.75*radius)\n",
    "    \n",
    "    output_box = np.where(shell_condition1, inside_sphere_mean, input_box)\n",
    "    output_box = np.where(shell_condition2, 0.75*inside_sphere_mean, output_box)\n",
    "    output_box = np.where(shell_condition3, 0.5*inside_sphere_mean, output_box)\n",
    "    output_box = np.where(shell_condition4, 0.25*inside_sphere_mean, output_box)\n",
    "\n",
    "    return output_box"
   ]
  },
  {
   "cell_type": "markdown",
   "metadata": {},
   "source": [
    "## Sphere Blurring Function"
   ]
  },
  {
   "cell_type": "code",
   "execution_count": null,
   "metadata": {},
   "outputs": [],
   "source": [
    "def Sphere_Blurring(box, radius, iteration):\n",
    "    \n",
    "    box = box.copy()  # make copy of input box to have a separate box\n",
    "    \n",
    "    dist_frm_coord_box = distance_from_coordinate([radius*2+1]*3)\n",
    "\n",
    "    inside_sphere_mean_data_top_hat = []  # empty list for data collection\n",
    "    inside_sphere_mean_data_gaussian = []\n",
    "    \n",
    "    for i in range(iteration):\n",
    "        \n",
    "        rand_coord = random_voxel(box.shape)\n",
    "                \n",
    "        cube_region_indices, cube_region_box = cube_centered_about_coordinate(rand_coord, radius, box)\n",
    "        \n",
    "        inside_sphere_mean_top_hat, sphere_condition_box = top_hat_sphere_average_value(dist_frm_coord_box, radius, cube_region_box)\n",
    "\n",
    "        inside_sphere_mean_gaussian, sphere_condition_box = gaussian_sphere_average_value(dist_frm_coord_box, radius, cube_region_box)\n",
    "        # returning sphere_condition_box only for plotting box purposes, could be removed if plotting the box is no longer required\n",
    "        \n",
    "        \n",
    "        \n",
    "#         inside_sphere_mean_data_top_hat = np.append(inside_sphere_mean_data_top_hat, inside_sphere_mean_top_hat)\n",
    "#         inside_sphere_mean_data_gaussian = np.append(inside_sphere_mean_data_gaussian, inside_sphere_mean_gaussian)\n",
    "#     return np.array(inside_sphere_mean_data_top_hat), np.array(inside_sphere_mean_data_gaussian)\n",
    "\n",
    "\n",
    "        cube_region_box = np.where(sphere_condition_box, inside_sphere_mean_gaussian, cube_region_box)\n",
    "        box[cube_region_indices] = cube_region_box\n",
    "    return box"
   ]
  },
  {
   "cell_type": "markdown",
   "metadata": {},
   "source": [
    "## Cube Blurring Function"
   ]
  },
  {
   "cell_type": "code",
   "execution_count": null,
   "metadata": {},
   "outputs": [],
   "source": [
    "def Square_Blurring(box, radius, iteration):\n",
    "    box = box.copy()  # make copy of input box to have a separate box\n",
    "    for i in range(iteration):\n",
    "        np.random.seed()  # set seed to a randome number\n",
    "        \n",
    "        rand_coord = np.random.randint(radius, BOX_LEN-1-radius, size=3)  # ensure that the random center point won't be at the edge of the cube\n",
    "        \n",
    "        cube_region = box[rand_coord[0]-radius:rand_coord[0]+radius+1, rand_coord[1]-radius:rand_coord[1]+radius+1, rand_coord[2]-radius:rand_coord[2]+radius+1]\n",
    "        \n",
    "        neutral_mean = np.mean(cube_region)\n",
    "        \n",
    "        box[rand_coord[0]-radius:rand_coord[0]+radius+1, rand_coord[1]-radius:rand_coord[1]+radius+1, rand_coord[2]-radius:rand_coord[2]+radius+1] = neutral_mean\n",
    "    return box"
   ]
  },
  {
   "cell_type": "markdown",
   "metadata": {},
   "source": [
    "## Computing the sphere radius to gaussian radius ratio"
   ]
  },
  {
   "cell_type": "code",
   "execution_count": null,
   "metadata": {
    "ExecuteTime": {
     "end_time": "2020-07-03T04:54:40.581650Z",
     "start_time": "2020-07-03T04:54:40.257106Z"
    }
   },
   "outputs": [],
   "source": [
    "from scipy.integrate import simps\n",
    "from IPython.display import clear_output\n",
    "import numpy as np"
   ]
  },
  {
   "cell_type": "code",
   "execution_count": null,
   "metadata": {},
   "outputs": [],
   "source": [
    "R_g = 1.44  # place holder, guessed answer\n",
    "error = 1  # place holder\n",
    "while error > 10**-8:\n",
    "    r = np.linspace(0, R_g, 10**8)  # array of equally spaced numbers between 0 and R_g\n",
    "    g = np.exp(-r**2)*r**2\n",
    "    area = simps(g,r)  # intergral of e^-r^2 * r^2 from r=0 to r=R_g\n",
    "    error = np.abs(1/3-area)  # we equate the integral to 1/3\n",
    "    R_g += 10**-8  # increase our guess of R_g by 10^-8 & intergrate again if error doesn't meet threshold. \n",
    "    clear_output(wait=True)\n",
    "#     print(R_g)\n",
    "    print(f'R_g = {R_g:.16f}, integral = {area:.16f}, error = {error:.16e}')"
   ]
  },
  {
   "cell_type": "code",
   "execution_count": null,
   "metadata": {},
   "outputs": [],
   "source": [
    "from scipy.integrate import simps\n",
    "import numpy as np\n",
    "\n",
    "R_g = 1.4370396997748922  # place holder, guessed answer\n",
    "error = 1  # place holder\n",
    "while error > 10**-8:  # keep increasing R_g by 10^-8 while the error is below a set threshold\n",
    "    r = np.linspace(0, R_g, 10**8)  # array of equally spaced numbers between 0 and R_g\n",
    "    g = np.exp(-r**2)*r**2  # integrand\n",
    "    area = simps(g,r)  # integral of e^-r^2 * r^2 from r=0 to r=R_g using Simpson's rule\n",
    "    error = np.abs(1/3-area)  # equate the integral to 1/3, compute the error\n",
    "    R_g += 10**-8  # increase our guess of R_g by 10^-8 & integrate again if error doesn't meet threshold. \n",
    "print(f'R_g = {R_g}, integral = {area}, error = {error}')  # print relevant quantities of interest."
   ]
  },
  {
   "cell_type": "code",
   "execution_count": null,
   "metadata": {},
   "outputs": [],
   "source": [
    "print(f'R_g = {R_g},\\nintegral = {area},\\nerror = {error}')"
   ]
  },
  {
   "cell_type": "code",
   "execution_count": null,
   "metadata": {},
   "outputs": [],
   "source": [
    "1.4370396997748922 - 1.4370397097748921"
   ]
  },
  {
   "cell_type": "markdown",
   "metadata": {},
   "source": [
    "## Tuning the radius ratios of the 3 different methods"
   ]
  },
  {
   "cell_type": "code",
   "execution_count": null,
   "metadata": {},
   "outputs": [],
   "source": [
    "var_Gaussian = np.var(gaussian)\n",
    "var_sphere = np.var(sphere)\n",
    "var_cube = np.var(cube)\n",
    "\n",
    "print(var_Gaussian)\n",
    "print(var_sphere)\n",
    "print(var_cube)\n",
    "\n",
    "print(abs((var_Gaussian-var_sphere)/np.mean([var_Gaussian, var_sphere])))\n",
    "print(abs((var_Gaussian-var_cube)/np.mean([var_Gaussian, var_cube])))\n",
    "print(abs((var_cube-var_sphere)/np.mean([var_cube, var_sphere])))"
   ]
  },
  {
   "cell_type": "markdown",
   "metadata": {},
   "source": [
    "## Plotting function single plot condition"
   ]
  },
  {
   "cell_type": "code",
   "execution_count": null,
   "metadata": {},
   "outputs": [],
   "source": [
    "fs = (gaussian1, gaussian2, [1,1,1])\n",
    "fs2 = np.array(np.array([gaussian1]))\n",
    "type(fs)\n",
    "type(fs) is tuple\n",
    "type(fs2) is tuple"
   ]
  },
  {
   "cell_type": "markdown",
   "metadata": {},
   "source": [
    "## Making list of titles"
   ]
  },
  {
   "cell_type": "code",
   "execution_count": null,
   "metadata": {},
   "outputs": [],
   "source": [
    "titles = []\n",
    "for radius in radii:\n",
    "    titles = np.append(titles, f'Radius = {radius}')\n",
    "    \n",
    "print(titles)"
   ]
  },
  {
   "cell_type": "markdown",
   "metadata": {},
   "source": [
    "## Reshaping 1D array"
   ]
  },
  {
   "cell_type": "code",
   "execution_count": null,
   "metadata": {
    "ExecuteTime": {
     "end_time": "2020-07-08T23:54:48.226801Z",
     "start_time": "2020-07-08T23:54:48.108018Z"
    }
   },
   "outputs": [],
   "source": [
    "A = np.arange(1, 4)\n",
    "B = np.arange(4, 7)\n",
    "C = np.arange(7, 10)\n",
    "print(A, B, C)\n",
    "D = []\n",
    "for a in A:\n",
    "    for b in B:\n",
    "        for c in C:\n",
    "            D = np.append(D, f'{a, b, c}')\n",
    "pritnt(D)\n",
    "D = D.reshape(len(A), len(B), len(C))\n",
    "D[:,0,:]"
   ]
  },
  {
   "cell_type": "markdown",
   "metadata": {},
   "source": [
    "## Print current time"
   ]
  },
  {
   "cell_type": "code",
   "execution_count": null,
   "metadata": {},
   "outputs": [],
   "source": [
    "import time\n",
    "# time.ctime() # 'Mon Oct 18 13:35:29 2010'\n",
    "time.strftime('%l:%M%p %Z on %b %d, %Y') # ' 1:36PM EDT on Oct 18, 2010'\n",
    "# time.strftime('%l:%M%p %z on %b %d, %Y') # ' 1:36PM EST on Oct 18, 2010'"
   ]
  },
  {
   "cell_type": "code",
   "execution_count": null,
   "metadata": {
    "ExecuteTime": {
     "end_time": "2020-07-11T21:39:59.578778Z",
     "start_time": "2020-07-11T21:39:59.385839Z"
    }
   },
   "outputs": [],
   "source": [
    "import numpy as np\n",
    "1-np.exp(-1)"
   ]
  },
  {
   "cell_type": "markdown",
   "metadata": {},
   "source": [
    "## colorbar function"
   ]
  },
  {
   "cell_type": "code",
   "execution_count": 27,
   "metadata": {},
   "outputs": [],
   "source": [
    "def colorbar(mappable):\n",
    "    from mpl_toolkits.axes_grid1 import make_axes_locatable\n",
    "    import matplotlib.pyplot as plt\n",
    "    last_axes = plt.gca()\n",
    "    ax = mappable.axes\n",
    "    fig = ax.figure\n",
    "    divider = make_axes_locatable(ax)\n",
    "    cax = divider.append_axes(\"right\", size=\"5%\", pad=0.05)\n",
    "    cbar = fig.colorbar(mappable, cax=cax, label=\"Neutral Fraction\")\n",
    "    plt.sca(last_axes)\n",
    "    return cbar"
   ]
  },
  {
   "cell_type": "markdown",
   "metadata": {},
   "source": [
    "## Creating Noise Box"
   ]
  },
  {
   "cell_type": "code",
   "execution_count": 21,
   "metadata": {},
   "outputs": [],
   "source": [
    "import numpy as np\n",
    "np.random.seed()\n",
    "# np.random.seed(5) ; np.random.rand(10)\n",
    "noise_box = np.random.rand(301, 301, 301)"
   ]
  },
  {
   "cell_type": "markdown",
   "metadata": {},
   "source": [
    "## Creating plots of standard deviation of average neutral fraction distributions as a function of shell numbers and radii."
   ]
  },
  {
   "cell_type": "code",
   "execution_count": null,
   "metadata": {},
   "outputs": [],
   "source": [
    "def generate_distribution_standard_deviations():\n",
    "\n",
    "    iterations = 3*10**2\n",
    "    radii = np.arange(10, 100, 10)  # [10, 20, 30, ... 90]\n",
    "    sigma_factors = np.arange(1, 6)  # [1, 2, 3, 4, 5]\n",
    "    shell_numbers = np.arange(1, 9)  # [1, 2, 3, 4, 5, 6, 7, 8]\n",
    "    stand_devs_gaussian = []  # empty list for data collection\n",
    "    stand_devs_sphere = []\n",
    "    stand_devs_cube = []\n",
    "\n",
    "    for radius in radii:\n",
    "\n",
    "        sphere = Average_Neutral_Fraction_Distribution(\n",
    "                box=noise_box,\n",
    "                radius=radius,\n",
    "                iteration=iterations,\n",
    "                blur_shape='top_hat_sphere'\n",
    "            )\n",
    "\n",
    "        cube = Average_Neutral_Fraction_Distribution(\n",
    "                box=noise_box,\n",
    "                radius=radius,\n",
    "                iteration=iterations,\n",
    "                blur_shape='top_hat_cube'\n",
    "            )\n",
    "\n",
    "        stand_dev_sphere = np.std(sphere)\n",
    "        stand_dev_cube = np.std(cube)\n",
    "\n",
    "        for shell_num in shell_numbers:\n",
    "\n",
    "            stand_devs_sphere = np.append(stand_devs_sphere, stand_dev_sphere)\n",
    "            stand_devs_cube = np.append(stand_devs_cube, stand_dev_cube)\n",
    "\n",
    "            for sigma_factor in sigma_factors:\n",
    "\n",
    "                gaussian = Average_Neutral_Fraction_Distribution(\n",
    "                    box=noise_box,\n",
    "                    radius=radius,\n",
    "                    sigma_factor=sigma_factor,\n",
    "                    iteration=iterations,\n",
    "                    shell_num=shell_num,\n",
    "                    blur_shape='Gaussian_sphere'\n",
    "                )\n",
    "\n",
    "                stand_dev_gaussian = np.std(gaussian)\n",
    "\n",
    "                stand_devs_gaussian = np.append(stand_devs_gaussian, stand_dev_gaussian)\n",
    "\n",
    "        print(f'progress = {int(round(radius*10/len(radii)))}%')\n",
    "\n",
    "    stand_devs_gaussian = stand_devs_gaussian.reshape(len(radii), len(shell_numbers), len(sigma_factors))\n",
    "    stand_devs_sphere = stand_devs_sphere.reshape(len(radii), len(shell_numbers))\n",
    "    stand_devs_cube = stand_devs_cube.reshape(len(radii), len(shell_numbers))\n",
    "    \n",
    "    return stand_devs_gaussian, stand_devs_sphere, stand_devs_cube"
   ]
  },
  {
   "cell_type": "markdown",
   "metadata": {},
   "source": [
    "## Plotting Standard Deviations"
   ]
  },
  {
   "cell_type": "code",
   "execution_count": null,
   "metadata": {},
   "outputs": [],
   "source": [
    "stand_devs_gaussian, stand_devs_sphere, stand_devs_cube = generate_distribution_standard_deviations()\n",
    "\n",
    "\n",
    "titles = []\n",
    "for radius in radii:\n",
    "    titles = np.append(titles, f'Radius = {radius}')\n",
    "    \n",
    "plots(\n",
    "    x_vals=shell_numbers, \n",
    "    y1s=tuple(stand_devs_gaussian[:,:,0]),\n",
    "    y2s=tuple(stand_devs_gaussian[:,:,1]),\n",
    "    y3s=tuple(stand_devs_gaussian[:,:,2]),\n",
    "    y4s=tuple(stand_devs_gaussian[:,:,3]),\n",
    "    y5s=tuple(stand_devs_gaussian[:,:,4]),\n",
    "    y6s=tuple(stand_devs_sphere), \n",
    "    y7s=tuple(stand_devs_cube),\n",
    "    y1s_label='Gaus 1σ',\n",
    "    y2s_label='Gaus 2σ',\n",
    "    y3s_label='Gaus 3σ',\n",
    "    y4s_label='Gaus 4σ',\n",
    "    y5s_label='Gaus 5σ',\n",
    "    y6s_label='Sphere', \n",
    "    y7s_label='Cube',\n",
    "    shared_y_label='Standard Deviation', \n",
    "    shared_x_label='Number of Weighted Bins / Spherical Shells', \n",
    "    figure_shape=(3,3), \n",
    "    figure_size=(18,18), \n",
    "    title=titles, \n",
    "    shared_title=f'Standard Deviation of Average Neutral Fraction Distribution\\\n",
    "    (Radius Ratio 2, Random Unseeded Voxels, iterations = {iterations})',\n",
    "    vertical_gap=0.1,\n",
    "    horizontal_gap=0.2,\n",
    "    y_notation='sci',\n",
    "    share_y_axis=False,\n",
    "    figure_resolution=1000  # units: dpi\n",
    ")"
   ]
  },
  {
   "cell_type": "markdown",
   "metadata": {},
   "source": [
    "## Number of cores running"
   ]
  },
  {
   "cell_type": "code",
   "execution_count": null,
   "metadata": {},
   "outputs": [],
   "source": [
    "import os\n",
    "print(type(os.cpu_count()))"
   ]
  },
  {
   "cell_type": "markdown",
   "metadata": {},
   "source": [
    "# Documentation Figures"
   ]
  },
  {
   "cell_type": "code",
   "execution_count": 24,
   "metadata": {},
   "outputs": [],
   "source": [
    "def distance_from_coordinate(box_length):\n",
    "        \n",
    "    index = np.arange(-0.5*(box_length-1), 0.5*(box_length+1))\n",
    "\n",
    "    x_mesh, y_mesh, z_mesh = np.meshgrid(index, index, index, indexing='ij')\n",
    "    \n",
    "    distance = np.sqrt((x_mesh)**2 + (y_mesh)**2 + (z_mesh)**2)\n",
    "    \n",
    "    return distance"
   ]
  },
  {
   "cell_type": "code",
   "execution_count": 39,
   "metadata": {},
   "outputs": [],
   "source": [
    "distance_box = distance_from_coordinate(301)"
   ]
  },
  {
   "cell_type": "markdown",
   "metadata": {},
   "source": [
    "# Color function with default color: white"
   ]
  },
  {
   "cell_type": "code",
   "execution_count": 1,
   "metadata": {},
   "outputs": [],
   "source": [
    "def colorbar(mappable, plot_color='white', color_bar_label='Neutral Fraction'):\n",
    "    from mpl_toolkits.axes_grid1 import make_axes_locatable\n",
    "    last_axes = plt.gca()\n",
    "    ax = mappable.axes\n",
    "    fig = ax.figure\n",
    "    divider = make_axes_locatable(ax)\n",
    "    cax = divider.append_axes(\"right\", size=\"5%\", pad=0.05)\n",
    "    cbar = fig.colorbar(mappable, cax=cax)\n",
    "    plt.ylabel(color_bar_label, color=plot_color)\n",
    "    plt.tick_params(color=plot_color, labelcolor=plot_color)\n",
    "    plt.sca(last_axes)\n",
    "    \n",
    "    ax.tick_params(color=plot_color, labelcolor=plot_color)\n",
    "    \n",
    "    for spine in ax.spines.values():  # figure spine color\n",
    "        spine.set_edgecolor(plot_color)\n",
    "    \n",
    "    return cbar"
   ]
  },
  {
   "cell_type": "code",
   "execution_count": null,
   "metadata": {},
   "outputs": [],
   "source": [
    "color='white'\n",
    "\n",
    "import matplotlib.pyplot as plt\n",
    "\n",
    "fig, (ax1, ax2, ax3) = plt.subplots(ncols=3, figsize=(15,15))\n",
    "\n",
    "img1 = ax1.imshow(distance_box[50,:,:], origin='lower')\n",
    "colorbar(img1, color_bar_label='Distance', plot_color=color)\n",
    "ax1.set_title('x = 0 plane', color=color)\n",
    "\n",
    "img2 = ax2.imshow(distance_box[:,0,:], origin='lower')\n",
    "colorbar(img2, color_bar_label='Distance', plot_color=color)\n",
    "ax2.set_title('y = -50 plane', color=color)\n",
    "\n",
    "img3 = ax3.imshow(distance_box[:,:,100], origin='lower')\n",
    "colorbar(img3, color_bar_label='Distance', plot_color=color)\n",
    "ax3.set_title('z = 50 plane', color=color)\n",
    "\n",
    "plt.tight_layout(h_pad=1)"
   ]
  },
  {
   "cell_type": "code",
   "execution_count": null,
   "metadata": {},
   "outputs": [],
   "source": [
    "def cube_centered_about_coordinate(coordinate_array, radius, box):\n",
    "    box = box.copy()\n",
    "    \n",
    "    x_ind1 = int(coordinate_array[0]-radius)  # x-domian\n",
    "    x_ind2 = int(coordinate_array[0]+radius+1)  # ending index is not inclusive\n",
    "    y_ind1 = int(coordinate_array[1]-radius)  # y-domain\n",
    "    y_ind2 = int(coordinate_array[1]+radius+1)\n",
    "    z_ind1 = int(coordinate_array[2]-radius)  # z-domain\n",
    "    z_ind2 = int(coordinate_array[2]+radius+1)\n",
    "        \n",
    "    if x_ind1 < 0:  # periodic boundary conditions\n",
    "        x_inds = np.r_[(x_ind1+len(box)):len(box), 0:x_ind2]\n",
    "    elif x_ind2 > len(box):\n",
    "        x_inds = np.r_[x_ind1:len(box), 0:(x_ind2-len(box))]\n",
    "    else:\n",
    "        x_inds = np.r_[x_ind1:x_ind2]\n",
    "\n",
    "    if y_ind1 < 0:\n",
    "        y_inds = np.r_[(y_ind1+len(box)):len(box), 0:y_ind2]\n",
    "    elif y_ind2 > len(box):\n",
    "        y_inds = np.r_[y_ind1:len(box), 0:(y_ind2-len(box))]\n",
    "    else:\n",
    "        y_inds = np.r_[y_ind1:y_ind2]\n",
    "\n",
    "    if z_ind1 < 0:\n",
    "        z_inds = np.r_[(z_ind1+len(box)):len(box), 0:z_ind2]\n",
    "    elif z_ind2 > len(box):\n",
    "        z_inds = np.r_[z_ind1:len(box), 0:(z_ind2-len(box))]\n",
    "    else:\n",
    "        z_inds = np.r_[z_ind1:z_ind2]\n",
    "            \n",
    "    indices = np.ix_(x_inds, y_inds, z_inds)\n",
    "        \n",
    "    try:\n",
    "        output_box = box[indices]\n",
    "        mean = np.mean(output_box)\n",
    "        box[indices] = mean\n",
    "    except IndexError:\n",
    "        print(f'coordinate array = {coordinate_array}')\n",
    "        print(f'radius = {radius}')\n",
    "        print(f'box length = {len(box)}')\n",
    "        print(f'x_ind1 = {x_ind1}')\n",
    "        print(f'x_ind2 = {x_ind2}')\n",
    "        print(f'x_inds = {x_inds}')\n",
    "        print(f'x_ind1 = {y_ind1}')\n",
    "        print(f'x_ind2 = {y_ind2}')\n",
    "        print(f'y_inds = {y_inds}')\n",
    "        print(f'x_ind1 = {z_ind1}')\n",
    "        print(f'x_ind2 = {z_ind2}')\n",
    "        print(f'z_inds = {z_inds}')\n",
    "        \n",
    "    return box"
   ]
  },
  {
   "cell_type": "code",
   "execution_count": null,
   "metadata": {},
   "outputs": [],
   "source": [
    "periodicBCs_box = cube_centered_about_coordinate([0, 300, 50], 100, noise_box)"
   ]
  },
  {
   "cell_type": "code",
   "execution_count": null,
   "metadata": {},
   "outputs": [],
   "source": [
    "color='k'\n",
    "\n",
    "import matplotlib.pyplot as plt\n",
    "\n",
    "fig, (ax1, ax2, ax3) = plt.subplots(ncols=3, figsize=(15,15))\n",
    "\n",
    "img1 = ax1.imshow(periodicBCs_box[0,:,:], origin='lower')\n",
    "colorbar(img1, color_bar_label='Abitrary', plot_color=color)\n",
    "ax1.set_title('x = 0 plane', color=color)\n",
    "\n",
    "img2 = ax2.imshow(periodicBCs_box[:,300,:], origin='lower')\n",
    "colorbar(img2, color_bar_label='Abitrary', plot_color=color)\n",
    "ax2.set_title('y = 300 plane', color=color)\n",
    "\n",
    "img3 = ax3.imshow(periodicBCs_box[:,:,50], origin='lower')\n",
    "colorbar(img3, color_bar_label='Abitrary', plot_color=color)\n",
    "ax3.set_title('z = 50 plane', color=color)\n",
    "\n",
    "plt.tight_layout(h_pad=1)"
   ]
  },
  {
   "cell_type": "code",
   "execution_count": 40,
   "metadata": {},
   "outputs": [],
   "source": [
    "def Gaussian(x, sigma):  # μ=0, σ=1/sqrt(2), π=1\n",
    "    Gaussian = np.exp(-(x/sigma)**2)\n",
    "    return Gaussian"
   ]
  },
  {
   "cell_type": "code",
   "execution_count": 41,
   "metadata": {},
   "outputs": [],
   "source": [
    "def gaussian_sphere_average(distance_box, radius, input_box, shell_num, sigma_factor):\n",
    "    \n",
    "    mean = []\n",
    "\n",
    "    shell_radius_edges = np.linspace(0,1,shell_num+1)\n",
    "    # sigma_factor number of sigmas the weighting goes out to, sigma = radius\n",
    "\n",
    "    \n",
    "    \n",
    "# ======================================================================================================================\n",
    "    # Radius Ratio 1\n",
    "#     shell_center = 0.5*(shell_radius_edges[1:] + shell_radius_edges[:-1])*sigma_factor \n",
    "#     weight = Gaussian(x=shell_center, sigma=1)\n",
    "    \n",
    "    # Radius Ratio 2\n",
    "    shell_center = 0.5*(shell_radius_edges[1:] + shell_radius_edges[:-1])*sigma_factor*radius\n",
    "    weights = Gaussian(x=shell_center, sigma=radius)\n",
    "# ======================================================================================================================\n",
    "\n",
    "\n",
    "    output_box = input_box.copy()\n",
    "\n",
    "    for ii, weight in enumerate(weights):\n",
    "        condition = np.logical_and(\n",
    "            distance_box <= shell_radius_edges[ii+1]*radius, \n",
    "            distance_box > shell_radius_edges[ii]*radius\n",
    "        )\n",
    "        inside_shell_mean = np.mean(input_box[condition])\n",
    "#         mean = np.append(mean, inside_shell_mean)\n",
    "        output_box = np.where(condition, weight*inside_shell_mean, output_box)\n",
    "        \n",
    "        \n",
    "#     Gaussian_mean = np.average(mean, weights=weight)\n",
    "    \n",
    "    return output_box"
   ]
  },
  {
   "cell_type": "code",
   "execution_count": 46,
   "metadata": {},
   "outputs": [],
   "source": [
    "shells_box = gaussian_sphere_average(distance_box=distance_box, radius=150, input_box=noise_box, shell_num=1, sigma_factor=2)"
   ]
  },
  {
   "cell_type": "code",
   "execution_count": 49,
   "metadata": {},
   "outputs": [
    {
     "data": {
      "image/png": "[encoded data removed]",
      "text/plain": [
       "<Figure size 1080x1080 with 6 Axes>"
      ]
     },
     "metadata": {
      "needs_background": "light"
     },
     "output_type": "display_data"
    }
   ],
   "source": [
    "color='k'\n",
    "\n",
    "import matplotlib.pyplot as plt\n",
    "\n",
    "fig, (ax1, ax2, ax3) = plt.subplots(ncols=3, figsize=(15,15))\n",
    "\n",
    "img1 = ax1.imshow(shells_box[150,:,:], origin='lower')\n",
    "colorbar(img1, color_bar_label='Abitrary', plot_color=color)\n",
    "ax1.set_title('x = 150 plane', color=color)\n",
    "\n",
    "img2 = ax2.imshow(shells_box[:,150,:], origin='lower')\n",
    "colorbar(img2, color_bar_label='Abitrary', plot_color=color)\n",
    "ax2.set_title('y = 150 plane', color=color)\n",
    "\n",
    "img3 = ax3.imshow(shells_box[:,:,150], origin='lower')\n",
    "colorbar(img3, color_bar_label='Abitrary', plot_color=color)\n",
    "ax3.set_title('z = 150 plane', color=color)\n",
    "\n",
    "plt.tight_layout(h_pad=1)"
   ]
  },
  {
   "cell_type": "raw",
   "metadata": {},
   "source": [
    "from datetime import datetime\n",
    "import time\n",
    "from datetime import datetime, timedelta\n",
    "from pytz import timezone\n",
    "import pytz"
   ]
  },
  {
   "cell_type": "code",
   "execution_count": null,
   "metadata": {
    "scrolled": true
   },
   "outputs": [],
   "source": [
    "import numpy as np\n",
    "radii = np.arange(1, 11)\n",
    "current_time = datetime.now()\n",
    "for i in range(len(radii)):\n",
    "    \n",
    "    time.sleep(i+1)\n",
    "    previous_time = current_time\n",
    "    current_time = datetime.now()\n",
    "    loop_time = current_time - previous_time\n",
    "    print(f'progress = {int(round((i+1)*100/len(radii)))}%\\\n",
    ", local time = {current_time}, loop executed in ={loop_time}')"
   ]
  },
  {
   "cell_type": "code",
   "execution_count": null,
   "metadata": {},
   "outputs": [],
   "source": [
    "%%timeit\n",
    "datetime.now()"
   ]
  },
  {
   "cell_type": "code",
   "execution_count": null,
   "metadata": {},
   "outputs": [],
   "source": [
    "%%timeit\n",
    "time.strftime('%l:%M%p %Z on %b %d, %Y') # ' 1:36PM EDT on Oct 18, 2010'"
   ]
  },
  {
   "cell_type": "code",
   "execution_count": null,
   "metadata": {},
   "outputs": [],
   "source": [
    "%%timeit\n",
    "time.ctime() # 'Mon Oct 18 13:35:29 2010'"
   ]
  },
  {
   "cell_type": "code",
   "execution_count": null,
   "metadata": {},
   "outputs": [],
   "source": [
    "%%timeit\n",
    "time.strftime('%l:%M%p %z on %b %d, %Y') # ' 1:36PM EST on Oct 18, 2010'"
   ]
  },
  {
   "cell_type": "code",
   "execution_count": null,
   "metadata": {},
   "outputs": [],
   "source": [
    "datetime.now?"
   ]
  },
  {
   "cell_type": "code",
   "execution_count": null,
   "metadata": {},
   "outputs": [],
   "source": [
    "from datetime import datetime, date"
   ]
  },
  {
   "cell_type": "code",
   "execution_count": null,
   "metadata": {},
   "outputs": [],
   "source": [
    "%%timeit\n",
    "start = datetime.now().time()\n",
    "time.sleep(3)\n",
    "end = datetime.now().time()\n",
    "datetime.combine(date.min, end) - datetime.combine(date.min, start)"
   ]
  },
  {
   "cell_type": "code",
   "execution_count": null,
   "metadata": {},
   "outputs": [],
   "source": [
    "from datetime import timedelta"
   ]
  },
  {
   "cell_type": "code",
   "execution_count": null,
   "metadata": {},
   "outputs": [],
   "source": [
    "%%timeit\n",
    "\n",
    "start = datetime.now().time()\n",
    "time.sleep(3)\n",
    "end = datetime.now().time()\n",
    "\n",
    "t1 = timedelta(hours=start.hour, minutes=start.minute, seconds=start.second)\n",
    "t2 = timedelta(hours=end.hour, minutes=end.minute, seconds=end.second)\n",
    "\n",
    "duration = t2 - t1"
   ]
  },
  {
   "cell_type": "code",
   "execution_count": null,
   "metadata": {},
   "outputs": [],
   "source": [
    "BOX_LEN=300\n",
    "HII_DIM=450\n",
    "print(np.array([int(round(radius*((4/3/np.sqrt(np.pi))**(1/3))*13/4)) for radius in np.arange(51, 3, -3)]))  # 13/4 --> speculated correction factor\n",
    "print(np.arange(51, 3, -3)*BOX_LEN/HII_DIM)\n",
    "BOX_LEN/HII_DIM"
   ]
  },
  {
   "cell_type": "markdown",
   "metadata": {},
   "source": [
    "## Set logger to log caching activity\n"
   ]
  },
  {
   "cell_type": "code",
   "execution_count": null,
   "metadata": {},
   "outputs": [],
   "source": [
    "logger = logging.getLogger('21cmFAST')\n",
    "logger.setLevel(logging.INFO)"
   ]
  },
  {
   "cell_type": "markdown",
   "metadata": {},
   "source": [
    "## Version of 21cmFAST"
   ]
  },
  {
   "cell_type": "code",
   "execution_count": null,
   "metadata": {},
   "outputs": [],
   "source": [
    "print(f\"Using 21cmFAST version {p21c.__version__}\")"
   ]
  },
  {
   "cell_type": "code",
   "execution_count": 1,
   "metadata": {},
   "outputs": [],
   "source": [
    "%matplotlib inline\n",
    "import matplotlib.pyplot as plt\n",
    "import numpy as np\n",
    "import py21cmfast as p21c\n",
    "# import caffeine\n",
    "from datetime import datetime\n",
    "import time\n",
    "import logging, sys, os\n",
    "import tools21cm as t2c"
   ]
  },
  {
   "cell_type": "markdown",
   "metadata": {},
   "source": [
    "## Number of cores running"
   ]
  },
  {
   "cell_type": "code",
   "execution_count": 3,
   "metadata": {},
   "outputs": [
    {
     "name": "stdout",
     "output_type": "stream",
     "text": [
      "Number of threads running = 16\n"
     ]
    }
   ],
   "source": [
    "print(f'Number of threads running = {os.cpu_count()}')"
   ]
  },
  {
   "cell_type": "markdown",
   "metadata": {},
   "source": [
    "## Reset cache location "
   ]
  },
  {
   "cell_type": "code",
   "execution_count": 4,
   "metadata": {},
   "outputs": [],
   "source": [
    "p21c.config['direc'] = '/lustre/aoc/projects/hera/wchin/21cmFAST-cache'"
   ]
  },
  {
   "cell_type": "markdown",
   "metadata": {},
   "source": [
    "# MFP Method"
   ]
  },
  {
   "cell_type": "code",
   "execution_count": 5,
   "metadata": {},
   "outputs": [],
   "source": [
    "cosmo_params = p21c.CosmoParams()"
   ]
  },
  {
   "cell_type": "code",
   "execution_count": 6,
   "metadata": {},
   "outputs": [],
   "source": [
    "BOX_LEN=301\n",
    "HII_DIM=301\n",
    "\n",
    "user_params = p21c.UserParams(\n",
    "    BOX_LEN=BOX_LEN,  # Box length in Mpc\n",
    "    DIM=4*HII_DIM,      # Number of Voxels for hight resolution \n",
    "    HII_DIM=HII_DIM,  # Number of Voxels for low resolution \n",
    "    N_THREADS=os.cpu_count()\n",
    ")"
   ]
  },
  {
   "cell_type": "code",
   "execution_count": 7,
   "metadata": {},
   "outputs": [
    {
     "name": "stdout",
     "output_type": "stream",
     "text": [
      "Excution qued at 2020-07-29 09:53:40.491829\n",
      "Execution completed at 2020-07-29 09:56:50.261014\n",
      "Execution time = 0:03:09.769185\n"
     ]
    }
   ],
   "source": [
    "start_time = datetime.now()\n",
    "print(f'Excution qued at {start_time}')\n",
    "\n",
    "init_cond = p21c.initial_conditions(\n",
    "    cosmo_params=cosmo_params,\n",
    "    user_params=user_params,\n",
    ")\n",
    "\n",
    "end_time = datetime.now()\n",
    "execution_time = end_time - start_time\n",
    "print(f'Execution completed at {end_time}')\n",
    "print(f'Execution time = {execution_time}')"
   ]
  },
  {
   "cell_type": "code",
   "execution_count": 16,
   "metadata": {},
   "outputs": [],
   "source": [
    "# redshifts = np.arange(8.5, 4, -0.5)\n",
    "\n",
    "    # temporary\n",
    "# ====================================================================================================================\n",
    "redshifts = np.array([6.5])\n",
    "# ====================================================================================================================\n",
    "\n",
    "ionized_boxes = np.zeros((len(redshifts), HII_DIM, HII_DIM, HII_DIM))\n",
    "\n",
    "for i, z in enumerate(redshifts):\n",
    "    ionized_box = p21c.ionize_box(redshift=z, init_boxes=init_cond).xH_box\n",
    "    ionized_boxes[i] = ionized_box"
   ]
  },
  {
   "cell_type": "code",
   "execution_count": 17,
   "metadata": {
    "scrolled": true
   },
   "outputs": [
    {
     "name": "stdout",
     "output_type": "stream",
     "text": [
      "MFP method applied on 2D data (ver 1.0)\n",
      "Completed: 100.0%\n",
      "Program runtime: 0.481053 minutes.\n",
      "The output contains a tuple with three values: r, rdP/dr\n",
      "The curve has been normalized.\n"
     ]
    }
   ],
   "source": [
    "r_mfpFalse, dn_mfpFalse = t2c.mfp(ionized_box[0], boxsize=BOX_LEN)"
   ]
  },
  {
   "cell_type": "code",
   "execution_count": 18,
   "metadata": {
    "scrolled": true
   },
   "outputs": [
    {
     "name": "stdout",
     "output_type": "stream",
     "text": [
      "MFP method applied on 2D data (ver 1.0)\n",
      "Completed: 100.0%\n",
      "Program runtime: 0.491497 minutes.\n",
      "The output contains a tuple with three values: r, rdP/dr\n",
      "The curve has been normalized.\n"
     ]
    }
   ],
   "source": [
    "r_mfp_10bins, dn_mfp_10bins = t2c.mfp(ionized_box[0], boxsize=BOX_LEN, bins=int(1e5))"
   ]
  },
  {
   "cell_type": "code",
   "execution_count": 21,
   "metadata": {},
   "outputs": [
    {
     "name": "stdout",
     "output_type": "stream",
     "text": [
      "(425,)\n",
      "(425,)\n",
      "(100000,)\n",
      "(100000,)\n"
     ]
    }
   ],
   "source": [
    "print(r_mfpFalse.shape)\n",
    "print(dn_mfpFalse.shape)\n",
    "print(r_mfp_10bins.shape)\n",
    "print(dn_mfp_10bins.shape)"
   ]
  },
  {
   "cell_type": "code",
   "execution_count": 23,
   "metadata": {},
   "outputs": [
    {
     "data": {
      "image/png": "[encoded data removed]",
      "text/plain": [
       "<Figure size 1296x864 with 1 Axes>"
      ]
     },
     "metadata": {
      "needs_background": "dark"
     },
     "output_type": "display_data"
    }
   ],
   "source": [
    "color = 'white'\n",
    "plt.figure(figsize=(18, 12))\n",
    "plt.plot(r_mfpFalse, dn_mfpFalse, '-o', label='upper_lim=False, Neutral Region')\n",
    "plt.plot(r_mfp_10bins, dn_mfp_10bins, '.', label='upper_lim=True, Ionized Region')\n",
    "plt.tick_params(color=color, labelcolor=color)\n",
    "plt.xlabel('$R$ (Mpc)', color=color)\n",
    "plt.ylabel('$R\\mathrm{d}P/\\mathrm{d}R$', color=color)\n",
    "plt.title(f'Region Size Distribution of Neutral Fraction Box, z={redshifts[0]}', color=color)\n",
    "plt.legend()\n",
    "plt.rcParams['font.size'] = 18"
   ]
  },
  {
   "cell_type": "code",
   "execution_count": 37,
   "metadata": {},
   "outputs": [
    {
     "data": {
      "image/png": "[encoded data removed]",
      "text/plain": [
       "<Figure size 1296x1296 with 2 Axes>"
      ]
     },
     "metadata": {
      "needs_background": "dark"
     },
     "output_type": "display_data"
    }
   ],
   "source": [
    "color = 'white'\n",
    "\n",
    "fig, axes = plt.subplots(2, 1, figsize=(18, 18), gridspec_kw={\"hspace\":0.25},\n",
    ")\n",
    "axes.flatten()[0].plot(r_mfpFalse, dn_mfpFalse, '-o', label='upper_lim=False, Neutral Region')\n",
    "axes.flatten()[0].plot(r_mfp_10bins, dn_mfp_10bins, '.', label='upper_lim=True, Ionized Region')\n",
    "axes.flatten()[0].tick_params(color=color, labelcolor=color)\n",
    "axes.flatten()[0].set_xlabel('$R$ (Mpc)', color=color)\n",
    "axes.flatten()[0].set_ylabel('$R\\mathrm{d}P/\\mathrm{d}R$', color=color)\n",
    "axes.flatten()[0].set_title(f'Region Size Distribution of Neutral Fraction Box, z={redshift}', color=color)\n",
    "axes.flatten()[0].legend()\n",
    "axes.flatten()[1].plot(r_mfpFalse[5:21], dn_mfpFalse[5:21], '-o', label='upper_lim=False')\n",
    "axes.flatten()[1].plot([r_mfpFalse[np.argmax(dn_mfpFalse)]]*2, [min(dn_mfpFalse),1.05*max(dn_mfpFalse)], label=f'r={r_mfpFalse[np.argmax(dn_mfpFalse)]}')\n",
    "axes.flatten()[1].tick_params(color=color, labelcolor=color)\n",
    "axes.flatten()[1].set_xlabel('$R$ (Mpc)', color=color)\n",
    "axes.flatten()[1].set_ylabel('$R\\mathrm{d}P/\\mathrm{d}R$', color=color)\n",
    "axes.flatten()[1].set_title('Zoomed in on upper_lim=False', color=color)\n",
    "axes.flatten()[1].legend()\n",
    "plt.rcParams['font.size'] = 18"
   ]
  },
  {
   "cell_type": "code",
   "execution_count": null,
   "metadata": {},
   "outputs": [],
   "source": [
    "plt.plot(r_mfpIon, dn_mfpIon-dn_mfp)\n",
    "plt.ticklabel_format(axis='y', style='sci', scilimits=(0,0), useMathText=True)\n"
   ]
  },
  {
   "cell_type": "code",
   "execution_count": null,
   "metadata": {},
   "outputs": [],
   "source": []
  },
  {
   "cell_type": "code",
   "execution_count": null,
   "metadata": {},
   "outputs": [],
   "source": [
    "r_spa, dn_spa = t2c.spa(xHII, boxsize=BOX_LEN, nscales=100)\n"
   ]
  },
  {
   "cell_type": "code",
   "execution_count": null,
   "metadata": {},
   "outputs": [],
   "source": [
    "plt.rcParams['figure.figsize'] = [15, 10]\n",
    "\n",
    "plt.plot(r_spa[:50], dn_spa[:50])\n",
    "\n",
    "plt.xlabel('$R$')\n",
    "plt.ylabel('$R\\mathrm{d}P/\\mathrm{d}R$')\n",
    "\n",
    "plt.show()"
   ]
  },
  {
   "cell_type": "code",
   "execution_count": null,
   "metadata": {},
   "outputs": [],
   "source": [
    "labelled_map, volumes = t2c.fof(xHII, use_skimage=True)\n",
    "fof_dist = t2c.plot_fof_sizes(volumes, bins=30, boxsize=BOX_LEN)"
   ]
  },
  {
   "cell_type": "code",
   "execution_count": null,
   "metadata": {},
   "outputs": [],
   "source": [
    "plt.rcParams['figure.figsize'] = [7, 5]\n",
    "\n",
    "plt.step(fof_dist[0], fof_dist[1])\n",
    "plt.xscale('log')\n",
    "plt.yscale('log')\n",
    "plt.ylim(fof_dist[2],1)\n",
    "\n",
    "plt.xlabel('$V$')\n",
    "plt.ylabel('$V^2\\mathrm{d}P/\\mathrm{d}V$')\n",
    "\n",
    "plt.show()"
   ]
  },
  {
   "cell_type": "code",
   "execution_count": null,
   "metadata": {},
   "outputs": [],
   "source": [
    "A = np.arange(6).reshape(2,3)\n",
    "more_then_1_indeces = np.argwhere(A>1)"
   ]
  },
  {
   "cell_type": "code",
   "execution_count": null,
   "metadata": {},
   "outputs": [],
   "source": [
    "more_then_1_indeces.shape"
   ]
  },
  {
   "cell_type": "code",
   "execution_count": null,
   "metadata": {},
   "outputs": [],
   "source": [
    "np.random.randint(0, high=5, size=5)"
   ]
  },
  {
   "cell_type": "code",
   "execution_count": null,
   "metadata": {},
   "outputs": [],
   "source": [
    "import numpy as np\n",
    "from scipy.interpolate import RegularGridInterpolator\n",
    "import sys\n",
    "\n",
    "def mfp3d(arr, xth=0.5, iterations=10000000, verbose=True):\n",
    "    #3D interpolation is required\n",
    "    #RegularGridInterpolator in scipy(>0.14) is used to do the interpolation\n",
    "\n",
    "    info = arr.shape  # dimentions of the data box\n",
    "    longest = max(arr.shape)  # longest axis\n",
    "    num_sz  = np.zeros(longest)  # place holder with length of the longest axis\n",
    "\n",
    "    ar  = np.zeros(arr.shape)  # place holder with data box shape\n",
    "    ar[arr >= xth] = 1  # generating a binary box, xth = threshold\n",
    "\n",
    "    loc = np.argwhere(ar == 1)  # locations of ionized cells\n",
    "    rand_loc = np.random.randint(0, high=loc.shape[0], size=iterations)  # iterations number of random ionized locations\n",
    "    #==================================================================================\n",
    "    thetas   = np.random.randint(0, 360, size=iterations)  # should it be 0 to 180 deg?\n",
    "    #==================================================================================\n",
    "\n",
    "    phis     = np.random.randint(0, 360, size=iterations)\n",
    "    ls       = np.sin(thetas*np.pi/180)*np.cos(phis*np.pi/180)  # dx\n",
    "    ms       = np.sin(thetas*np.pi/180)*np.sin(phis*np.pi/180)  # dy\n",
    "    ns       = np.cos(thetas*np.pi/180)  # dz\n",
    "    xs,ys,zs = loc[rand_loc,0],loc[rand_loc,1],loc[rand_loc,2]  # slicing ionized locations with [randome coordinate, (x,y,z)]\n",
    "\n",
    "    interp_func = RegularGridInterpolator((np.arange(info[0]), np.arange(info[1]), np.arange(info[2])), ar, bounds_error=False, fill_value=0)\n",
    "\n",
    "    #==================================================================================\n",
    "    for rr in range(longest):  # steping 1 step along the ray for all directions.\n",
    "    # should it be sqrt(longestX^2, longestY^2, longestZ^2)?\n",
    "    # motivation: no rays will be longer than the longest axis?\n",
    "    #==================================================================================\n",
    "\n",
    "        xs,ys,zs = xs+ls,ys+ms,zs+ns  # steping by dx, dy, dz\n",
    "        pts    = np.vstack((xs,ys,zs)).T\n",
    "        vals   = interp_func(pts)\n",
    "        check  = np.argwhere(vals<=0.5)  # coordinates that are outsise ionized regions.\n",
    "        num_sz[rr] = check.shape[0]  # record the number of new rays terminated in this loop\n",
    "        xs,ys,zs = np.delete(xs, check),np.delete(ys, check),np.delete(zs, check)  # for the terminated rays,\n",
    "        ls,ms,ns = np.delete(ls, check),np.delete(ms, check),np.delete(ns, check)  # delete the forward step \n",
    "        if verbose:\n",
    "            perc = (rr+1)*100/longest\n",
    "            msg  = '%.1f'%perc + '%'\n",
    "            loading_verbose(msg)\n",
    "        if not xs.size: break\n",
    "    msg  = '100.0' + '%'\n",
    "    loading_verbose(msg)\n",
    "    size_px = np.arange(longest)\n",
    "    return num_sz, size_px\n",
    "\n",
    "def mfp2d(arr, xth=0.5, iterations=1000000, verbose=True):\n",
    "    #2D interpolation is required\n",
    "    #RegularGridInterpolator in scipy(>0.14) is used to do the interpolation\n",
    "\n",
    "    info    = arr.shape\n",
    "    longy\t= max([info[0], info[1]])\n",
    "    longest = int(np.sqrt(2)*longy)\n",
    "    num_sz  = np.zeros(longest)\n",
    "\n",
    "    ar  = np.zeros(arr.shape)\n",
    "    ar[arr >= xth] = 1\n",
    "\n",
    "    loc = np.argwhere(ar == 1)\n",
    "    rand_loc = np.random.randint(0, high=loc.shape[0], size=iterations)\n",
    "    thetas   = np.random.randint(0, 360, size=iterations)\n",
    "    ls       = np.sin(thetas*np.pi/180)\n",
    "    ms       = np.cos(thetas*np.pi/180)\n",
    "\n",
    "    xs,ys    = loc[rand_loc,0],loc[rand_loc,1]\n",
    "\n",
    "    interp_func = RegularGridInterpolator((np.arange(info[0]), np.arange(info[1])), ar, bounds_error=False, fill_value=0)\n",
    "\n",
    "    for rr in range(longest):\n",
    "        xs,ys  = xs+ls,ys+ms\n",
    "        pts    = np.vstack((xs,ys)).T\n",
    "        vals   = interp_func(pts)\n",
    "        check  = np.argwhere(vals<=0.5)\n",
    "        num_sz[rr] = check.shape[0]\n",
    "        xs,ys  = np.delete(xs, check),np.delete(ys, check)\n",
    "        ls,ms  = np.delete(ls, check),np.delete(ms, check)\n",
    "        if verbose:\n",
    "            perc = (rr+1)*100/longest\n",
    "            msg  = '%.1f'%perc + '%'\n",
    "            loading_verbose(msg)\n",
    "        if not xs.size: break\n",
    "    msg  = '100.0' + '%'\n",
    "    loading_verbose(msg)\n",
    "    size_px = np.arange(longest)\n",
    "    return num_sz, size_px\n",
    "\n",
    "\n",
    "def loading_verbose(string):\n",
    "    msg = (\"Completed: \" + string )\n",
    "    sys.stdout.write('\\r'+msg)\n",
    "    sys.stdout.flush()"
   ]
  },
  {
   "cell_type": "code",
   "execution_count": null,
   "metadata": {},
   "outputs": [],
   "source": [
    "np.vstack((1,1,1)).T"
   ]
  },
  {
   "cell_type": "code",
   "execution_count": null,
   "metadata": {},
   "outputs": [],
   "source": [
    "np.hstack((1,1,1)).T"
   ]
  },
  {
   "cell_type": "code",
   "execution_count": null,
   "metadata": {},
   "outputs": [],
   "source": [
    "t2c.conv.LB?"
   ]
  },
  {
   "cell_type": "code",
   "execution_count": null,
   "metadata": {},
   "outputs": [],
   "source": [
    "bins = [10,2]\n",
    "np.array(bins).size"
   ]
  },
  {
   "cell_type": "code",
   "execution_count": null,
   "metadata": {},
   "outputs": [],
   "source": [
    "r_min = 1\n",
    "r_max = 100\n",
    "bins = 10\n",
    "10**np.linspace(np.log10(r_min), np.log10(r_max), bins)"
   ]
  },
  {
   "cell_type": "code",
   "execution_count": null,
   "metadata": {},
   "outputs": [],
   "source": [
    "import scipy as sp"
   ]
  },
  {
   "cell_type": "code",
   "execution_count": null,
   "metadata": {},
   "outputs": [],
   "source": [
    "def rebin_bsd(rr, pp, bins=10, r_min=None, r_max=None):\n",
    "    fp = sp.interpolate.interp1d(rr, pp, kind='linear')\n",
    "    if np.array(bins).size == 1:\n",
    "        if r_min is None: r_min = rr.min()+1\n",
    "        if r_max is None: r_max = rr.max()-10\n",
    "        rs = 10**np.linspace(np.log10(r_min), np.log10(r_max), bins)\n",
    "    else: rs = np.array(bins)\n",
    "    return rs, fp(rs)"
   ]
  },
  {
   "cell_type": "code",
   "execution_count": null,
   "metadata": {},
   "outputs": [],
   "source": [
    "x = np.linspace(-1, 1, 10**3)\n",
    "noise = (np.random.rand(len(x))-0.5)\n",
    "f = np.exp(-x)"
   ]
  },
  {
   "cell_type": "code",
   "execution_count": null,
   "metadata": {},
   "outputs": [],
   "source": [
    "x_log, f_log = rebin_bsd(x, f, bins=int(len(x)*1), r_min = np.min(x), r_max = np.max(x))"
   ]
  },
  {
   "cell_type": "code",
   "execution_count": null,
   "metadata": {},
   "outputs": [],
   "source": [
    "f1 = sp.interpolate.interp1d(x, f, kind='cubic')"
   ]
  },
  {
   "cell_type": "markdown",
   "metadata": {},
   "source": [
    "x_new = np.linspace(0, 1, 500)\n",
    "f1s = f1(x_new)"
   ]
  },
  {
   "cell_type": "code",
   "execution_count": null,
   "metadata": {
    "scrolled": false
   },
   "outputs": [],
   "source": [
    "plt.figure(figsize=(11,6))\n",
    "plt.semilogy(x, f, '.', label='signal + noise', alpha=0.5)\n",
    "plt.semilogy(x_log, f_log, '.', label='log scale grid')\n",
    "# plt.plot(x_new, f1s, '-', label='interpolate')\n",
    "# plt.plot(x[1:-10:], f[1:-10:]-noise[1:-10:], 'k', label='signal')\n",
    "plt.legend()"
   ]
  },
  {
   "cell_type": "code",
   "execution_count": null,
   "metadata": {},
   "outputs": [],
   "source": [
    "plt.figure(figsize=(11, 6))\n",
    "plt.plot(x, x_log)"
   ]
  },
  {
   "cell_type": "code",
   "execution_count": null,
   "metadata": {},
   "outputs": [],
   "source": [
    "np.allclose(f, f1s)"
   ]
  },
  {
   "cell_type": "code",
   "execution_count": null,
   "metadata": {},
   "outputs": [],
   "source": [
    "x = np.linspace(-10, 10, 10**3+1)\n",
    "noise = (np.random.rand(len(x))-0.5)*10**-1\n",
    "gaussian = np.exp(-(x/0.5)**2)\n",
    "noisy_gaussian = np.exp(-(x/0.5)**2) + noise\n",
    "Re_FFT = 0.03*np.real(np.fft.fftshift(np.fft.fft(np.fft.fftshift(noisy_gaussian))))\n",
    "Re_FFT_split = 0.03*(np.real(np.fft.fftshift(np.fft.fft(np.fft.fftshift(gaussian)))) + np.real(np.fft.fftshift(np.fft.fft(np.fft.fftshift(noise)))))\n",
    "Im_FFT = 0.1*np.imag(np.fft.fftshift(np.fft.fft(np.fft.fftshift(noisy_gaussian))))"
   ]
  },
  {
   "cell_type": "code",
   "execution_count": null,
   "metadata": {
    "scrolled": false
   },
   "outputs": [],
   "source": [
    "plt.figure(figsize=(18,10))\n",
    "plt.plot(x, noisy_gaussian, label='noisy gaussian')\n",
    "plt.plot(x, Re_FFT, label='Re{FFT(noisy gaussian)}')\n",
    "# plt.plot(x, Re_FFT_split, '--', label='Re{FFT(gaussian) + FFT(noise)}')\n",
    "# plt.plot(x, Im_FFT, label='Im{FFT(noisy gaussian)}')\n",
    "plt.legend()\n",
    "plt.tick_params(labelcolor='white', color='white')"
   ]
  },
  {
   "cell_type": "code",
   "execution_count": null,
   "metadata": {},
   "outputs": [],
   "source": [
    "from scipy.interpolate import interp1d\n",
    "x = np.linspace(0, 10, num=11, endpoint=True)\n",
    "y = np.cos(-x**2/9.0)\n",
    "f = interp1d(x, y)\n",
    "f2 = interp1d(x, y, kind='cubic')\n",
    "\n",
    "xnew = np.linspace(0, 10, num=41, endpoint=True)\n",
    "import matplotlib.pyplot as plt\n",
    "plt.plot(x, y, 'o', xnew, f(xnew), '-', xnew, f2(xnew), '--')\n",
    "plt.legend(['data', 'linear', 'cubic'], loc='best')\n",
    "plt.show()"
   ]
  },
  {
   "cell_type": "code",
   "execution_count": null,
   "metadata": {},
   "outputs": [],
   "source": [
    "import numpy as np\n",
    "from scipy.interpolate import Rbf\n",
    "import matplotlib.pyplot as plt\n",
    "from matplotlib import cm\n",
    "# 2-d tests - setup scattered data\n",
    "x = np.random.rand(100)*4.0-2.0\n",
    "y = np.random.rand(100)*4.0-2.0\n",
    "z = x*np.exp(-x**2-y**2)\n",
    "edges = np.linspace(-2.0, 2.0, 101)\n",
    "centers = edges[:-1] + np.diff(edges[:2])[0] / 2.\n",
    "XI, YI = np.meshgrid(centers, centers)\n",
    "# use RBF\n",
    "rbf = Rbf(x, y, z, epsilon=2)\n",
    "ZI = rbf(XI, YI)\n",
    "# plot the result\n",
    "plt.subplot(1, 1, 1)\n",
    "X_edges, Y_edges = np.meshgrid(edges, edges)\n",
    "lims = dict(cmap='RdBu_r', vmin=-0.4, vmax=0.4)\n",
    "plt.pcolormesh(X_edges, Y_edges, ZI, shading='flat', **lims)\n",
    "plt.scatter(x, y, 100, z, edgecolor='w', lw=0.1, **lims)\n",
    "plt.title('RBF interpolation - multiquadrics')\n",
    "plt.xlim(-2, 2)\n",
    "plt.ylim(-2, 2)\n",
    "plt.colorbar()"
   ]
  },
  {
   "cell_type": "code",
   "execution_count": null,
   "metadata": {},
   "outputs": [],
   "source": [
    "import epcv"
   ]
  },
  {
   "cell_type": "code",
   "execution_count": null,
   "metadata": {},
   "outputs": [],
   "source": [
    "epcv.getcv?"
   ]
  },
  {
   "cell_type": "code",
   "execution_count": null,
   "metadata": {},
   "outputs": [],
   "source": [
    "epcv.getcv(30,100,9,1)"
   ]
  },
  {
   "cell_type": "code",
   "execution_count": null,
   "metadata": {},
   "outputs": [],
   "source": [
    "import numpy as np"
   ]
  },
  {
   "cell_type": "code",
   "execution_count": null,
   "metadata": {},
   "outputs": [],
   "source": [
    "A = np.array([[1,1,1], [2,2,2], [3,3,3], [4,4,4]])\n",
    "A[0,:]"
   ]
  },
  {
   "cell_type": "markdown",
   "metadata": {},
   "source": [
    "## Check timing of np.append vs. np.zeros and indexing & assigning"
   ]
  },
  {
   "cell_type": "code",
   "execution_count": null,
   "metadata": {},
   "outputs": [],
   "source": [
    "%%timeit\n",
    "A = []\n",
    "for i in range(10):\n",
    "    for ii in range(10):\n",
    "        A = np.append(A, np.ones(10**4))\n",
    "A = A.reshape(10, 10, 10**4)"
   ]
  },
  {
   "cell_type": "code",
   "execution_count": null,
   "metadata": {},
   "outputs": [],
   "source": [
    "%%timeit\n",
    "B = np.zeros((10, 10, 10**4))\n",
    "for i in range(10):\n",
    "    for ii in range(10):\n",
    "        B[i, ii, :] = np.ones(10**4)"
   ]
  },
  {
   "cell_type": "code",
   "execution_count": null,
   "metadata": {},
   "outputs": [],
   "source": [
    "(A==B).all()"
   ]
  },
  {
   "cell_type": "code",
   "execution_count": null,
   "metadata": {},
   "outputs": [],
   "source": [
    "12*3600/40"
   ]
  },
  {
   "cell_type": "markdown",
   "metadata": {},
   "source": [
    "## Light cones for Total Average Neutral Fraction vs. redshift plot"
   ]
  },
  {
   "cell_type": "code",
   "execution_count": null,
   "metadata": {},
   "outputs": [],
   "source": [
    "lightcone = p21c.run_lightcone(\n",
    "    redshift = 3,\n",
    "    max_redshift = 10,\n",
    "    init_box=init_cond,\n",
    "    lightcone_quantities=(\n",
    "        'brightness_temp',\n",
    "        'xH_box'\n",
    "    ),\n",
    "    global_quantities=(\n",
    "        'brightness_temp',\n",
    "        'xH_box'\n",
    "    )\n",
    ")"
   ]
  },
  {
   "cell_type": "markdown",
   "metadata": {},
   "source": [
    "## Plotting Total Average Neutral Fraction vs. redshift"
   ]
  },
  {
   "cell_type": "code",
   "execution_count": null,
   "metadata": {},
   "outputs": [],
   "source": [
    "fig, ax = p21c.plotting.plot_global_history(lightcone, kind='xH_box')\n",
    "ax.set_title(\"Box Total Neutral Fraction vs. Redshift (wider domian)\", color='white')\n",
    "ax.set_ylabel('Box Total Neutral Fraction', color='white')\n",
    "ax.set_xlabel('Redshift, z', color='white')\n",
    "ax.tick_params(axis='both', color='white', labelcolor='white')\n",
    "ax.grid()\n",
    "\n",
    "for spine in ax.spines.values():  # figure color\n",
    "    spine.set_edgecolor('white')"
   ]
  },
  {
   "cell_type": "markdown",
   "metadata": {},
   "source": [
    "## Generate Average Neutral Fraction Distributions as a function of blurring methods, shell numbers and σ max"
   ]
  },
  {
   "cell_type": "code",
   "execution_count": null,
   "metadata": {},
   "outputs": [],
   "source": [
    "def generate_distributions(\n",
    "    box = ionized,\n",
    "    radii = np.arange(8, 17, 1),\n",
    "    iterations=10**2,\n",
    "    sigma_factors=[4],\n",
    "    shell_numbers=[6]\n",
    "):\n",
    "\n",
    "    gaussians = []\n",
    "    spheres = []\n",
    "    cubes =[]\n",
    "    \n",
    "    start_time = datetime.now()\n",
    "    current_time = start_time\n",
    "\n",
    "    for i, radius in enumerate(radii):\n",
    "\n",
    "        sphere = Average_Neutral_Fraction_Distribution(\n",
    "                box=box,\n",
    "                radius=radius,\n",
    "                iteration=iterations,\n",
    "                blur_shape='top_hat_sphere'\n",
    "        )\n",
    "\n",
    "        cube = Average_Neutral_Fraction_Distribution(\n",
    "                box=box,\n",
    "                radius=radius,\n",
    "                iteration=iterations,\n",
    "                blur_shape='top_hat_cube'\n",
    "        )\n",
    "        \n",
    "        spheres = np.append(spheres, sphere)\n",
    "        cubes = np.append(cubes, cube)\n",
    "        \n",
    "        \n",
    "#         #-------------temporary-------------#\n",
    "        \n",
    "#         shell_numbers = [int(radius/3), int(2*radius/3)]\n",
    "#         print(shell_numbers)\n",
    "        \n",
    "#         #-------------temporary-------------#\n",
    "\n",
    "        \n",
    "        for ii, sigma_factor in enumerate(sigma_factors):\n",
    "            gaussian = Average_Neutral_Fraction_Distribution(\n",
    "                box=box,\n",
    "                radius=radius,\n",
    "                iteration=iterations,\n",
    "                sigma_factor=sigma_factor,\n",
    "                shell_num=shell_numbers[ii],\n",
    "                blur_shape='Gaussian_sphere'\n",
    "            )\n",
    "\n",
    "            gaussians = np.append(gaussians, gaussian)\n",
    "\n",
    "\n",
    "        # print progress and local time\n",
    "        previous_time = current_time\n",
    "        current_time = datetime.now()\n",
    "        loop_time = current_time - previous_time\n",
    "        elapsed_time = current_time - start_time\n",
    "        print(f'progress = {int(round((i+1)*100/len(radii)))}%, localtime =\\\n",
    " {current_time}, loopexecuted in {loop_time}, elapsedtime = {elapsed_time}')\n",
    "\n",
    "    gaussians = gaussians.reshape(len(radii), len(sigma_factors), iterations)\n",
    "    spheres = spheres.reshape(len(radii), iterations)\n",
    "    cubes = cubes.reshape(len(radii), iterations)\n",
    "    \n",
    "    return gaussians, spheres, cubes"
   ]
  },
  {
   "cell_type": "markdown",
   "metadata": {},
   "source": [
    "## Generate the distributions and storing the data in global variables"
   ]
  },
  {
   "cell_type": "code",
   "execution_count": null,
   "metadata": {},
   "outputs": [],
   "source": [
    "current_time = datetime.now()\n",
    "print(f'Progress = 0%, localtime = {current_time}')\n",
    "\n",
    "radii = np.arange(34, 3, -2)  # array([34, 32, 30,... 6, 4]) units: voxels (51, 3, -3)\n",
    "iterations = int(1.5*10**4)\n",
    "sigma_factors = [4]\n",
    "shell_numbers = [6]\n",
    "\n",
    "gaussians, spheres, cubes = generate_distributions(\n",
    "    radii=radii,\n",
    "    iterations=iterations,\n",
    "    sigma_factors=sigma_factors,\n",
    "    shell_numbers=shell_numbers\n",
    ")"
   ]
  },
  {
   "cell_type": "markdown",
   "metadata": {},
   "source": [
    "## Creating Histogram"
   ]
  },
  {
   "cell_type": "code",
   "execution_count": null,
   "metadata": {},
   "outputs": [],
   "source": [
    "histogram(\n",
    "    y1s=tuple(cubes), \n",
    "    y2s=tuple(spheres), \n",
    "    y3s=gaussians, \n",
    "    marker_lines=['-.'],\n",
    "    y1s_label='Cube',\n",
    "    y2s_label='Sphere',\n",
    "    y3s_label='Gauss',\n",
    "    title=[f'Radius={r*BOX_LEN/HII_DIM:.0f}Mpc' for r in radii],\n",
    "    shared_title=f'Distribution of Average \\\n",
    "Neutral Fraction (RR2, iterations={iterations:.2e}, redshift={redshift})',\n",
    "    shared_y_label='Counts',\n",
    "    shared_x_label='Neutral Fraction',\n",
    "    figure_shape=(4,4), \n",
    "    figure_size=(18,18),\n",
    "    vertical_gap=0.1,\n",
    "    horizontal_gap=0.2,\n",
    "    y_scale='log',\n",
    "#     y_notation='sci',\n",
    "    share_y_axis=False\n",
    "#     dpi=1000\n",
    ")"
   ]
  },
  {
   "cell_type": "markdown",
   "metadata": {},
   "source": [
    "## Histogram Function"
   ]
  },
  {
   "cell_type": "code",
   "execution_count": null,
   "metadata": {},
   "outputs": [],
   "source": [
    "def histogram(\n",
    "    y1s, \n",
    "    figure_shape, \n",
    "    y2s=None,\n",
    "    y3s=None,\n",
    "    marker_lines=None,\n",
    "    y1s_label=None,\n",
    "    y2s_label=None,\n",
    "    y3s_label=None,\n",
    "    title=None, \n",
    "    shared_title=None,\n",
    "    shared_title_x_position=0.5,   # figure coordinates, max=1 I think\n",
    "    shared_title_y_position=0.92,\n",
    "    shared_x_label=None, \n",
    "    shared_x_label_x_position=0.5,\n",
    "    shared_x_label_y_position=0.08,\n",
    "    shared_y_label=None, \n",
    "    shared_y_label_x_position=0.07,\n",
    "    shared_y_label_y_postion=0.5,\n",
    "    x_start=0, \n",
    "    x_stop=1, \n",
    "    bin_num=100, \n",
    "    color='white', \n",
    "    figure_size=(18,7), \n",
    "    font_size=15, \n",
    "    horizontal_gap=0.05, \n",
    "    vertical_gap=0.05, \n",
    "    y_scale='linear', \n",
    "    y_notation='plain', \n",
    "    share_x_axis=True, \n",
    "    share_y_axis=True,\n",
    "    dpi=100\n",
    "):  # a: x start, b: x stop\n",
    "    \n",
    "    bin_edges = np.linspace(x_start, x_stop, bin_num) # 100 bins from 0-1\n",
    "    \n",
    "    bin_centers = 0.5 * (bin_edges[1:] + bin_edges[:-1])\n",
    "    \n",
    "    if type(y1s) == tuple:  # hopefully more robust condition.\n",
    "        \n",
    "        fig, axes = plt.subplots(\n",
    "            figure_shape[0], \n",
    "            figure_shape[1], \n",
    "            figsize=figure_size, \n",
    "            sharex=share_x_axis, \n",
    "            sharey=share_y_axis, \n",
    "            gridspec_kw={\"hspace\":vertical_gap, 'wspace':horizontal_gap},\n",
    "            dpi=dpi\n",
    "        )\n",
    "        \n",
    "        if shared_title != None:\n",
    "            \n",
    "            fig.suptitle(\n",
    "                x=shared_title_x_position, \n",
    "                y=shared_title_y_position, \n",
    "                t=shared_title, ha='center', \n",
    "                size=1.5*font_size, \n",
    "                color=color\n",
    "            )\n",
    "            \n",
    "        if shared_x_label != None:  # shared x label\n",
    "            fig.text(\n",
    "                x=shared_x_label_x_position, \n",
    "                y=shared_x_label_y_position, \n",
    "                s=shared_x_label, ha='center', \n",
    "                size=font_size, \n",
    "                color=color\n",
    "            )\n",
    "\n",
    "        if shared_y_label != None:  # shared y label\n",
    "            fig.text(\n",
    "                x=shared_y_label_x_position, \n",
    "                y=shared_y_label_y_postion, \n",
    "                s=shared_y_label, \n",
    "                va='center', \n",
    "                rotation='vertical', \n",
    "                size=font_size, \n",
    "                color=color\n",
    "            )\n",
    "        \n",
    "        for i, y1 in enumerate(y1s):\n",
    "\n",
    "            \n",
    "            if y2s != None:\n",
    "                axes.flatten()[i].plot(\n",
    "                    bin_centers, \n",
    "                    np.histogram(y2s[i], bins=bin_edges)[0], \n",
    "                    '--', \n",
    "                    label=y2s_label\n",
    "                )\n",
    "                \n",
    "                if iterable(y3s):\n",
    "                    \n",
    "                    \n",
    "#                     #-------------temporary-------------#\n",
    "                    \n",
    "#                     shell_numbers = [int(radii[i]/3), int(radii[i]*2/3)]\n",
    "                    \n",
    "#                     #-------------temporary-------------#\n",
    "\n",
    "                    \n",
    "                    for ii, marker_line in enumerate(marker_lines):\n",
    "                        axes.flatten()[i].plot(\n",
    "                            bin_centers, \n",
    "                            np.histogram(y3s[i,ii,:], bins=bin_edges)[0], \n",
    "                            marker_line, \n",
    "                            label=f'{y3s_label} {sigma_factors[ii]}σ {shell_numbers[ii]}shell'\n",
    "                        )\n",
    "                    axes.flatten()[i].legend()\n",
    "                    \n",
    "                else:\n",
    "                    axes.flatten()[i].legend()\n",
    "                \n",
    "            if title != None:\n",
    "                axes.flatten()[i].set_title(title[i], color=color, fontsize=font_size)\n",
    "                \n",
    "            axes.flatten()[i].set_yscale(y_scale)\n",
    "            \n",
    "            if y_notation == 'sci':\n",
    "                axes.flatten()[i].ticklabel_format(\n",
    "                    axis='y', \n",
    "                    style=y_notation, \n",
    "                    scilimits=(0,0), \n",
    "                    useMathText=True\n",
    "                )\n",
    "                \n",
    "            axes.flatten()[i].tick_params(\n",
    "                color=color, \n",
    "                labelcolor=color, \n",
    "                labelsize=font_size, \n",
    "                size=font_size\n",
    "            )  # font style\n",
    "\n",
    "            for spine in axes.flatten()[i].spines.values():  # figure color\n",
    "                spine.set_edgecolor(color)\n",
    "                \n",
    "    else:\n",
    "        \n",
    "        fig, ax = plt.subplots(figsize=figure_size)\n",
    "        \n",
    "        ax.plot(bin_centers, np.histogram(y1s, bins=bin_edges)[0], label=y1s_label)\n",
    "        \n",
    "        if y2s != None:\n",
    "            ax.plot(bin_centers, np.histogram(y2s, bins=bin_edges)[0], '--', label=y2s_label)\n",
    "            \n",
    "            if y3s == None:\n",
    "                ax.legend()\n",
    "                \n",
    "            else:\n",
    "                ax.plot(bin_centers, np.histogram(y3s, bins=bin_edges)[0], '-.', label=y3s_label)\n",
    "                ax.legend()\n",
    "                \n",
    "        if title != None:\n",
    "            ax.set_title(title, color=color, fontsize=font_size)\n",
    "            \n",
    "        ax.set_yscale(y_scale)\n",
    "        \n",
    "        if y_notation == 'sci':\n",
    "            ax.ticklabel_format(axis='y', style=y_notation, scilimits=(0,0), useMathText=True)\n",
    "            \n",
    "        ax.tick_params(color=color, labelcolor=color, labelsize=font_size)  # font style\n",
    "\n",
    "        for spine in ax.spines.values():  # figure color\n",
    "            spine.set_edgecolor(color)\n",
    "            \n",
    "    plt.show()"
   ]
  },
  {
   "cell_type": "markdown",
   "metadata": {},
   "source": [
    "## Creating Ionize box"
   ]
  },
  {
   "cell_type": "code",
   "execution_count": null,
   "metadata": {},
   "outputs": [],
   "source": [
    "redshift=6.5\n",
    "ionized = p21c.ionize_box(redshift=redshift, init_boxes=init_cond).xH_box"
   ]
  },
  {
   "cell_type": "markdown",
   "metadata": {},
   "source": [
    "## Plotting box x, y, z slices"
   ]
  },
  {
   "cell_type": "code",
   "execution_count": null,
   "metadata": {},
   "outputs": [],
   "source": [
    "fig, (ax1, ax2, ax3) = plt.subplots(ncols=3, figsize=(15,15))\n",
    "\n",
    "img1 = ax1.imshow(ionized[0,:,:], origin='lower')\n",
    "colorbar(img1)\n",
    "\n",
    "img2 = ax2.imshow(ionized[:,0,:], origin='lower')\n",
    "colorbar(img2)\n",
    "\n",
    "img3 = ax3.imshow(ionized[:,:,0], origin='lower')\n",
    "colorbar(img3)\n",
    "\n",
    "plt.tight_layout(h_pad=1)"
   ]
  },
  {
   "cell_type": "markdown",
   "metadata": {},
   "source": [
    "## Plots"
   ]
  },
  {
   "cell_type": "code",
   "execution_count": null,
   "metadata": {},
   "outputs": [],
   "source": [
    "def plots(\n",
    "    x_vals, \n",
    "    y1s, \n",
    "    figure_shape, \n",
    "    y2s=None, \n",
    "    y3s=None, \n",
    "    y4s=None,\n",
    "    y5s=None,\n",
    "    y6s=None,\n",
    "    y7s=None,\n",
    "    y1s_label=None, \n",
    "    y2s_label=None, \n",
    "    y3s_label=None,\n",
    "    y4s_label=None,\n",
    "    y5s_label=None,\n",
    "    y6s_label=None,\n",
    "    y7s_label=None,\n",
    "    title=None,\n",
    "    shared_title=None,\n",
    "    shared_title_x_position=0.5,   # figure coordinates, max=1 I think\n",
    "    shared_title_y_position=0.92,\n",
    "    shared_x_label=None, \n",
    "    shared_x_label_x_position=0.5,\n",
    "    shared_x_label_y_position=0.08,\n",
    "    shared_y_label=None, \n",
    "    shared_y_label_x_position=0.07,\n",
    "    shared_y_label_y_postion=0.5,\n",
    "    y_label=None, \n",
    "    color='white', \n",
    "    figure_size=(18,7), \n",
    "    font_size=15, \n",
    "    horizontal_gap=0.05, \n",
    "    vertical_gap=0.05, \n",
    "    y_scale='linear', \n",
    "    y_notation='plain', \n",
    "    share_x_axis=True, \n",
    "    share_y_axis=True,\n",
    "    dpi=100\n",
    "):  # a: x start, b: x stop\n",
    "    \n",
    "    if type(y1s) == tuple:  # hopefully more robust condition.\n",
    "        \n",
    "        fig, axes = plt.subplots(\n",
    "            figure_shape[0], \n",
    "            figure_shape[1], \n",
    "            figsize=figure_size, \n",
    "            sharex=share_x_axis, \n",
    "            sharey=share_y_axis, \n",
    "            gridspec_kw={\"hspace\":vertical_gap, 'wspace':horizontal_gap},\n",
    "            dpi=dpi\n",
    "        )\n",
    "        \n",
    "        for i, y1 in enumerate(y1s):\n",
    "            \n",
    "            axes.flatten()[i].plot(\n",
    "                x_vals, \n",
    "                y1, \n",
    "                label=y1s_label\n",
    "            )  # plotting f\n",
    "            \n",
    "            if y2s != None:  # plotting g if iterable is inputted\n",
    "                axes.flatten()[i].plot(\n",
    "                    x_vals, \n",
    "                    y2s[i], \n",
    "                    '--', \n",
    "                    label=y2s_label\n",
    "                )\n",
    "                \n",
    "                if y3s == None:\n",
    "                    axes.flatten()[i].legend()\n",
    "                    \n",
    "                else:  # plotting h if iterable is inputted\n",
    "                    axes.flatten()[i].plot(\n",
    "                        x_vals, \n",
    "                        y3s[i], \n",
    "                        '-.', \n",
    "                        label=y3s_label\n",
    "                    )\n",
    "                    \n",
    "                    if y4s == None:\n",
    "                        axes.flatten()[i].legend()\n",
    "                        \n",
    "                    else:\n",
    "                        axes.flatten()[i].plot(\n",
    "                            x_vals, \n",
    "                            y4s[i], \n",
    "                            ':', \n",
    "                            label=y4s_label\n",
    "                        )\n",
    "                        \n",
    "                        if y5s == None:\n",
    "                            axes.flatten()[i].legend()\n",
    "                            \n",
    "                        else:\n",
    "                            axes.flatten()[i].plot(\n",
    "                                x_vals, \n",
    "                                y5s[i], \n",
    "                                '-o', \n",
    "                                label=y5s_label\n",
    "                            )\n",
    "                            \n",
    "                            if y6s == None:\n",
    "                                axes.flatten()[i].legend()\n",
    "                            \n",
    "                            else:\n",
    "                                axes.flatten()[i].plot(\n",
    "                                    x_vals, \n",
    "                                    y6s[i], \n",
    "                                    '--', \n",
    "                                    label=y6s_label, \n",
    "                                    linewidth=4\n",
    "                                )\n",
    "                                \n",
    "                                if y7s == None:\n",
    "                                    axes.flatten()[i].legend()\n",
    "                            \n",
    "                                else:\n",
    "                                    axes.flatten()[i].plot(\n",
    "                                        x_vals, \n",
    "                                        y7s[i], \n",
    "                                        '-.', \n",
    "                                        label=y7s_label, \n",
    "                                        linewidth=4\n",
    "                                    )\n",
    "                                    axes.flatten()[i].legend()\n",
    "            \n",
    "            if title != None:  # title if inputted\n",
    "                axes.flatten()[i].set_title(title[i], color=color, fontsize=font_size)\n",
    "            \n",
    "            if y_label != None:  # y label if inputted\n",
    "                axes.flatten()[i].set_ylabel(y_label[i], color=color, fontsize=font_size)\n",
    "                \n",
    "            if shared_title != None:\n",
    "                fig.suptitle(\n",
    "                    x=shared_title_x_position, \n",
    "                    y=shared_title_y_position, \n",
    "                    t=shared_title, ha='center', \n",
    "                    size=1.5*font_size, \n",
    "                    color=color\n",
    "                )\n",
    "                \n",
    "            if shared_x_label != None:  # shared x label\n",
    "                fig.text(\n",
    "                    x=shared_x_label_x_position, \n",
    "                    y=shared_x_label_y_position, \n",
    "                    s=shared_x_label, ha='center', \n",
    "                    size=font_size, \n",
    "                    color=color\n",
    "                )\n",
    "            \n",
    "            if shared_y_label != None:  # shared y label\n",
    "                fig.text(\n",
    "                    x=shared_y_label_x_position, \n",
    "                    y=shared_y_label_y_postion, \n",
    "                    s=shared_y_label, \n",
    "                    va='center', \n",
    "                    rotation='vertical', \n",
    "                    size=font_size, \n",
    "                    color=color\n",
    "                )\n",
    "            \n",
    "            axes.flatten()[i].set_yscale(y_scale)  # y axis linear or log scale\n",
    "            \n",
    "            if y_notation == 'sci':  # plain or scientific notation\n",
    "                axes.flatten()[i].ticklabel_format(\n",
    "                    axis='y', \n",
    "                    style=y_notation, \n",
    "                    scilimits=(0,0), \n",
    "                    useMathText=True\n",
    "                )\n",
    "            \n",
    "            axes.flatten()[i].tick_params(\n",
    "                color=color, \n",
    "                labelcolor=color, \n",
    "                labelsize=font_size, \n",
    "                size=font_size\n",
    "            )  # font style\n",
    "            \n",
    "            for spine in axes.flatten()[i].spines.values():  # figure spine color\n",
    "                spine.set_edgecolor(color)\n",
    "\n",
    "    else:\n",
    "        \n",
    "        fig, ax = plt.subplots(figsize=figure_size)  # creating subplots\n",
    "        \n",
    "        ax.plot(x_vals, y1s, label=y1s_label)  # plotting f\n",
    "        \n",
    "        if y2s != None:  # plotting g if inputted\n",
    "            ax.plot(\n",
    "                x_vals, \n",
    "                y2s, \n",
    "                '--', \n",
    "                label=y2s_label\n",
    "            )\n",
    "            \n",
    "            if y3s == None:\n",
    "                ax.legend()\n",
    "\n",
    "            else:  # plotting h if iterable is inputted\n",
    "                ax.plot(\n",
    "                    x_vals, \n",
    "                    y3s, \n",
    "                    '-.', \n",
    "                    label=y3s_label\n",
    "                )\n",
    "\n",
    "                if y4s == None:\n",
    "                    ax.legend()\n",
    "\n",
    "                else:\n",
    "                    ax.plot(\n",
    "                        x_vals, \n",
    "                        y4s, \n",
    "                        ':', \n",
    "                        label=y4s_label\n",
    "                    )\n",
    "\n",
    "                    if y5s == None:\n",
    "                        ax.legend()\n",
    "\n",
    "                    else:\n",
    "                        ax.plot(\n",
    "                            x_vals, \n",
    "                            y5s, \n",
    "                            '-o', \n",
    "                            label=y5s_label\n",
    "                        )\n",
    "\n",
    "                        if y6s == None:\n",
    "                            ax.legend()\n",
    "\n",
    "                        else:\n",
    "                            ax.plot(\n",
    "                                x_vals, \n",
    "                                y6s, \n",
    "                                '-*', \n",
    "                                label=y6s_label\n",
    "                            )\n",
    "\n",
    "                            if y7s == None:\n",
    "                                ax.legend()\n",
    "\n",
    "                            else:\n",
    "                                ax.plot(\n",
    "                                    x_vals, \n",
    "                                    y7s, \n",
    "                                    '-x', \n",
    "                                    label=y7s_label\n",
    "                                )\n",
    "                                ax.legend()\n",
    "            \n",
    "        if title != None:  # title if inputed\n",
    "            ax.set_title(title, color=color, fontsize=font_size)\n",
    "            \n",
    "        if y_label != None:  # y label  if inputed\n",
    "            ax.set_ylabel(y_label, color=color, fontsize=font_size)\n",
    "            \n",
    "        ax.set_yscale(y_scale)  # linear or log\n",
    "        \n",
    "        if y_notation == 'sci':  # plain or scientific notation\n",
    "            ax.ticklabel_format(\n",
    "                axis='y', \n",
    "                style=y_notation, \n",
    "                scilimits=(0,0), \n",
    "                useMathText=True\n",
    "            )\n",
    "\n",
    "        ax.tick_params(  # font style\n",
    "            color=color, \n",
    "            labelcolor=color, \n",
    "            labelsize=font_size, \n",
    "            size=font_size\n",
    "        )\n",
    "        \n",
    "        for spine in ax.spines.values():  # figure spine color\n",
    "            spine.set_edgecolor(color)"
   ]
  },
  {
   "cell_type": "markdown",
   "metadata": {},
   "source": [
    "## Colorbar Function"
   ]
  },
  {
   "cell_type": "code",
   "execution_count": null,
   "metadata": {},
   "outputs": [],
   "source": [
    "def colorbar(mappable, plot_color='white'):\n",
    "    from mpl_toolkits.axes_grid1 import make_axes_locatable\n",
    "    last_axes = plt.gca()\n",
    "    ax = mappable.axes\n",
    "    fig = ax.figure\n",
    "    divider = make_axes_locatable(ax)\n",
    "    cax = divider.append_axes(\"right\", size=\"5%\", pad=0.05)\n",
    "    cbar = fig.colorbar(mappable, cax=cax)\n",
    "    plt.ylabel('Neutral Fraction', color=plot_color)\n",
    "    plt.tick_params(color=plot_color, labelcolor=plot_color)\n",
    "    plt.sca(last_axes)\n",
    "    \n",
    "    ax.tick_params(color=plot_color, labelcolor=plot_color)\n",
    "    \n",
    "    for spine in ax.spines.values():  # figure spine color\n",
    "        spine.set_edgecolor(plot_color)\n",
    "    \n",
    "    return cbar"
   ]
  },
  {
   "cell_type": "markdown",
   "metadata": {},
   "source": [
    "## Set logger to log caching activity"
   ]
  },
  {
   "cell_type": "code",
   "execution_count": 4,
   "metadata": {},
   "outputs": [],
   "source": [
    "import logging, os\n",
    "import py21cmfast as p21c"
   ]
  },
  {
   "cell_type": "code",
   "execution_count": 10,
   "metadata": {},
   "outputs": [],
   "source": [
    "logger = logging.getLogger('21cmFAST')\n",
    "logger.setLevel(logging.INFO)"
   ]
  },
  {
   "cell_type": "markdown",
   "metadata": {},
   "source": [
    "## Version of 21cmFAST"
   ]
  },
  {
   "cell_type": "code",
   "execution_count": 9,
   "metadata": {},
   "outputs": [
    {
     "name": "stdout",
     "output_type": "stream",
     "text": [
      "Using 21cmFAST version 3.0.0.dev5\n"
     ]
    }
   ],
   "source": [
    "print(f\"Using 21cmFAST version {p21c.__version__}\")"
   ]
  },
  {
   "cell_type": "markdown",
   "metadata": {},
   "source": [
    "## Number of cores running"
   ]
  },
  {
   "cell_type": "code",
   "execution_count": 8,
   "metadata": {},
   "outputs": [
    {
     "name": "stdout",
     "output_type": "stream",
     "text": [
      "Number of threads running = 16\n"
     ]
    }
   ],
   "source": [
    "print(f'Number of threads running = {os.cpu_count()}')"
   ]
  },
  {
   "cell_type": "markdown",
   "metadata": {},
   "source": [
    "## Gaussian function"
   ]
  },
  {
   "cell_type": "code",
   "execution_count": null,
   "metadata": {},
   "outputs": [],
   "source": [
    "def Gaussian(x, sigma):  # μ=0, σ=1/sqrt(2), π=1\n",
    "    Gaussian = np.exp(-(x/sigma)**2)\n",
    "    return Gaussian"
   ]
  },
  {
   "cell_type": "markdown",
   "metadata": {},
   "source": [
    "## Gausssian Sphere Averaging"
   ]
  },
  {
   "cell_type": "code",
   "execution_count": null,
   "metadata": {},
   "outputs": [],
   "source": [
    "def gaussian_sphere_average(distance_box, radius, input_box, shell_num, sigma_factor):\n",
    "    \n",
    "    mean = np.zeros(shell_num)\n",
    "\n",
    "    shell_radius_edges = np.linspace(0,1,shell_num+1)\n",
    "    # sigma_factor number of sigmas the weighting goes out to, sigma = radius\n",
    "\n",
    "    \n",
    "    \n",
    "# ======================================================================================================================\n",
    "    # Radius Ratio 1\n",
    "    shell_center = 0.5*(shell_radius_edges[1:] + shell_radius_edges[:-1])*sigma_factor \n",
    "    weight = Gaussian(x=shell_center, sigma=1)\n",
    "    \n",
    "    # Radius Ratio 2\n",
    "#     shell_center = 0.5*(shell_radius_edges[1:] + shell_radius_edges[:-1])*sigma_factor*radius\n",
    "#     weight = Gaussian(x=shell_center, sigma=radius)\n",
    "# ======================================================================================================================\n",
    "\n",
    "\n",
    "    \n",
    "    for ii in range(shell_num):\n",
    "        condition = np.logical_and(\n",
    "            distance_box <= shell_radius_edges[ii+1]*radius, \n",
    "            distance_box > shell_radius_edges[ii]*radius\n",
    "        )\n",
    "        inside_shell_mean = np.mean(input_box[condition])\n",
    "        mean[ii] = inside_shell_mean\n",
    "        \n",
    "    Gaussian_mean = np.average(mean, weights=weight)\n",
    "    \n",
    "    return Gaussian_mean"
   ]
  },
  {
   "cell_type": "code",
   "execution_count": null,
   "metadata": {},
   "outputs": [],
   "source": [
    "def random_voxel(box_length):\n",
    "    \n",
    "    np.random.seed()  # set seed to a randome number\n",
    "    coordinate = np.random.randint(0, box_length, size=3)\n",
    "\n",
    "    return coordinate"
   ]
  },
  {
   "cell_type": "code",
   "execution_count": null,
   "metadata": {},
   "outputs": [],
   "source": [
    "def random_voxel2(box_length, iterations):\n",
    "    \n",
    "    np.random.seed()  # set seed to a randome number\n",
    "    coordinate = np.random.randint(0, box_length, size=(iterations, 3))\n",
    "\n",
    "    return coordinate"
   ]
  },
  {
   "cell_type": "code",
   "execution_count": null,
   "metadata": {},
   "outputs": [],
   "source": [
    "iteration = 10**3"
   ]
  },
  {
   "cell_type": "code",
   "execution_count": null,
   "metadata": {},
   "outputs": [],
   "source": [
    "%%timeit\n",
    "for i in range(iteration):\n",
    "    random_coord = random_voxel(301)"
   ]
  },
  {
   "cell_type": "code",
   "execution_count": null,
   "metadata": {},
   "outputs": [],
   "source": [
    "%%timeit\n",
    "random_coord2 = random_voxel2(301, iteration)"
   ]
  },
  {
   "cell_type": "markdown",
   "metadata": {},
   "source": [
    "## ================================================================"
   ]
  },
  {
   "cell_type": "code",
   "execution_count": 45,
   "metadata": {},
   "outputs": [],
   "source": [
    "import numpy as np\n",
    "%matplotlib inline\n",
    "import matplotlib.pyplot as plt"
   ]
  },
  {
   "cell_type": "code",
   "execution_count": 46,
   "metadata": {},
   "outputs": [
    {
     "data": {
      "text/plain": [
       "(10, 3)"
      ]
     },
     "execution_count": 46,
     "metadata": {},
     "output_type": "execute_result"
    }
   ],
   "source": [
    "box = np.random.rand(301)  # noise box\n",
    "iterations = int(1e1)\n",
    "coordinate_array = np.random.randint(0, len(box), size=(iterations, 3))  # iteration number of random coordinates\n",
    "# coordinate_array = np.array([[250, 0, 0]])\n",
    "radius = 10\n",
    "coordinate_array.shape"
   ]
  },
  {
   "cell_type": "markdown",
   "metadata": {},
   "source": [
    "## Version 1"
   ]
  },
  {
   "cell_type": "code",
   "execution_count": 47,
   "metadata": {},
   "outputs": [],
   "source": [
    "box1 = box.copy()\n",
    "\n",
    "for i in range(iterations):\n",
    "    \n",
    "    # indices for random cube region\n",
    "    x_ind_ver1_1 = int(coordinate_array[i, 0]-radius)  # x-domian\n",
    "    x_ind_ver1_2 = int(coordinate_array[i, 0]+radius+1)  # ending index is not inclusive\n",
    "\n",
    "    if x_ind_ver1_1 < 0:  # periodic boundary conditions\n",
    "        x_inds_ver1 = np.r_[(x_ind_ver1_1+len(box)):len(box), 0:x_ind_ver1_2]\n",
    "    elif x_ind_ver1_2 > len(box):\n",
    "        x_inds_ver1 = np.r_[x_ind_ver1_1:len(box), 0:(x_ind_ver1_2-len(box))]\n",
    "    else:\n",
    "        x_inds_ver1 = np.r_[x_ind_ver1_1:x_ind_ver1_2]\n",
    "        \n",
    "    box1[x_inds_ver1] = 2"
   ]
  },
  {
   "cell_type": "code",
   "execution_count": 48,
   "metadata": {},
   "outputs": [
    {
     "data": {
      "image/png": "[encoded data removed]",
      "text/plain": [
       "<Figure size 432x288 with 1 Axes>"
      ]
     },
     "metadata": {
      "needs_background": "dark"
     },
     "output_type": "display_data"
    }
   ],
   "source": [
    "plt.plot(np.arange(len(box1)), box1)\n",
    "plt.tick_params(color='white', labelcolor='white')"
   ]
  },
  {
   "cell_type": "markdown",
   "metadata": {},
   "source": [
    "## Version 2"
   ]
  },
  {
   "cell_type": "code",
   "execution_count": 49,
   "metadata": {
    "scrolled": true
   },
   "outputs": [
    {
     "data": {
      "text/plain": [
       "(10, 3)"
      ]
     },
     "execution_count": 49,
     "metadata": {},
     "output_type": "execute_result"
    }
   ],
   "source": [
    "# indices of iterations number of random cube regions\n",
    "x_ind_ver2_1 = (coordinate_array-radius).astype(int)\n",
    "x_ind_ver2_2 = (coordinate_array+radius+1).astype(int)  # ending index is not inclusive\n",
    "\n",
    "x_ind_ver2_1.shape"
   ]
  },
  {
   "cell_type": "code",
   "execution_count": 55,
   "metadata": {},
   "outputs": [
    {
     "data": {
      "text/plain": [
       "(array([296, 297, 298, 299, 300,   0,   1,   2,   3,   4,   5,   6,   7,\n",
       "          8,   9]),)"
      ]
     },
     "execution_count": 55,
     "metadata": {},
     "output_type": "execute_result"
    }
   ],
   "source": [
    "i1 = -5\n",
    "i2 = 10\n",
    "A = np.arange(i1+len(box), len(box))\n",
    "B = np.arange(0, i2)\n",
    "C = np.concatenate((A, B))\n",
    "np.ix_(C)"
   ]
  },
  {
   "cell_type": "code",
   "execution_count": 56,
   "metadata": {},
   "outputs": [
    {
     "data": {
      "text/plain": [
       "array([296, 297, 298, 299, 300,   0,   1,   2,   3,   4,   5,   6,   7,\n",
       "         8,   9])"
      ]
     },
     "execution_count": 56,
     "metadata": {},
     "output_type": "execute_result"
    }
   ],
   "source": [
    "np.r_[i1+len(box):len(box), 0:i2]"
   ]
  },
  {
   "cell_type": "code",
   "execution_count": 40,
   "metadata": {},
   "outputs": [
    {
     "ename": "ValueError",
     "evalue": "The truth value of an array with more than one element is ambiguous. Use a.any() or a.all()",
     "output_type": "error",
     "traceback": [
      "\u001b[0;31m---------------------------------------------------------------------------\u001b[0m",
      "\u001b[0;31mValueError\u001b[0m                                Traceback (most recent call last)",
      "\u001b[0;32m<ipython-input-40-13f00aaae1c1>\u001b[0m in \u001b[0;36m<module>\u001b[0;34m\u001b[0m\n\u001b[1;32m      1\u001b[0m x_inds_ver1 = np.where(\n\u001b[1;32m      2\u001b[0m     \u001b[0mx_ind_ver1_1\u001b[0m \u001b[0;34m<\u001b[0m \u001b[0;36m0\u001b[0m\u001b[0;34m,\u001b[0m  \u001b[0;31m# condition1\u001b[0m\u001b[0;34m\u001b[0m\u001b[0;34m\u001b[0m\u001b[0m\n\u001b[0;32m----> 3\u001b[0;31m     \u001b[0mnp\u001b[0m\u001b[0;34m.\u001b[0m\u001b[0mr_\u001b[0m\u001b[0;34m[\u001b[0m\u001b[0;34m(\u001b[0m\u001b[0mx_ind_ver1_1\u001b[0m\u001b[0;34m+\u001b[0m\u001b[0mlen\u001b[0m\u001b[0;34m(\u001b[0m\u001b[0mbox\u001b[0m\u001b[0;34m)\u001b[0m\u001b[0;34m)\u001b[0m\u001b[0;34m:\u001b[0m\u001b[0mlen\u001b[0m\u001b[0;34m(\u001b[0m\u001b[0mbox\u001b[0m\u001b[0;34m)\u001b[0m\u001b[0;34m,\u001b[0m \u001b[0;36m0\u001b[0m\u001b[0;34m:\u001b[0m\u001b[0mx_ind_ver1_2\u001b[0m\u001b[0;34m]\u001b[0m\u001b[0;34m,\u001b[0m  \u001b[0;31m# condition1 true\u001b[0m\u001b[0;34m\u001b[0m\u001b[0;34m\u001b[0m\u001b[0m\n\u001b[0m\u001b[1;32m      4\u001b[0m     np.where(  # condition1 false\n\u001b[1;32m      5\u001b[0m         \u001b[0mx_ind_ver1_2\u001b[0m \u001b[0;34m>\u001b[0m \u001b[0mlen\u001b[0m\u001b[0;34m(\u001b[0m\u001b[0mbox\u001b[0m\u001b[0;34m)\u001b[0m\u001b[0;34m,\u001b[0m  \u001b[0;31m# condition2\u001b[0m\u001b[0;34m\u001b[0m\u001b[0;34m\u001b[0m\u001b[0m\n",
      "\u001b[0;32m/lustre/aoc/projects/hera/wchin/anaconda3/envs/21cmfast/lib/python3.8/site-packages/numpy/lib/index_tricks.py\u001b[0m in \u001b[0;36m__getitem__\u001b[0;34m(self, key)\u001b[0m\n\u001b[1;32m    351\u001b[0m                     \u001b[0mnewobj\u001b[0m \u001b[0;34m=\u001b[0m \u001b[0mlinspace\u001b[0m\u001b[0;34m(\u001b[0m\u001b[0mstart\u001b[0m\u001b[0;34m,\u001b[0m \u001b[0mstop\u001b[0m\u001b[0;34m,\u001b[0m \u001b[0mnum\u001b[0m\u001b[0;34m=\u001b[0m\u001b[0msize\u001b[0m\u001b[0;34m)\u001b[0m\u001b[0;34m\u001b[0m\u001b[0;34m\u001b[0m\u001b[0m\n\u001b[1;32m    352\u001b[0m                 \u001b[0;32melse\u001b[0m\u001b[0;34m:\u001b[0m\u001b[0;34m\u001b[0m\u001b[0;34m\u001b[0m\u001b[0m\n\u001b[0;32m--> 353\u001b[0;31m                     \u001b[0mnewobj\u001b[0m \u001b[0;34m=\u001b[0m \u001b[0m_nx\u001b[0m\u001b[0;34m.\u001b[0m\u001b[0marange\u001b[0m\u001b[0;34m(\u001b[0m\u001b[0mstart\u001b[0m\u001b[0;34m,\u001b[0m \u001b[0mstop\u001b[0m\u001b[0;34m,\u001b[0m \u001b[0mstep\u001b[0m\u001b[0;34m)\u001b[0m\u001b[0;34m\u001b[0m\u001b[0;34m\u001b[0m\u001b[0m\n\u001b[0m\u001b[1;32m    354\u001b[0m                 \u001b[0;32mif\u001b[0m \u001b[0mndmin\u001b[0m \u001b[0;34m>\u001b[0m \u001b[0;36m1\u001b[0m\u001b[0;34m:\u001b[0m\u001b[0;34m\u001b[0m\u001b[0;34m\u001b[0m\u001b[0m\n\u001b[1;32m    355\u001b[0m                     \u001b[0mnewobj\u001b[0m \u001b[0;34m=\u001b[0m \u001b[0marray\u001b[0m\u001b[0;34m(\u001b[0m\u001b[0mnewobj\u001b[0m\u001b[0;34m,\u001b[0m \u001b[0mcopy\u001b[0m\u001b[0;34m=\u001b[0m\u001b[0;32mFalse\u001b[0m\u001b[0;34m,\u001b[0m \u001b[0mndmin\u001b[0m\u001b[0;34m=\u001b[0m\u001b[0mndmin\u001b[0m\u001b[0;34m)\u001b[0m\u001b[0;34m\u001b[0m\u001b[0;34m\u001b[0m\u001b[0m\n",
      "\u001b[0;31mValueError\u001b[0m: The truth value of an array with more than one element is ambiguous. Use a.any() or a.all()"
     ]
    }
   ],
   "source": [
    "# period boundary condition\n",
    "x_inds_ver2 = np.where(\n",
    "    x_ind_ver2_1 < 0,  # condition1\n",
    "    np.r_[(x_ind_ver2_1+len(box)):len(box), 0:x_ind_ver2_2],  # condition1 true\n",
    "    np.where(  # condition1 false\n",
    "        x_ind_ver2_2 > len(box),  # condition2\n",
    "        np.r_[x_ind_ver2_1:len(box), 0:(x_ind_ver2_2-len(box))],  # condition2 true\n",
    "        np.r_[x_ind_ver2_1:x_ind_ver2_2]  # condition2 false\n",
    "    )\n",
    ")\n",
    "\n",
    "box2 = box.copy()\n",
    "box2[x_inds_ver2] = 2"
   ]
  },
  {
   "cell_type": "code",
   "execution_count": null,
   "metadata": {},
   "outputs": [],
   "source": [
    "plt.plot(np.arange(len(box2)), box2)\n",
    "plt.tick_params(color='white', labelcolor='white')"
   ]
  },
  {
   "cell_type": "markdown",
   "metadata": {},
   "source": [
    "## ================================================================"
   ]
  },
  {
   "cell_type": "code",
   "execution_count": null,
   "metadata": {},
   "outputs": [],
   "source": []
  },
  {
   "cell_type": "code",
   "execution_count": 28,
   "metadata": {},
   "outputs": [
    {
     "name": "stdout",
     "output_type": "stream",
     "text": [
      "True\n"
     ]
    }
   ],
   "source": [
    "progress = True\n",
    "if progress:\n",
    "    print(True)\n",
    "else:\n",
    "    print(False)"
   ]
  },
  {
   "cell_type": "code",
   "execution_count": 1,
   "metadata": {},
   "outputs": [
    {
     "name": "stdout",
     "output_type": "stream",
     "text": [
      "[[  9.  10.  11.  12.  13.  14.  15.  16.  17.  18.]\n",
      " [ 19.  20.  21.  22.  23.  24.  25.  26.  27.  28.]\n",
      " [ 29.  30.  31.  32.  33.  34.  35.  36.  37.  38.]\n",
      " [ 39.  40.  41.  42.  43.  44.  45.  46.  47.  48.]\n",
      " [ 49.  50.  51.  52.  53.  54.  55.  56.  57.  58.]\n",
      " [ 59.  60.  61.  62.  63.  64.  65.  66.  67.  68.]\n",
      " [ 69.  70.  71.  72.  73.  74.  75.  76.  77.  78.]\n",
      " [ 79.  80.  81.  82.  83.  84.  85.  86.  87.  88.]\n",
      " [ 89.  90.  91.  92.  93.  94.  95.  96.  97.  98.]\n",
      " [ 99. 100. 101. 102. 103. 104. 105. 106. 107. 108.]]\n"
     ]
    }
   ],
   "source": [
    "from numba import jit\n",
    "import numpy as np\n",
    "\n",
    "x = np.arange(100).reshape(10, 10)\n",
    "\n",
    "@jit(nopython=True) # Set \"nopython\" mode for best performance, equivalent to @njit\n",
    "def go_fast(a): # Function is compiled to machine code when called the first time\n",
    "    trace = 0.0\n",
    "    for i in range(a.shape[0]):   # Numba likes loops\n",
    "        trace += np.tanh(a[i, i]) # Numba likes NumPy functions\n",
    "    return a + trace              # Numba likes NumPy broadcasting\n",
    "\n",
    "print(go_fast(x))"
   ]
  },
  {
   "cell_type": "code",
   "execution_count": 6,
   "metadata": {},
   "outputs": [
    {
     "name": "stdout",
     "output_type": "stream",
     "text": [
      "      a      b\n",
      "a   1.0   10.0\n",
      "b  10.0  100.0\n"
     ]
    },
    {
     "name": "stderr",
     "output_type": "stream",
     "text": [
      "<ipython-input-6-1a34fc432c2d>:6: NumbaWarning: \n",
      "Compilation is falling back to object mode WITH looplifting enabled because Function \"use_pandas\" failed type inference due to: non-precise type pyobject\n",
      "During: typing of argument at <ipython-input-6-1a34fc432c2d> (8)\n",
      "\n",
      "File \"<ipython-input-6-1a34fc432c2d>\", line 8:\n",
      "def use_pandas(a): # Function will not benefit from Numba jit\n",
      "    df = pd.DataFrame.from_dict(a) # Numba doesn't know about pd.DataFrame\n",
      "    ^\n",
      "\n",
      "  @jit\n",
      "/lustre/aoc/projects/hera/wchin/anaconda3/envs/21cmfast/lib/python3.8/site-packages/numba/core/object_mode_passes.py:177: NumbaWarning: Function \"use_pandas\" was compiled in object mode without forceobj=True.\n",
      "\n",
      "File \"<ipython-input-6-1a34fc432c2d>\", line 7:\n",
      "@jit\n",
      "def use_pandas(a): # Function will not benefit from Numba jit\n",
      "^\n",
      "\n",
      "  warnings.warn(errors.NumbaWarning(warn_msg,\n",
      "/lustre/aoc/projects/hera/wchin/anaconda3/envs/21cmfast/lib/python3.8/site-packages/numba/core/object_mode_passes.py:187: NumbaDeprecationWarning: \n",
      "Fall-back from the nopython compilation path to the object mode compilation path has been detected, this is deprecated behaviour.\n",
      "\n",
      "For more information visit http://numba.pydata.org/numba-doc/latest/reference/deprecation.html#deprecation-of-object-mode-fall-back-behaviour-when-using-jit\n",
      "\n",
      "File \"<ipython-input-6-1a34fc432c2d>\", line 7:\n",
      "@jit\n",
      "def use_pandas(a): # Function will not benefit from Numba jit\n",
      "^\n",
      "\n",
      "  warnings.warn(errors.NumbaDeprecationWarning(msg,\n"
     ]
    }
   ],
   "source": [
    "from numba import jit\n",
    "import pandas as pd\n",
    "\n",
    "x = {'a': [1, 2, 3], 'b': [20, 30, 40]}\n",
    "\n",
    "@jit\n",
    "def use_pandas(a): # Function will not benefit from Numba jit\n",
    "    df = pd.DataFrame.from_dict(a) # Numba doesn't know about pd.DataFrame\n",
    "    df += 1                        # Numba doesn't understand what this is\n",
    "    return df.cov()                # or this!\n",
    "\n",
    "print(use_pandas(x))"
   ]
  },
  {
   "cell_type": "code",
   "execution_count": 7,
   "metadata": {},
   "outputs": [
    {
     "name": "stdout",
     "output_type": "stream",
     "text": [
      "Elapsed (with compilation) = 0.21187543869018555\n",
      "Elapsed (after compilation) = 6.0558319091796875e-05\n"
     ]
    }
   ],
   "source": [
    "from numba import jit\n",
    "import numpy as np\n",
    "import time\n",
    "\n",
    "x = np.arange(100).reshape(10, 10)\n",
    "\n",
    "@jit(nopython=True)\n",
    "def go_fast(a): # Function is compiled and runs in machine code\n",
    "    trace = 0.0\n",
    "    for i in range(a.shape[0]):\n",
    "        trace += np.tanh(a[i, i])\n",
    "    return a + trace\n",
    "\n",
    "# DO NOT REPORT THIS... COMPILATION TIME IS INCLUDED IN THE EXECUTION TIME!\n",
    "start = time.time()\n",
    "go_fast(x)\n",
    "end = time.time()\n",
    "print(\"Elapsed (with compilation) = %s\" % (end - start))\n",
    "\n",
    "# NOW THE FUNCTION IS COMPILED, RE-TIME IT EXECUTING FROM CACHE\n",
    "start = time.time()\n",
    "go_fast(x)\n",
    "end = time.time()\n",
    "print(\"Elapsed (after compilation) = %s\" % (end - start))"
   ]
  },
  {
   "cell_type": "code",
   "execution_count": 145,
   "metadata": {},
   "outputs": [],
   "source": [
    "from numba import jit, njit\n",
    "import numpy as np\n",
    "\n",
    "def gaussian_sphere_average(distance_box, radius, input_box, shell_num, sigma_factor):\n",
    "    \n",
    "    mean = np.zeros(shell_num)\n",
    "\n",
    "    shell_radius_edges = np.linspace(0,1,shell_num+1)\n",
    "    # sigma_factor number of sigmas the weighting goes out to, sigma = radius\n",
    "    shell_center = 0.5*(shell_radius_edges[1:] + shell_radius_edges[:-1])*sigma_factor \n",
    "    weight = Gaussian(x=shell_center)\n",
    "    \n",
    "    for ii in range(shell_num):\n",
    "        condition = np.logical_and(\n",
    "            distance_box <= shell_radius_edges[ii+1]*radius, \n",
    "            distance_box > shell_radius_edges[ii]*radius\n",
    "        )\n",
    "        inside_shell_mean = np.mean(input_box[condition])\n",
    "        mean[ii] = inside_shell_mean\n",
    "        \n",
    "    Gaussian_mean = np.average(mean, weights=weight)\n",
    "    \n",
    "    return Gaussian_mean\n",
    "\n",
    "@jit\n",
    "def gaussian_sphere_average_jit(distance_box, radius, input_box, shell_num, sigma_factor):\n",
    "    \n",
    "    mean = np.zeros(shell_num)\n",
    "\n",
    "    shell_radius_edges = np.linspace(0,1,shell_num+1)\n",
    "    # sigma_factor number of sigmas the weighting goes out to, sigma = radius\n",
    "    shell_center = 0.5*(shell_radius_edges[1:] + shell_radius_edges[:-1])*sigma_factor \n",
    "    weight = Gaussian(x=shell_center)\n",
    "    \n",
    "    for ii in range(shell_num):\n",
    "        condition = np.logical_and(\n",
    "            distance_box <= shell_radius_edges[ii+1]*radius, \n",
    "            distance_box > shell_radius_edges[ii]*radius\n",
    "        )\n",
    "        inside_shell_mean = np.mean(input_box[condition])\n",
    "        mean[ii] = inside_shell_mean\n",
    "        \n",
    "    Gaussian_mean = np.average(mean, weights=weight)\n",
    "    \n",
    "    return Gaussian_mean"
   ]
  },
  {
   "cell_type": "code",
   "execution_count": 96,
   "metadata": {},
   "outputs": [],
   "source": [
    "noise_box = np.random.rand(301, 301, 301)"
   ]
  },
  {
   "cell_type": "code",
   "execution_count": 138,
   "metadata": {},
   "outputs": [],
   "source": [
    "@jit\n",
    "def distance_from_coordinate(box_length):\n",
    "        \n",
    "    index = np.arange(-0.5*(box_length-1), 0.5*(box_length+1))\n",
    "\n",
    "    x_mesh, y_mesh, z_mesh = np.meshgrid(index, index, index, indexing='ij')\n",
    "    \n",
    "    distance = np.sqrt((x_mesh)**2 + (y_mesh)**2 + (z_mesh)**2)\n",
    "    \n",
    "    return distance"
   ]
  },
  {
   "cell_type": "code",
   "execution_count": 140,
   "metadata": {},
   "outputs": [],
   "source": [
    "Distance_box = distance_from_coordinate(rad*2+1)"
   ]
  },
  {
   "cell_type": "code",
   "execution_count": 124,
   "metadata": {},
   "outputs": [],
   "source": [
    "def random_cube_regions(box_length, number_of_coordinates, radius):\n",
    "    \n",
    "    np.random.seed()  # no entry: set seed to a randome number\n",
    "#     np.random.seed(4)  # specifying seed for testing purposes\n",
    "\n",
    "    coordinates = np.random.randint(0, box_length, size=(number_of_coordinates, 3))\n",
    "    \n",
    "    # cube indices \n",
    "    inds1 = (coordinates-radius).astype(int)\n",
    "    inds2 = (coordinates+radius+1).astype(int)  # ending index is not inclusive\n",
    "    \n",
    "\n",
    "    return inds1, inds2"
   ]
  },
  {
   "cell_type": "code",
   "execution_count": 125,
   "metadata": {},
   "outputs": [],
   "source": [
    "iterations = int(1e3)\n",
    "rad = 50\n",
    "Ind1, Ind2 = random_cube_regions(len(noise_box), iterations, rad)"
   ]
  },
  {
   "cell_type": "code",
   "execution_count": 126,
   "metadata": {},
   "outputs": [],
   "source": [
    "def slicing_the_cube(ind1, ind2, radius, box):\n",
    "        \n",
    "    if ind1[0] < 0:  # periodic boundary conditions\n",
    "        x_inds = np.r_[(ind1[0]+len(box)):len(box), 0:ind2[0]]\n",
    "    elif ind2[0] > len(box):\n",
    "        x_inds = np.r_[ind1[0]:len(box), 0:(ind2[0]-len(box))]\n",
    "    else:\n",
    "        x_inds = np.r_[ind1[0]:ind2[0]]\n",
    "\n",
    "    if ind1[1] < 0:\n",
    "        y_inds = np.r_[(ind1[1]+len(box)):len(box), 0:ind2[1]]\n",
    "    elif ind2[1] > len(box):\n",
    "        y_inds = np.r_[ind1[1]:len(box), 0:(ind2[1]-len(box))]\n",
    "    else:\n",
    "        y_inds = np.r_[ind1[1]:ind2[1]]\n",
    "\n",
    "    if ind1[2] < 0:\n",
    "        z_inds = np.r_[(ind1[2]+len(box)):len(box), 0:ind2[2]]\n",
    "    elif ind2[2] > len(box):\n",
    "        z_inds = np.r_[ind1[2]:len(box), 0:(ind2[2]-len(box))]\n",
    "    else:\n",
    "        z_inds = np.r_[ind1[2]:ind2[2]]\n",
    "            \n",
    "    indices = np.ix_(x_inds, y_inds, z_inds)\n",
    "        \n",
    "    try:\n",
    "        output_box = box[indices]\n",
    "        \n",
    "    except IndexError:  # sample region larger than box.\n",
    "        print(f'coordinate array = {ind1 + radius}')\n",
    "        print(f'radius = {radius}')\n",
    "        print(f'box length = {len(box)}')\n",
    "        print(f'x_ind1 = {ind1[0]}')\n",
    "        print(f'x_ind2 = {ind2[0]}')\n",
    "        print(f'x_inds = {x_inds}')\n",
    "        print(f'y_ind1 = {ind1[1]}')\n",
    "        print(f'y_ind2 = {ind2[1]}')\n",
    "        print(f'y_inds = {y_inds}')\n",
    "        print(f'z_ind1 = {ind1[2]}')\n",
    "        print(f'z_ind2 = {ind2[2]}')\n",
    "        print(f'z_inds = {z_inds}')\n",
    "        \n",
    "    return output_box"
   ]
  },
  {
   "cell_type": "code",
   "execution_count": 130,
   "metadata": {},
   "outputs": [],
   "source": [
    "sample_box = slicing_the_cube(Ind1[0], Ind2[0], rad, noise_box)"
   ]
  },
  {
   "cell_type": "code",
   "execution_count": 133,
   "metadata": {},
   "outputs": [],
   "source": [
    "@njit\n",
    "def Gaussian(x):  # μ=0, σ=1/sqrt(2), π=1\n",
    "    Gaussian = np.exp(-x**2)\n",
    "    return Gaussian"
   ]
  },
  {
   "cell_type": "code",
   "execution_count": 135,
   "metadata": {},
   "outputs": [
    {
     "data": {
      "text/plain": [
       "101"
      ]
     },
     "execution_count": 135,
     "metadata": {},
     "output_type": "execute_result"
    }
   ],
   "source": [
    "len(sample_box)"
   ]
  },
  {
   "cell_type": "code",
   "execution_count": 136,
   "metadata": {},
   "outputs": [
    {
     "data": {
      "text/plain": [
       "301"
      ]
     },
     "execution_count": 136,
     "metadata": {},
     "output_type": "execute_result"
    }
   ],
   "source": [
    "len(distance_box)"
   ]
  },
  {
   "cell_type": "code",
   "execution_count": 155,
   "metadata": {
    "scrolled": true
   },
   "outputs": [
    {
     "name": "stdout",
     "output_type": "stream",
     "text": [
      "10.5 s ± 305 ms per loop (mean ± std. dev. of 7 runs, 1 loop each)\n"
     ]
    }
   ],
   "source": [
    "%%timeit\n",
    "for i in range(iterations):\n",
    "    A_jit = gaussian_sphere_average_jit(Distance_box, rad, sample_box, 6, 4)"
   ]
  },
  {
   "cell_type": "code",
   "execution_count": 154,
   "metadata": {},
   "outputs": [
    {
     "name": "stdout",
     "output_type": "stream",
     "text": [
      "10.6 s ± 28.8 ms per loop (mean ± std. dev. of 7 runs, 1 loop each)\n"
     ]
    }
   ],
   "source": [
    "%%timeit\n",
    "for i in range(iterations):\n",
    "    A = gaussian_sphere_average(Distance_box, rad, sample_box, 6, 4)"
   ]
  },
  {
   "cell_type": "code",
   "execution_count": 149,
   "metadata": {},
   "outputs": [
    {
     "data": {
      "text/plain": [
       "True"
      ]
     },
     "execution_count": 149,
     "metadata": {},
     "output_type": "execute_result"
    }
   ],
   "source": [
    "np.all(np.array(A) == np.array(A_jit))"
   ]
  },
  {
   "cell_type": "markdown",
   "metadata": {},
   "source": [
    "## Generate Average Neutral Fraction Distributions as a function of redshift"
   ]
  },
  {
   "cell_type": "code",
   "execution_count": null,
   "metadata": {},
   "outputs": [],
   "source": [
    "def generate_distributions(\n",
    "    boxes=ionized_boxes,\n",
    "    radii=np.arange(8, 17, 1),\n",
    "    iterations=10**2,\n",
    "    sigma_factor=1.4370397097748921*3,\n",
    "    shell_number=6,\n",
    "    progress_status=True\n",
    "):\n",
    "\n",
    "    gaussians = np.zeros((len(redshifts), len(radii), iterations))\n",
    "    \n",
    "    \n",
    "    # temporary\n",
    "# ====================================================================================================================\n",
    "#     cubes = np.zeros((len(radii), iterations))\n",
    "# ====================================================================================================================\n",
    "\n",
    "    # print progress and local time\n",
    "    if progress_status:\n",
    "        start_time = datetime.now()\n",
    "        current_time = start_time\n",
    "        print(f'Progress = 0%, localtime = {start_time}')\n",
    "\n",
    "    for i, box in enumerate(boxes):\n",
    "        \n",
    "    # temporary\n",
    "# ====================================================================================================================\n",
    "#         cube = average_neutral_fraction_distribution(\n",
    "#                 box=boxes[0],\n",
    "#                 radius=radius,\n",
    "#                 iteration=iterations,\n",
    "#                 blur_shape='top_hat_cube'\n",
    "#         )\n",
    "        \n",
    "#         cubes[i, :] = cube\n",
    "# ====================================================================================================================\n",
    "        \n",
    "        for ii, radius in enumerate(radii):\n",
    "                        \n",
    "            gaussians[i, ii, :] = average_neutral_fraction_distribution(\n",
    "                box=box,\n",
    "                radius=radius,\n",
    "                iteration=iterations,\n",
    "                sigma_factor=sigma_factor,\n",
    "                shell_num=shell_number,\n",
    "                blur_shape='Gaussian_sphere'\n",
    "            )\n",
    "\n",
    "        # print progress and local time\n",
    "        if progress_status:\n",
    "            previous_time = current_time\n",
    "            current_time = datetime.now()\n",
    "            loop_time = current_time - previous_time\n",
    "            elapsed_time = current_time - start_time\n",
    "            print(f'progress = {int(round((i+1)*100/len(boxes)))}%, \\\n",
    "localtime = {current_time}, loopexecuted in {loop_time}, elapsedtime = {elapsed_time}')\n",
    "        \n",
    "    # temporary\n",
    "# ====================================================================================================================\n",
    "#     return gaussians, cubes\n",
    "# ====================================================================================================================\n",
    "    \n",
    "    return gaussians"
   ]
  },
  {
   "cell_type": "markdown",
   "metadata": {},
   "source": [
    "## Creating Histogram"
   ]
  },
  {
   "cell_type": "code",
   "execution_count": null,
   "metadata": {},
   "outputs": [],
   "source": [
    "bins = int(3e2)\n",
    "histogram(\n",
    "    y1s=gaussians, \n",
    "    \n",
    "    # temporary\n",
    "# =================================================================================================================== \n",
    "#     y2s=cubes,\n",
    "# =================================================================================================================== \n",
    "    \n",
    "    marker_lines=['-']*len(radii),\n",
    "    y1s_labels=[f'Radius={r*BOX_LEN/HII_DIM:.0f}Mpc' for r in radii],\n",
    "    bin_num=bins,\n",
    "    \n",
    "    # temporary\n",
    "# =================================================================================================================== \n",
    "#     y2s_label='Cube',\n",
    "# =================================================================================================================== \n",
    "    \n",
    "    title=[f'z={redshifts[i]}, x_HI={total_neutral_fractions[i]*100:.2f}%],\n",
    "    shared_title=f'Distribution of Average Neutral Fraction \\\n",
    "(format switch r&z, {bins} bins, {iterations:.2e} iterations)',\n",
    "    shared_y_label='Counts',\n",
    "    shared_x_label='Neutral Fraction',\n",
    "    figure_shape=(3,3), \n",
    "    figure_size=(18,18),\n",
    "    vertical_gap=0.1,\n",
    "    horizontal_gap=0.2,\n",
    "    y_scale='log',\n",
    "#     y_notation='sci',\n",
    "    share_y_axis=False,\n",
    "    dpi=1000\n",
    ")"
   ]
  },
  {
   "cell_type": "code",
   "execution_count": 2,
   "metadata": {},
   "outputs": [],
   "source": [
    "import py21cmfast as p21c\n",
    "p21c.FlagOptions?"
   ]
  },
  {
   "cell_type": "markdown",
   "metadata": {},
   "source": [
    "## Converting ION_M_MIN to ION_Tvir_MIN"
   ]
  },
  {
   "cell_type": "code",
   "execution_count": null,
   "metadata": {},
   "outputs": [],
   "source": [
    "# /* Returns the minimum source mass for ionizing sources, according to user specifications */\n",
    "def get_M_min_ion(Tvir):\n",
    "    \n",
    "    Target_ION_M_MIN=9\n",
    "    z=7\n",
    "    \n",
    "    ION_Tvir_MIN=10**Tvir\n",
    "\n",
    "    # CosmoParams\n",
    "    hlittle=0.6766\n",
    "    OMm=0.30964144154550644\n",
    "    OMb=0.04897468161869667\n",
    "    OMl=1-OMm\n",
    "    \n",
    "    if (ION_Tvir_MIN < 9.99999e3): #// neutral IGM\n",
    "        MMIN = TtoM(z, ION_Tvir_MIN, 1.22);\n",
    "    else: #// ionized IGM\n",
    "        MMIN = TtoM(z, ION_Tvir_MIN, 0.6);\n",
    "    #// check for WDM\n",
    "    if (p21c.global_params.P_CUTOFF and ( MMIN < M_J_WDM())):\n",
    "        MMIN = M_J_WDM();\n",
    "    return Target_ION_M_MIN - np.log10(MMIN)\n",
    "\n",
    "# /*\n",
    "#  T in K, M in Msun, mu is mean molecular weight\n",
    "#  from Barkana & Loeb 2001\n",
    "#  SUPRESS = 0 for no radiation field supression;\n",
    "#  SUPRESS = 1 for supression (step function at z=z_ss, at v=v_zz)\n",
    "#  */\n",
    "def TtoM(z, T, mu):\n",
    "    \n",
    "    # CosmoParams\n",
    "    hlittle=0.6766\n",
    "    OMm=0.30964144154550644\n",
    "    OMb=0.04897468161869667\n",
    "    OMl=1-OMm\n",
    "    \n",
    "    return 7030.97 / (hlittle) * np.sqrt( omega_mz(z) / (OMm*Deltac_nonlinear(z))) * pow( T/(mu * (1+z)), 1.5 )\n",
    "\n",
    "# /* Physical (non-linear) overdensity at virialization (relative to critical density)\n",
    "#  i.e. answer is rho / rho_crit\n",
    "#  In Einstein de sitter model = 178\n",
    "#  (fitting formula from Bryan & Norman 1998) */\n",
    "def Deltac_nonlinear(z):\n",
    "    \n",
    "    # CosmoParams\n",
    "    hlittle=0.6766\n",
    "    OMm=0.30964144154550644\n",
    "    OMb=0.04897468161869667\n",
    "    OMl=1-OMm\n",
    "    \n",
    "    d = omega_mz(z) - 1.0;\n",
    "    return 18*np.pi*np.pi + 82*d - 39*d*d;\n",
    "\n",
    "# /* Omega matter at redshift z */\n",
    "def omega_mz(z):\n",
    "    \n",
    "    # CosmoParams\n",
    "    hlittle=0.6766\n",
    "    OMm=0.30964144154550644\n",
    "    OMb=0.04897468161869667\n",
    "    OMl=1-OMm\n",
    "    \n",
    "    return OMm*pow(1+z,3) / (OMm*pow(1+z,3) + OMl + p21c.global_params.OMr*pow(1+z,4) + p21c.global_params.OMk*pow(1+z, 2));\n",
    "\n",
    "# /* returns the \"effective Jeans mass\" in Msun\n",
    "#  corresponding to the gas analog of WDM ; eq. 10 in Barkana+ 2001 */\n",
    "def M_J_WDM():\n",
    "    \n",
    "    # CosmoParams\n",
    "    hlittle=0.6766\n",
    "    OMm=0.30964144154550644\n",
    "    OMb=0.04897468161869667\n",
    "    OMl=1-OMm\n",
    "    \n",
    "    fudge=60;\n",
    "    if not p21c.global_params.P_CUTOFF:\n",
    "        return 0;\n",
    "    z_eq = 3600*(OMm-OMb)*hlittle*hlittle/0.15;\n",
    "    return fudge*3.06e8 * (1.5/p21c.global_params.g_x) * sqrt((OMm-OMb)*hlittle*hlittle/0.15) * pow(p21c.global_params.M_WDM, -4) * pow(z_eq/3000.0, 1.5);\n",
    "\n",
    "from scipy.optimize import brentq\n",
    "brentq(get_M_min_ion, 3, 6)  # intercept at 0"
   ]
  },
  {
   "cell_type": "code",
   "execution_count": 2,
   "metadata": {},
   "outputs": [],
   "source": [
    "import numpy as np\n",
    "from numba import jit"
   ]
  },
  {
   "cell_type": "code",
   "execution_count": null,
   "metadata": {},
   "outputs": [],
   "source": [
    "def slicing_the_cube(ind1, ind2, box):\n",
    "    \"\"\"\n",
    "    Selects a smaller cubical sub-region within a larger cube called 'box'.\n",
    "    Incoorporates periodic boundary conditions, i.e. Pac-Man effect.\n",
    "    This function takes in a set of slicing indices of one particular randomly\n",
    "    selected cubical sub-region and returns the selected smaller cube.\n",
    "    \n",
    "    Parameters\n",
    "    ----------\n",
    "    ind1 : 1D ndarray, dtype: int\n",
    "        The left bounds of the selected region in 1D respectively.\n",
    "    ind2 : 1D ndarray, dtype: int\n",
    "        The right bounds of the selected region in 1D respectively.\n",
    "    box  : 3D ndarray, dtype: float32\n",
    "        Data cube, when the smaller cubical\n",
    "        sub-regions are being selected from.\n",
    "        \n",
    "    Returns\n",
    "    -------\n",
    "    output_box : 3D ndarray, dtype: float32\n",
    "        The selected cubical smaller sub-region\n",
    "        within the larger data cube.\n",
    "    \"\"\"\n",
    "        \n",
    "    if ind1[0] < 0:  # periodic boundary conditions\n",
    "        # region that went beyond the zeroth voxel face of the\n",
    "        # cube is replaced by the region at the 'box_length'th\n",
    "        # voxel face of the cube with the same size.\n",
    "        x_inds = np.r_[(ind1[0]+len(box)):len(box), 0:ind2[0]]\n",
    "    elif ind2[0] > len(box):\n",
    "        # region that went beyond the 'box_length'th voxel face\n",
    "        # of the cube is replaced by the region at the zeroth \n",
    "        # voxel face of the cube with the same size.\n",
    "        x_inds = np.r_[ind1[0]:len(box), 0:(ind2[0]-len(box))]\n",
    "    else:\n",
    "        # selected voxel is perfectly in the larger data cube.\n",
    "        x_inds = np.r_[ind1[0]:ind2[0]]\n",
    "\n",
    "    if ind1[1] < 0:\n",
    "        y_inds = np.r_[(ind1[1]+len(box)):len(box), 0:ind2[1]]\n",
    "    elif ind2[1] > len(box):\n",
    "        y_inds = np.r_[ind1[1]:len(box), 0:(ind2[1]-len(box))]\n",
    "    else:\n",
    "        y_inds = np.r_[ind1[1]:ind2[1]]\n",
    "\n",
    "    if ind1[2] < 0:\n",
    "        z_inds = np.r_[(ind1[2]+len(box)):len(box), 0:ind2[2]]\n",
    "    elif ind2[2] > len(box):\n",
    "        z_inds = np.r_[ind1[2]:len(box), 0:(ind2[2]-len(box))]\n",
    "    else:\n",
    "        z_inds = np.r_[ind1[2]:ind2[2]]\n",
    "                    \n",
    "    try:\n",
    "        # box[indices]\n",
    "        output_box = box[np.ix_(x_inds, y_inds, z_inds)]\n",
    "        \n",
    "    except IndexError:  # sample region larger than box.\n",
    "        print(f'ind1 = {ind1}')  # print useful info\n",
    "        print(f'ind2 = {ind2}')  # for debugging\n",
    "        print(f'box length = {len(box)}')\n",
    "        print(f'x_ind1 = {ind1[0]}')\n",
    "        print(f'x_ind2 = {ind2[0]}')\n",
    "        print(f'x_inds = {x_inds}')\n",
    "        print(f'y_ind1 = {ind1[1]}')\n",
    "        print(f'y_ind2 = {ind2[1]}')\n",
    "        print(f'y_inds = {y_inds}')\n",
    "        print(f'z_ind1 = {ind1[2]}')\n",
    "        print(f'z_ind2 = {ind2[2]}')\n",
    "        print(f'z_inds = {z_inds}')\n",
    "        \n",
    "    return output_box"
   ]
  },
  {
   "cell_type": "code",
   "execution_count": null,
   "metadata": {},
   "outputs": [],
   "source": [
    "def gaussian_sphere_average(\n",
    "    distance_box, \n",
    "    radius, \n",
    "    input_box, \n",
    "    shell_num, \n",
    "    sigma_factor\n",
    "):\n",
    "    \"\"\"\n",
    "    Takes in a cube of voxels and defines 'shell_num'\n",
    "    of concentric spherical shells and a core.\n",
    "    A mean is taken over the voxels in each shell and the core.\n",
    "    Then 'shell_num' equally spaced values are drawn as weights from 0 to \n",
    "    'sigma_factor' standard deviations of the Gaussian distribution.\n",
    "    Each spherical shell and the core is assigned a weight, \n",
    "    The inner most core is weighted the most.\n",
    "    The weights decrease moving outwards through the shells.\n",
    "    And the outmost shell is weighted the least.\n",
    "    The function then computes a weighted average over the shells and core.\n",
    "    \n",
    "    \n",
    "    \"\"\"\n",
    "    \n",
    "    \n",
    "    mean = np.zeros(shell_num)\n",
    "\n",
    "    shell_radius_edges = np.linspace(0,1,shell_num+1)\n",
    "    # sigma_factor number of sigmas the weighting goes out to, sigma = radius\n",
    "    shell_center = 0.5*(shell_radius_edges[1:] + shell_radius_edges[:-1])*sigma_factor \n",
    "    weight = Gaussian(x=shell_center)\n",
    "    \n",
    "    for ii in range(shell_num):\n",
    "        condition = np.logical_and(\n",
    "            distance_box <= shell_radius_edges[ii+1]*radius, \n",
    "            distance_box > shell_radius_edges[ii]*radius\n",
    "        )\n",
    "        mean[ii] = np.mean(input_box[condition])  # inside shell mean\n",
    "        \n",
    "    Gaussian_mean = np.average(mean, weights=weight)\n",
    "    \n",
    "    return Gaussian_mean"
   ]
  },
  {
   "cell_type": "code",
   "execution_count": 32,
   "metadata": {},
   "outputs": [],
   "source": [
    "box = distance_from_coordinate(9)"
   ]
  },
  {
   "cell_type": "code",
   "execution_count": 33,
   "metadata": {},
   "outputs": [],
   "source": [
    "import matplotlib.pyplot as plt"
   ]
  },
  {
   "cell_type": "code",
   "execution_count": 34,
   "metadata": {
    "scrolled": true
   },
   "outputs": [
    {
     "data": {
      "text/plain": [
       "<matplotlib.image.AxesImage at 0x7ff4fb7e88b0>"
      ]
     },
     "execution_count": 34,
     "metadata": {},
     "output_type": "execute_result"
    },
    {
     "data": {
      "image/png": "[encoded data removed]",
      "text/plain": [
       "<Figure size 432x288 with 1 Axes>"
      ]
     },
     "metadata": {
      "needs_background": "light"
     },
     "output_type": "display_data"
    }
   ],
   "source": [
    "plt.imshow(box[5, :, :])"
   ]
  },
  {
   "cell_type": "code",
   "execution_count": 35,
   "metadata": {},
   "outputs": [
    {
     "data": {
      "text/plain": [
       "<matplotlib.image.AxesImage at 0x7ff4fbd7ad00>"
      ]
     },
     "execution_count": 35,
     "metadata": {},
     "output_type": "execute_result"
    },
    {
     "data": {
      "image/png": "[encoded data removed]",
      "text/plain": [
       "<Figure size 432x288 with 1 Axes>"
      ]
     },
     "metadata": {
      "needs_background": "light"
     },
     "output_type": "display_data"
    }
   ],
   "source": [
    "plt.imshow(box[1, :, :])"
   ]
  },
  {
   "cell_type": "code",
   "execution_count": 3,
   "metadata": {},
   "outputs": [
    {
     "name": "stdout",
     "output_type": "stream",
     "text": [
      "5.0\n",
      "2.5\n",
      "1.25\n",
      "0.625\n",
      "0.3125\n",
      "0.15625\n",
      "0.078125\n",
      "0.0390625\n",
      "0.01953125\n",
      "0.009765625\n",
      "0.0048828125\n",
      "0.00244140625\n",
      "0.001220703125\n",
      "0.0006103515625\n",
      "0.00030517578125\n",
      "0.000152587890625\n",
      "7.62939453125e-05\n",
      "3.814697265625e-05\n",
      "1.9073486328125e-05\n",
      "9.5367431640625e-06\n",
      "4.76837158203125e-06\n",
      "2.384185791015625e-06\n",
      "1.1920928955078125e-06\n",
      "5.960464477539062e-07\n",
      "2.980232238769531e-07\n",
      "1.4901161193847656e-07\n",
      "7.450580596923828e-08\n",
      "3.725290298461914e-08\n",
      "1.862645149230957e-08\n",
      "9.313225746154785e-09\n",
      "4.6566128730773926e-09\n",
      "2.3283064365386963e-09\n",
      "1.1641532182693481e-09\n",
      "5.820766091346741e-10\n",
      "2.9103830456733704e-10\n",
      "1.4551915228366852e-10\n",
      "7.275957614183426e-11\n"
     ]
    }
   ],
   "source": [
    "A=10\n",
    "while A > 1e-10:\n",
    "    A -= 0.5*A\n",
    "    print(A)"
   ]
  },
  {
   "cell_type": "code",
   "execution_count": null,
   "metadata": {},
   "outputs": [],
   "source": [
    "@jit\n",
    "def average_neutral_fraction_distribution(\n",
    "    box, \n",
    "    radius, \n",
    "    iteration, \n",
    "    shell_num=6, \n",
    "    sigma_factor=1.4370397097748921*3, \n",
    "    blur_shape=None\n",
    "):\n",
    "    \n",
    "    box = box.copy()  # make copy of input box to have a separate box\n",
    "    \n",
    "    mean_data = np.zeros(iteration)  # empty list for data collection\n",
    "    \n",
    "    \n",
    "    if blur_shape == 'Gaussian_sphere':\n",
    "        \n",
    "        \n",
    "# ====================================================================================================================\n",
    "        # Radius Ratio 1\n",
    "        radius = int(round(radius*1.4370397097748921*3))\n",
    "        \n",
    "        # Radius Ratio 2\n",
    "#         radius = int(round(radius*((4/3/np.sqrt(np.pi))**(1/3))*13/4))  \n",
    "            # 13/4 --> speculated correction factor\n",
    "# ====================================================================================================================\n",
    "\n",
    "        \n",
    "        \n",
    "        # check to see if averaging region is largert than the box itself\n",
    "        check_averaging_radius_limit(radius, len(box))\n",
    "            \n",
    "        # used as condition to define a sphere within a cube\n",
    "        dist_frm_coord_box = distance_from_coordinate(radius*2+1)\n",
    "        \n",
    "        # iteration number of random cube region indices in the box\n",
    "        rand_coord_inds1, rand_coord_inds2 = random_cube_regions(\n",
    "            len(box), \n",
    "            iteration, \n",
    "            radius\n",
    "        )  \n",
    "\n",
    "        \n",
    "        for i in range(iteration):\n",
    "            cube_region_box = slicing_the_cube(\n",
    "                rand_coord_inds1[i, :], \n",
    "                rand_coord_inds2[i, :], \n",
    "                box\n",
    "            )\n",
    "            # mean\n",
    "            mean_data[i] = gaussian_sphere_average(\n",
    "                dist_frm_coord_box, \n",
    "                radius, \n",
    "                cube_region_box, \n",
    "                shell_num, \n",
    "                sigma_factor\n",
    "            )\n",
    "        \n",
    "    elif blur_shape == 'top_hat_sphere':\n",
    "        \n",
    "        # check to see if averaging region is largert than the box itself\n",
    "        check_averaging_radius_limit(radius, len(box))\n",
    "            \n",
    "        # used as condition to define a sphere within a cube\n",
    "        dist_frm_coord_box = distance_from_coordinate(radius*2+1)\n",
    "        \n",
    "        # iteration number of random cube region indices in the box\n",
    "        rand_coord_inds1, rand_coord_inds2 = random_cube_regions(\n",
    "            len(box), \n",
    "            iteration, \n",
    "            radius\n",
    "        )  \n",
    "        \n",
    "        for i in range(iteration):\n",
    "            cube_region_box = slicing_the_cube(\n",
    "                rand_coord_inds1[i, :], \n",
    "                rand_coord_inds2[i, :], \n",
    "                box\n",
    "            )\n",
    "            # mean\n",
    "            mean_data[i] = top_hat_sphere_average(\n",
    "                dist_frm_coord_box, \n",
    "                radius, \n",
    "                cube_region_box\n",
    "            )\n",
    "            \n",
    "    elif blur_shape == 'top_hat_cube':\n",
    "                \n",
    "        # ratio determiend by equating the volumes of cube & sphere\n",
    "        radius = int(round((radius*((4*np.pi/3)**(1/3))-1)/2))  \n",
    "\n",
    "        # check to see if averaging region is largert than the box itself\n",
    "        check_averaging_radius_limit(radius, len(box))\n",
    "\n",
    "        # iteration number of random cube region indices in the box\n",
    "        rand_coord_inds1, rand_coord_inds2 = random_cube_regions(\n",
    "            len(box), \n",
    "            iteration, \n",
    "            radius\n",
    "        )  \n",
    "        \n",
    "        for i in range(iteration):\n",
    "            cube_region_box = slicing_the_cube(\n",
    "                rand_coord_inds1[i, :], \n",
    "                rand_coord_inds2[i, :], \n",
    "                box\n",
    "            )\n",
    "            # mean\n",
    "            mean_data[i] = top_hat_cube_average(cube_region_box)\n",
    "    else:\n",
    "        \n",
    "        print('Blurring shape assumed to be a Gaussian sphere with 4 shells \\\n",
    "              weighted by equally spaced values from 0 sigma to 4 sigma.')\n",
    "                \n",
    "        \n",
    "# ====================================================================================================================\n",
    "        # Radius Ratio 1\n",
    "        radius = int(round(radius*1.4370397097748921*3))\n",
    "        \n",
    "        # Radius Ratio 2\n",
    "#         radius = int(round(radius*((4/3/np.sqrt(np.pi))**(1/3))*13/4))  \n",
    "            # 13/4 --> speculated correction factor\n",
    "# ====================================================================================================================\n",
    "        \n",
    "        \n",
    "        # check to see if averaging region is largert than the box itself\n",
    "        check_averaging_radius_limit(radius, len(box))\n",
    "\n",
    "        # used as condition to define a sphere within a cube\n",
    "        dist_frm_coord_box = distance_from_coordinate(radius*2+1)\n",
    "\n",
    "        # iteration number of random cube region indices in the box\n",
    "        rand_coord_inds1, rand_coord_inds2 = random_cube_regions(\n",
    "            len(box), \n",
    "            iteration, \n",
    "            radius\n",
    "        )  \n",
    "        \n",
    "        for i in range(iteration):\n",
    "            cube_region_box = slicing_the_cube(\n",
    "                rand_coord_inds1[i, :], \n",
    "                rand_coord_inds2[i, :], \n",
    "                box\n",
    "            )\n",
    "            mean_data[i] = gaussian_sphere_average(\n",
    "                dist_frm_coord_box, \n",
    "                radius, \n",
    "                cube_region_box, \n",
    "                shell_num, \n",
    "                sigma_factor\n",
    "            )\n",
    "            # mean\n",
    "            \n",
    "    return mean_data"
   ]
  },
  {
   "cell_type": "code",
   "execution_count": null,
   "metadata": {},
   "outputs": [],
   "source": [
    "def random_cube_regions(box_length, number_of_coordinates, radius):\n",
    "    \"\"\"\n",
    "    Selects a number cubical sub-regions\n",
    "    within a larger cube at random positions.\n",
    "    \n",
    "    Parameters\n",
    "    ----------\n",
    "    box_length            : int\n",
    "        Side length of the larger cube in\n",
    "        arbitrary units of number of cells.\n",
    "    number_of_coordinates : int\n",
    "        Νumber of sub-regions to be selected.\n",
    "    radius                : int\n",
    "        Side of the smaller selected cubical \n",
    "        sub-region in arbitrary units of number of cells.\n",
    "        Called radius because a sphere is\n",
    "        often define within this smaller cube.\n",
    "        \n",
    "    Returns\n",
    "    -------\n",
    "    inds1 : ndarray dtype:int\n",
    "        In 1D, the left bound that defines the cubical region.\n",
    "    inds2 : ndarray dtype:int\n",
    "        In 1D, the right bound that defines the cubical region.\n",
    "    \"\"\"\n",
    "    \n",
    "    np.random.seed()  # no entry: set seed to a randome number\n",
    "#     np.random.seed(4)  # specifying seed for testing purposes\n",
    "\n",
    "    # selecting 'number_of_coordiantes' random coordinates within larger cube\n",
    "    coordinates = np.random.randint(0, box_length, size=(number_of_coordinates, 3))\n",
    "    \n",
    "    # cube indices \n",
    "    inds1 = (coordinates-radius).astype(int)\n",
    "    inds2 = (coordinates+radius+1).astype(int)  # ending index is not inclusive\n",
    "    \n",
    "\n",
    "    return inds1, inds2"
   ]
  },
  {
   "cell_type": "code",
   "execution_count": null,
   "metadata": {},
   "outputs": [],
   "source": [
    "def slicing_the_cube(ind1, ind2, box):\n",
    "    \"\"\"\n",
    "    Selects a smaller cubical sub-region within a larger cube called 'box'.\n",
    "    Incoorporates periodic boundary conditions, i.e. Pac-Man effect.\n",
    "    This function takes in a set of slicing indices of one particular randomly\n",
    "    selected cubical sub-region and returns the selected smaller cube.\n",
    "    \n",
    "    Parameters\n",
    "    ----------\n",
    "    ind1 : 1D ndarray, dtype: int\n",
    "        The left bounds of the selected region in 1D respectively.\n",
    "    ind2 : 1D ndarray, dtype: int\n",
    "        The right bounds of the selected region in 1D respectively.\n",
    "    box  : 3D ndarray, dtype: float32\n",
    "        Data cube, when the smaller cubical\n",
    "        sub-regions are being selected from.\n",
    "        \n",
    "    Returns\n",
    "    -------\n",
    "    output_box : 3D ndarray, dtype: float32\n",
    "        The selected cubical smaller sub-region\n",
    "        within the larger data cube.\n",
    "    \"\"\"\n",
    "        \n",
    "    if ind1[0] < 0:  # periodic boundary conditions\n",
    "        # region that went beyond the zeroth voxel face of the\n",
    "        # cube is replaced by the region at the 'box_length'th\n",
    "        # voxel face of the cube with the same size.\n",
    "        x_inds = np.r_[(ind1[0]+len(box)):len(box), 0:ind2[0]]\n",
    "    elif ind2[0] > len(box):\n",
    "        # region that went beyond the 'box_length'th voxel face\n",
    "        # of the cube is replaced by the region at the zeroth \n",
    "        # voxel face of the cube with the same size.\n",
    "        x_inds = np.r_[ind1[0]:len(box), 0:(ind2[0]-len(box))]\n",
    "    else:\n",
    "        # selected voxel is perfectly in the larger data cube.\n",
    "        x_inds = np.r_[ind1[0]:ind2[0]]\n",
    "\n",
    "    if ind1[1] < 0:\n",
    "        y_inds = np.r_[(ind1[1]+len(box)):len(box), 0:ind2[1]]\n",
    "    elif ind2[1] > len(box):\n",
    "        y_inds = np.r_[ind1[1]:len(box), 0:(ind2[1]-len(box))]\n",
    "    else:\n",
    "        y_inds = np.r_[ind1[1]:ind2[1]]\n",
    "\n",
    "    if ind1[2] < 0:\n",
    "        z_inds = np.r_[(ind1[2]+len(box)):len(box), 0:ind2[2]]\n",
    "    elif ind2[2] > len(box):\n",
    "        z_inds = np.r_[ind1[2]:len(box), 0:(ind2[2]-len(box))]\n",
    "    else:\n",
    "        z_inds = np.r_[ind1[2]:ind2[2]]\n",
    "                    \n",
    "    try:\n",
    "        # box[indices]\n",
    "        output_box = box[np.ix_(x_inds, y_inds, z_inds)]\n",
    "        \n",
    "    except IndexError:  # sample region larger than box.\n",
    "        print(f'ind1 = {ind1}')  # print useful info\n",
    "        print(f'ind2 = {ind2}')  # for debugging\n",
    "        print(f'box length = {len(box)}')\n",
    "        print(f'x_ind1 = {ind1[0]}')\n",
    "        print(f'x_ind2 = {ind2[0]}')\n",
    "        print(f'x_inds = {x_inds}')\n",
    "        print(f'y_ind1 = {ind1[1]}')\n",
    "        print(f'y_ind2 = {ind2[1]}')\n",
    "        print(f'y_inds = {y_inds}')\n",
    "        print(f'z_ind1 = {ind1[2]}')\n",
    "        print(f'z_ind2 = {ind2[2]}')\n",
    "        print(f'z_inds = {z_inds}')\n",
    "        \n",
    "    return output_box"
   ]
  },
  {
   "cell_type": "code",
   "execution_count": null,
   "metadata": {},
   "outputs": [],
   "source": [
    "def gaussian_sphere_average(\n",
    "    distance_box, \n",
    "    radius, \n",
    "    input_box, \n",
    "    shell_num, \n",
    "    sigma_factor\n",
    "):\n",
    "    \"\"\"\n",
    "    Takes in a cube of voxels and defines 'shell_num'\n",
    "    of concentric spherical shells and a core.\n",
    "    A mean is taken over the voxels in each shell and the core.\n",
    "    Then 'shell_num' equally spaced values are drawn as weights from 0 to \n",
    "    'sigma_factor' standard deviations of the Gaussian distribution.\n",
    "    Each spherical shell and the core is assigned a weight, \n",
    "    The inner most core is weighted the most.\n",
    "    The weights decrease moving outwards through the shells.\n",
    "    And the outmost shell is weighted the least.\n",
    "    The function then computes a weighted average over the shells and core.\n",
    "    \n",
    "    Parameters\n",
    "    ----------\n",
    "    distance_box : 3D ndarray, dtype: float32\n",
    "        Cube of voxels with each voxel having its \n",
    "        distance from the center assigned to it.\n",
    "        This function uses the distance box to\n",
    "        set the condition required to slice\n",
    "        the voxels in the spherical shells.\n",
    "    radius : int\n",
    "        Radius of the Guassian sphere, i.e. \n",
    "        the sphere complied by the center core \n",
    "        and the concentric spherical shells \n",
    "        in units of number of voxels.\n",
    "    input_box : \n",
    "    \n",
    "    \n",
    "    \n",
    "    \"\"\"\n",
    "    \n",
    "    \n",
    "    mean = np.zeros(shell_num)\n",
    "\n",
    "    shell_radius_edges = np.linspace(0,1,shell_num+1)\n",
    "    # sigma_factor number of sigmas the weighting goes out to, sigma = radius\n",
    "    shell_center = 0.5*(shell_radius_edges[1:] + shell_radius_edges[:-1])*sigma_factor \n",
    "    weight = Gaussian(x=shell_center)\n",
    "    \n",
    "    for ii in range(shell_num):\n",
    "        condition = np.logical_and(\n",
    "            distance_box <= shell_radius_edges[ii+1]*radius, \n",
    "            distance_box > shell_radius_edges[ii]*radius\n",
    "        )\n",
    "        mean[ii] = np.mean(input_box[condition])  # inside shell mean\n",
    "        \n",
    "    Gaussian_mean = np.average(mean, weights=weight)\n",
    "    \n",
    "    return Gaussian_mean"
   ]
  },
  {
   "cell_type": "code",
   "execution_count": 2,
   "metadata": {},
   "outputs": [
    {
     "data": {
      "text/plain": [
       "0.3608485559814703"
      ]
     },
     "execution_count": 2,
     "metadata": {},
     "output_type": "execute_result"
    }
   ],
   "source": [
    "((1.5-1.33)/(1.5+1.33))**2*100"
   ]
  },
  {
   "cell_type": "code",
   "execution_count": 3,
   "metadata": {},
   "outputs": [
    {
     "data": {
      "text/plain": [
       "2.173913043478261"
      ]
     },
     "execution_count": 3,
     "metadata": {},
     "output_type": "execute_result"
    }
   ],
   "source": [
    "3/1.38"
   ]
  },
  {
   "cell_type": "code",
   "execution_count": 5,
   "metadata": {},
   "outputs": [
    {
     "data": {
      "text/plain": [
       "1.8433179723502305e-14"
      ]
     },
     "execution_count": 5,
     "metadata": {},
     "output_type": "execute_result"
    }
   ],
   "source": [
    "4e-6/(2.17e8)"
   ]
  },
  {
   "cell_type": "code",
   "execution_count": 7,
   "metadata": {},
   "outputs": [
    {
     "data": {
      "text/plain": [
       "1.8891551459293396e-14"
      ]
     },
     "execution_count": 7,
     "metadata": {},
     "output_type": "execute_result"
    }
   ],
   "source": [
    "3e-6/(2.17e8) + 1e-6/(3e8/1.52)"
   ]
  },
  {
   "cell_type": "code",
   "execution_count": null,
   "metadata": {},
   "outputs": [],
   "source": [
    "@jit\n",
    "def average_neutral_fraction_distribution(\n",
    "    box, \n",
    "    radius, \n",
    "    iteration, \n",
    "    shell_num=6, \n",
    "    sigma_factor=1.4370397097748921*3, \n",
    "    blur_shape=None\n",
    "):\n",
    "    \n",
    "    box = box.copy()  # make copy of input box to have a separate box\n",
    "    \n",
    "    mean_data = np.zeros(iteration)  # empty list for data collection\n",
    "    \n",
    "    \n",
    "    if blur_shape == 'Gaussian_sphere':\n",
    "        \n",
    "        \n",
    "# ====================================================================================================================\n",
    "        # Radius Ratio 1\n",
    "        radius = int(round(radius*1.4370397097748921*3))\n",
    "        \n",
    "        # Radius Ratio 2\n",
    "#         radius = int(round(radius*((4/3/np.sqrt(np.pi))**(1/3))*13/4))  \n",
    "            # 13/4 --> speculated correction factor\n",
    "# ====================================================================================================================\n",
    "\n",
    "        \n",
    "        \n",
    "        # check to see if averaging region is largert than the box itself\n",
    "        check_averaging_radius_limit(radius, len(box))\n",
    "            \n",
    "        # used as condition to define a sphere within a cube\n",
    "        dist_frm_coord_box = distance_from_coordinate(radius*2+1)\n",
    "        \n",
    "        # iteration number of random cube region indices in the box\n",
    "        rand_coord_inds1, rand_coord_inds2 = random_cube_regions(\n",
    "            len(box), \n",
    "            iteration, \n",
    "            radius\n",
    "        )  \n",
    "\n",
    "        \n",
    "        for i in range(iteration):\n",
    "            cube_region_box = slicing_the_cube(\n",
    "                rand_coord_inds1[i, :], \n",
    "                rand_coord_inds2[i, :], \n",
    "                box\n",
    "            )\n",
    "            # mean\n",
    "            mean_data[i] = gaussian_sphere_average(\n",
    "                dist_frm_coord_box, \n",
    "                radius, \n",
    "                cube_region_box, \n",
    "                shell_num, \n",
    "                sigma_factor\n",
    "            )\n",
    "        \n",
    "    elif blur_shape == 'top_hat_sphere':\n",
    "        \n",
    "        # check to see if averaging region is largert than the box itself\n",
    "        check_averaging_radius_limit(radius, len(box))\n",
    "            \n",
    "        # used as condition to define a sphere within a cube\n",
    "        dist_frm_coord_box = distance_from_coordinate(radius*2+1)\n",
    "        \n",
    "        # iteration number of random cube region indices in the box\n",
    "        rand_coord_inds1, rand_coord_inds2 = random_cube_regions(\n",
    "            len(box), \n",
    "            iteration, \n",
    "            radius\n",
    "        )  \n",
    "        \n",
    "        for i in range(iteration):\n",
    "            cube_region_box = slicing_the_cube(\n",
    "                rand_coord_inds1[i, :], \n",
    "                rand_coord_inds2[i, :], \n",
    "                box\n",
    "            )\n",
    "            # mean\n",
    "            mean_data[i] = top_hat_sphere_average(\n",
    "                dist_frm_coord_box, \n",
    "                radius, \n",
    "                cube_region_box\n",
    "            )\n",
    "            \n",
    "    elif blur_shape == 'top_hat_cube':\n",
    "                \n",
    "        # ratio determiend by equating the volumes of cube & sphere\n",
    "        radius = int(round((radius*((4*np.pi/3)**(1/3))-1)/2))  \n",
    "\n",
    "        # check to see if averaging region is largert than the box itself\n",
    "        check_averaging_radius_limit(radius, len(box))\n",
    "\n",
    "        # iteration number of random cube region indices in the box\n",
    "        rand_coord_inds1, rand_coord_inds2 = random_cube_regions(\n",
    "            len(box), \n",
    "            iteration, \n",
    "            radius\n",
    "        )  \n",
    "        \n",
    "        for i in range(iteration):\n",
    "            cube_region_box = slicing_the_cube(\n",
    "                rand_coord_inds1[i, :], \n",
    "                rand_coord_inds2[i, :], \n",
    "                box\n",
    "            )\n",
    "            # mean\n",
    "            mean_data[i] = top_hat_cube_average(cube_region_box)\n",
    "    else:\n",
    "        \n",
    "        print('Blurring shape assumed to be a Gaussian sphere with 4 shells \\\n",
    "              weighted by equally spaced values from 0 sigma to 4 sigma.')\n",
    "                \n",
    "        \n",
    "# ====================================================================================================================\n",
    "        # Radius Ratio 1\n",
    "        radius = int(round(radius*1.4370397097748921*3))\n",
    "        \n",
    "        # Radius Ratio 2\n",
    "#         radius = int(round(radius*((4/3/np.sqrt(np.pi))**(1/3))*13/4))  \n",
    "            # 13/4 --> speculated correction factor\n",
    "# ====================================================================================================================\n",
    "        \n",
    "        \n",
    "        # check to see if averaging region is largert than the box itself\n",
    "        check_averaging_radius_limit(radius, len(box))\n",
    "\n",
    "        # used as condition to define a sphere within a cube\n",
    "        dist_frm_coord_box = distance_from_coordinate(radius*2+1)\n",
    "\n",
    "        # iteration number of random cube region indices in the box\n",
    "        rand_coord_inds1, rand_coord_inds2 = random_cube_regions(\n",
    "            len(box), \n",
    "            iteration, \n",
    "            radius\n",
    "        )  \n",
    "        \n",
    "        for i in range(iteration):\n",
    "            cube_region_box = slicing_the_cube(\n",
    "                rand_coord_inds1[i, :], \n",
    "                rand_coord_inds2[i, :], \n",
    "                box\n",
    "            )\n",
    "            mean_data[i] = gaussian_sphere_average(\n",
    "                dist_frm_coord_box, \n",
    "                radius, \n",
    "                cube_region_box, \n",
    "                shell_num, \n",
    "                sigma_factor\n",
    "            )\n",
    "            # mean\n",
    "            \n",
    "    return mean_data"
   ]
  },
  {
   "cell_type": "code",
   "execution_count": null,
   "metadata": {},
   "outputs": [],
   "source": [
    "    # modified to return output_box_indices\n",
    "    def modified_slicing_the_cube(ind1, ind2, box):\n",
    "        \"\"\"\n",
    "        Selects a smaller cubical sub-region within a larger cube called 'box'.\n",
    "        Incoorporates periodic boundary conditions, i.e. Pac-Man effect.\n",
    "        This function takes in a set of slicing indices of one particular randomly\n",
    "        selected cubical sub-region and returns the selected smaller cube.\n",
    "\n",
    "        Parameters\n",
    "        ----------\n",
    "        ind1 : 1D ndarray, dtype: int\n",
    "            The left bounds of the selected region in 1D respectively.\n",
    "        ind2 : 1D ndarray, dtype: int\n",
    "            The right bounds of the selected region in 1D respectively.\n",
    "        box  : 3D ndarray, dtype: float32\n",
    "            Data cube, when the smaller cubical\n",
    "            sub-regions are being selected from.\n",
    "\n",
    "        Returns\n",
    "        -------\n",
    "        output_box : 3D ndarray, dtype: float32\n",
    "            The selected cubical smaller sub-region\n",
    "            within the larger data cube.\n",
    "        \"\"\"\n",
    "\n",
    "        if ind1[0] < 0:  # periodic boundary conditions\n",
    "            # region that went beyond the zeroth voxel face of the\n",
    "            # cube is replaced by the region at the 'len(box)gth'th\n",
    "            # voxel face of the cube with the same size.\n",
    "            x_inds = np.r_[(ind1[0]+len(box)):len(box), 0:ind2[0]]\n",
    "        elif ind2[0] > len(box):\n",
    "            # region that went beyond the 'len(box)gth'th voxel face\n",
    "            # of the cube is replaced by the region at the zeroth \n",
    "            # voxel face of the cube with the same size.\n",
    "            x_inds = np.r_[ind1[0]:len(box), 0:(ind2[0]-len(box))]\n",
    "        else:\n",
    "            # selected voxel is perfectly in the larger data cube.\n",
    "            x_inds = np.r_[ind1[0]:ind2[0]]\n",
    "\n",
    "        if ind1[1] < 0:\n",
    "            y_inds = np.r_[(ind1[1]+len(box)):len(box), 0:ind2[1]]\n",
    "        elif ind2[1] > len(box):\n",
    "            y_inds = np.r_[ind1[1]:len(box), 0:(ind2[1]-len(box))]\n",
    "        else:\n",
    "            y_inds = np.r_[ind1[1]:ind2[1]]\n",
    "\n",
    "        if ind1[2] < 0:\n",
    "            z_inds = np.r_[(ind1[2]+len(box)):len(box), 0:ind2[2]]\n",
    "        elif ind2[2] > len(box):\n",
    "            z_inds = np.r_[ind1[2]:len(box), 0:(ind2[2]-len(box))]\n",
    "        else:\n",
    "            z_inds = np.r_[ind1[2]:ind2[2]]\n",
    "\n",
    "        try:\n",
    "            # box[indices]\n",
    "            output_box_indices = np.ix_(x_inds, y_inds, z_inds)\n",
    "            output_box = box[output_box_indices]\n",
    "\n",
    "        except IndexError:  # sample region larger than box.\n",
    "            print(f'ind1 = {ind1}')  # print useful info\n",
    "            print(f'ind2 = {ind2}')  # for debugging\n",
    "            print(f'box length = {len(box)}')\n",
    "            print(f'x_ind1 = {ind1[0]}')\n",
    "            print(f'x_ind2 = {ind2[0]}')\n",
    "            print(f'x_inds = {x_inds}')\n",
    "            print(f'y_ind1 = {ind1[1]}')\n",
    "            print(f'y_ind2 = {ind2[1]}')\n",
    "            print(f'y_inds = {y_inds}')\n",
    "            print(f'z_ind1 = {ind1[2]}')\n",
    "            print(f'z_ind2 = {ind2[2]}')\n",
    "            print(f'z_inds = {z_inds}')\n",
    "\n",
    "        return output_box_indices"
   ]
  }
 ],
 "metadata": {
  "kernelspec": {
   "display_name": "21cmfast",
   "language": "python",
   "name": "21cmfast"
  },
  "language_info": {
   "codemirror_mode": {
    "name": "ipython",
    "version": 3
   },
   "file_extension": ".py",
   "mimetype": "text/x-python",
   "name": "python",
   "nbconvert_exporter": "python",
   "pygments_lexer": "ipython3",
   "version": "3.8.3"
  }
 },
 "nbformat": 4,
 "nbformat_minor": 4
}
