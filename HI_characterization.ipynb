{
 "cells": [
  {
   "cell_type": "markdown",
   "metadata": {},
   "source": [
    "## Importing libraries"
   ]
  },
  {
   "cell_type": "code",
   "execution_count": 33,
   "metadata": {
    "ExecuteTime": {
     "end_time": "2020-07-02T23:26:23.144633Z",
     "start_time": "2020-07-02T23:26:23.123419Z"
    }
   },
   "outputs": [],
   "source": [
    "%matplotlib inline\n",
    "import matplotlib.pyplot as plt\n",
    "import logging\n",
    "import numpy as np\n",
    "import py21cmfast as p21c"
   ]
  },
  {
   "cell_type": "markdown",
   "metadata": {
    "ExecuteTime": {
     "end_time": "2020-06-23T23:32:36.279708Z",
     "start_time": "2020-06-23T23:32:35.095825Z"
    }
   },
   "source": [
    "## Cosmological Parameters (Default is used when no input is specified)"
   ]
  },
  {
   "cell_type": "code",
   "execution_count": 34,
   "metadata": {
    "ExecuteTime": {
     "end_time": "2020-07-02T23:26:23.152729Z",
     "start_time": "2020-07-02T23:26:23.148065Z"
    }
   },
   "outputs": [],
   "source": [
    "cosmo_params = p21c.CosmoParams()"
   ]
  },
  {
   "cell_type": "markdown",
   "metadata": {},
   "source": [
    "## User Parameters, like box length, number of voxels (i.e. resolution) etc."
   ]
  },
  {
   "cell_type": "code",
   "execution_count": 35,
   "metadata": {
    "ExecuteTime": {
     "end_time": "2020-07-02T23:26:23.164268Z",
     "start_time": "2020-07-02T23:26:23.157641Z"
    }
   },
   "outputs": [],
   "source": [
    "BOX_LEN=301  # Box length\n",
    "DIM=2*BOX_LEN      # Number of Voxels for hight resolution \n",
    "HII_DIM=BOX_LEN  # Number of Voxels for low resolution \n",
    "\n",
    "user_params = p21c.UserParams(\n",
    "    BOX_LEN=BOX_LEN,\n",
    "    DIM=DIM,\n",
    "    HII_DIM=HII_DIM\n",
    ")"
   ]
  },
  {
   "cell_type": "code",
   "execution_count": 2,
   "metadata": {
    "ExecuteTime": {
     "end_time": "2020-07-13T17:53:56.222152Z",
     "start_time": "2020-07-13T17:53:54.829154Z"
    }
   },
   "outputs": [],
   "source": [
    "import py21cmfast as p21c\n",
    "p21c.UserParams?"
   ]
  },
  {
   "cell_type": "markdown",
   "metadata": {},
   "source": [
    "## Creating initial conditions box"
   ]
  },
  {
   "cell_type": "code",
   "execution_count": 36,
   "metadata": {
    "ExecuteTime": {
     "end_time": "2020-07-02T23:26:43.627806Z",
     "start_time": "2020-07-02T23:26:23.168422Z"
    }
   },
   "outputs": [],
   "source": [
    "init_cond = p21c.initial_conditions(\n",
    "    cosmo_params=cosmo_params,\n",
    "    user_params=user_params\n",
    ")"
   ]
  },
  {
   "cell_type": "markdown",
   "metadata": {},
   "source": [
    "## Gaussian function"
   ]
  },
  {
   "cell_type": "code",
   "execution_count": 37,
   "metadata": {
    "ExecuteTime": {
     "end_time": "2020-07-02T23:26:43.634096Z",
     "start_time": "2020-07-02T23:26:43.629935Z"
    }
   },
   "outputs": [],
   "source": [
    "def Gaussian(x, sigma=1, mu=0):\n",
    "    return (1/sigma/np.sqrt(2*np.pi))*(np.exp(-0.5*(((x-mu)/sigma)**2)))"
   ]
  },
  {
   "cell_type": "markdown",
   "metadata": {},
   "source": [
    "## Measure the distance of each voxel to the center"
   ]
  },
  {
   "cell_type": "code",
   "execution_count": 38,
   "metadata": {
    "ExecuteTime": {
     "end_time": "2020-07-02T23:26:43.642772Z",
     "start_time": "2020-07-02T23:26:43.636481Z"
    }
   },
   "outputs": [],
   "source": [
    "def distance_from_coordinate(box_shape):\n",
    "    index_x = np.arange(-0.5*(box_shape[0]-1), 0.5*(box_shape[0]+1))\n",
    "    index_y = np.arange(-0.5*(box_shape[1]-1), 0.5*(box_shape[1]+1))\n",
    "    index_z = np.arange(-0.5*(box_shape[2]-1), 0.5*(box_shape[2]+1))\n",
    "\n",
    "    x_mesh, y_mesh, z_mesh = np.meshgrid(index_x, index_y, index_z, indexing='ij')\n",
    "\n",
    "    distance = np.sqrt((x_mesh)**2 + (y_mesh)**2 + (z_mesh)**2)\n",
    "    \n",
    "    return distance"
   ]
  },
  {
   "cell_type": "markdown",
   "metadata": {},
   "source": [
    "## Random Coordinate"
   ]
  },
  {
   "cell_type": "code",
   "execution_count": 39,
   "metadata": {
    "ExecuteTime": {
     "end_time": "2020-07-02T23:26:43.650268Z",
     "start_time": "2020-07-02T23:26:43.646134Z"
    }
   },
   "outputs": [],
   "source": [
    "def random_voxel(box_shape):\n",
    "    np.random.seed()  # set seed to a randome number    \n",
    "#     np.random.seed(5) ; np.random.rand(10)\n",
    "    \n",
    "    coordinate = [np.random.randint(0, side_length) for side_length in box_shape]\n",
    "    \n",
    "    return coordinate"
   ]
  },
  {
   "cell_type": "markdown",
   "metadata": {},
   "source": [
    "## Select a Smaller Cube with Sides 2R+1 Voxels, Centered about the Random Coordinate"
   ]
  },
  {
   "cell_type": "code",
   "execution_count": 40,
   "metadata": {
    "ExecuteTime": {
     "end_time": "2020-07-02T23:26:43.668274Z",
     "start_time": "2020-07-02T23:26:43.655971Z"
    }
   },
   "outputs": [],
   "source": [
    "def cube_centered_about_coordinate(coordinate_array, radius, box):\n",
    "    x_ind1 = coordinate_array[0]-radius  # x-domian\n",
    "    x_ind2 = coordinate_array[0]+radius+1  # ending index is not inclusive\n",
    "    y_ind1 = coordinate_array[1]-radius  # y-domain\n",
    "    y_ind2 = coordinate_array[1]+radius+1\n",
    "    z_ind1 = coordinate_array[2]-radius  # z-domain\n",
    "    z_ind2 = coordinate_array[2]+radius+1\n",
    "\n",
    "    if x_ind1 < 0:  # periodic boundary conditions\n",
    "        x_inds = np.r_[(x_ind1+box.shape[0]):box.shape[0], 0:x_ind2]\n",
    "    elif x_ind2 > box.shape[0]:\n",
    "        x_inds = np.r_[x_ind1:box.shape[0], 0:(x_ind2-box.shape[0])]\n",
    "    else:\n",
    "        x_inds = np.r_[x_ind1:x_ind2]\n",
    "\n",
    "    if y_ind1 < 0:\n",
    "        y_inds = np.r_[(y_ind1+box.shape[1]):box.shape[1], 0:y_ind2]\n",
    "    elif y_ind2 > box.shape[1]:\n",
    "        y_inds = np.r_[y_ind1:box.shape[1], 0:(y_ind2-box.shape[1])]\n",
    "    else:\n",
    "        y_inds = np.r_[y_ind1:y_ind2]\n",
    "\n",
    "    if z_ind1 < 0:\n",
    "        z_inds = np.r_[(z_ind1+box.shape[2]):box.shape[2], 0:z_ind2]\n",
    "    elif z_ind2 > box.shape[2]:\n",
    "        z_inds = np.r_[z_ind1:box.shape[2], 0:(z_ind2-box.shape[2])]\n",
    "    else:\n",
    "        z_inds = np.r_[z_ind1:z_ind2]\n",
    "\n",
    "    indices = np.ix_(x_inds, y_inds, z_inds)\n",
    "    \n",
    "    cube = box[indices]\n",
    "    \n",
    "    return cube"
   ]
  },
  {
   "cell_type": "markdown",
   "metadata": {},
   "source": [
    "## Average values of a shperical region in a given box,  with diameter = sides of box, sphere centered on cube's center"
   ]
  },
  {
   "cell_type": "code",
   "execution_count": 41,
   "metadata": {
    "ExecuteTime": {
     "end_time": "2020-07-02T23:26:43.675868Z",
     "start_time": "2020-07-02T23:26:43.671955Z"
    }
   },
   "outputs": [],
   "source": [
    "def top_hat_sphere_average_value(distance_box, radius, input_box):\n",
    "    sphere_condition_box =  distance_box <= radius\n",
    "    inside_sphere_mean = np.mean(input_box[sphere_condition_box])  # slicing shaped array by condition will ravel the array\n",
    "    return inside_sphere_mean"
   ]
  },
  {
   "cell_type": "markdown",
   "metadata": {},
   "source": [
    "## Gausssian Averaging"
   ]
  },
  {
   "cell_type": "code",
   "execution_count": 42,
   "metadata": {
    "ExecuteTime": {
     "end_time": "2020-07-02T23:26:43.687086Z",
     "start_time": "2020-07-02T23:26:43.678916Z"
    }
   },
   "outputs": [],
   "source": [
    "def gaussian_sphere_average_value(distance_box, radius, input_box, shell_num):\n",
    "    \n",
    "    mean = []\n",
    "\n",
    "    shell_radius_edges = np.linspace(0,1,shell_num+1)\n",
    "    shell_center = 0.5*(shell_radius_edges[1:] + shell_radius_edges[:-1])\n",
    "    weight = Gaussian(x=shell_center*4)\n",
    "\n",
    "    for ii in range(shell_num):\n",
    "        condition = np.logical_and(distance_box <= shell_radius_edges[ii+1]*radius, distance_box > shell_radius_edges[ii]*radius)\n",
    "        inside_shell_mean = np.mean(input_box[condition])\n",
    "        mean = np.append(mean, inside_shell_mean)\n",
    "\n",
    "    Gaussian_mean = np.average(mean, weights=weight)\n",
    "    \n",
    "    return Gaussian_mean"
   ]
  },
  {
   "cell_type": "markdown",
   "metadata": {},
   "source": [
    "## Sphere Blurring Function"
   ]
  },
  {
   "cell_type": "code",
   "execution_count": 43,
   "metadata": {
    "ExecuteTime": {
     "end_time": "2020-07-02T23:26:43.694461Z",
     "start_time": "2020-07-02T23:26:43.689192Z"
    },
    "code_folding": []
   },
   "outputs": [],
   "source": [
    "def Average_Neutral_Fraction_Distribution(box, radius, iteration, shell_num=1):\n",
    "    \n",
    "    box = box.copy()  # make copy of input box to have a separate box\n",
    "    \n",
    "    dist_frm_coord_box = distance_from_coordinate([radius*2+1]*3)\n",
    "\n",
    "    inside_sphere_mean_data = []  # empty list for data collection\n",
    "    \n",
    "    for i in range(iteration):\n",
    "        \n",
    "        rand_coord = random_voxel(box.shape)\n",
    "                \n",
    "        cube_region_box = cube_centered_about_coordinate(rand_coord, radius, box)\n",
    "        \n",
    "        inside_sphere_mean = gaussian_sphere_average_value(dist_frm_coord_box, radius, cube_region_box, shell_num)\n",
    "        \n",
    "        inside_sphere_mean_data = np.append(inside_sphere_mean_data, inside_sphere_mean)\n",
    "        \n",
    "    return np.array(inside_sphere_mean_data)"
   ]
  },
  {
   "cell_type": "markdown",
   "metadata": {},
   "source": [
    "## Make the colorbar fit with the plot in the figures"
   ]
  },
  {
   "cell_type": "code",
   "execution_count": 44,
   "metadata": {
    "ExecuteTime": {
     "end_time": "2020-07-02T23:26:43.701405Z",
     "start_time": "2020-07-02T23:26:43.696722Z"
    }
   },
   "outputs": [],
   "source": [
    "def colorbar(mappable):\n",
    "    from mpl_toolkits.axes_grid1 import make_axes_locatable\n",
    "    import matplotlib.pyplot as plt\n",
    "    last_axes = plt.gca()\n",
    "    ax = mappable.axes\n",
    "    fig = ax.figure\n",
    "    divider = make_axes_locatable(ax)\n",
    "    cax = divider.append_axes(\"right\", size=\"5%\", pad=0.05)\n",
    "    cbar = fig.colorbar(mappable, cax=cax, label=\"Neutral Fraction\")\n",
    "    plt.sca(last_axes)\n",
    "    return cbar"
   ]
  },
  {
   "cell_type": "markdown",
   "metadata": {},
   "source": [
    "## Histogram Function"
   ]
  },
  {
   "cell_type": "code",
   "execution_count": 45,
   "metadata": {
    "ExecuteTime": {
     "end_time": "2020-07-02T23:26:43.709540Z",
     "start_time": "2020-07-02T23:26:43.703767Z"
    },
    "scrolled": true
   },
   "outputs": [],
   "source": [
    "def histogram(f1, x_start=0, x_stop=1, bin_num=100):  # a: x start, b: x stop\n",
    "    bin_edges = np.linspace(x_start, x_stop, bin_num) # 100 bins from 0-1\n",
    "    hist1, _ = np.histogram(f1, bins=bin_edges)\n",
    "#     hist2, _ = np.histogram(f2, bins=bin_edges)\n",
    "#     hist3, _ = np.histogram(f3, bins=bin_edges)\n",
    "\n",
    "    bin_centers = 0.5 * (bin_edges[1:] + bin_edges[:-1])\n",
    "    fig, axes = plt.subplots(ncols=1, figsize=(8,8))\n",
    "    axes.plot(bin_centers, hist1)\n",
    "#     axes[1].plot(bin_centers, hist2)\n",
    "#     axes[2].plot(bin_centers, hist3)\n",
    "#     plt.title(\"Distribution\", color='white')\n",
    "#     plt.xlabel(\"Neutral Fraction\", color='white')\n",
    "    \n",
    "    # Set the borders to a given color...\n",
    "#     for ax in axes:\n",
    "    axes.tick_params(color='white', labelcolor='white')\n",
    "    for spine in axes.spines.values():\n",
    "        spine.set_edgecolor('white')"
   ]
  },
  {
   "cell_type": "markdown",
   "metadata": {},
   "source": [
    "## Creating Ionize box"
   ]
  },
  {
   "cell_type": "code",
   "execution_count": 46,
   "metadata": {
    "ExecuteTime": {
     "end_time": "2020-07-02T23:26:44.911030Z",
     "start_time": "2020-07-02T23:26:43.712211Z"
    }
   },
   "outputs": [],
   "source": [
    "z = 6.5\n",
    "ionized = p21c.ionize_box(redshift=z, init_boxes=init_cond).xH_box"
   ]
  },
  {
   "cell_type": "markdown",
   "metadata": {},
   "source": [
    "## Creating Noise Box"
   ]
  },
  {
   "cell_type": "code",
   "execution_count": 47,
   "metadata": {
    "ExecuteTime": {
     "end_time": "2020-07-02T23:26:45.327993Z",
     "start_time": "2020-07-02T23:26:44.912946Z"
    }
   },
   "outputs": [],
   "source": [
    "np.random.seed()\n",
    "noise_box = np.random.rand(BOX_LEN, BOX_LEN, BOX_LEN)"
   ]
  },
  {
   "cell_type": "markdown",
   "metadata": {},
   "source": [
    "## Blurring the box"
   ]
  },
  {
   "cell_type": "code",
   "execution_count": 51,
   "metadata": {
    "ExecuteTime": {
     "end_time": "2020-07-03T04:09:26.292274Z",
     "start_time": "2020-07-03T04:09:13.308990Z"
    }
   },
   "outputs": [
    {
     "name": "stdout",
     "output_type": "stream",
     "text": [
      "1.6 s ± 5.93 ms per loop (mean ± std. dev. of 7 runs, 1 loop each)\n"
     ]
    }
   ],
   "source": [
    "%%timeit\n",
    "Avg_Neu_Frac_Dist = Average_Neutral_Fraction_Distribution(box=ionized, radius=150, iteration=1, shell_num=5)"
   ]
  },
  {
   "cell_type": "markdown",
   "metadata": {},
   "source": [
    "## Creating Histogram"
   ]
  },
  {
   "cell_type": "markdown",
   "metadata": {},
   "source": [
    "# Distribution of average values of a noise box"
   ]
  },
  {
   "cell_type": "code",
   "execution_count": 49,
   "metadata": {
    "ExecuteTime": {
     "end_time": "2020-07-02T23:27:01.179767Z",
     "start_time": "2020-07-02T23:27:00.995150Z"
    }
   },
   "outputs": [
    {
     "data": {
      "image/png": "[encoded data removed]",
      "text/plain": [
       "<Figure size 576x576 with 1 Axes>"
      ]
     },
     "metadata": {
      "needs_background": "dark"
     },
     "output_type": "display_data"
    }
   ],
   "source": [
    "histogram(Avg_Neu_Frac_Dist)"
   ]
  },
  {
   "cell_type": "code",
   "execution_count": 50,
   "metadata": {
    "ExecuteTime": {
     "end_time": "2020-07-02T23:27:01.185211Z",
     "start_time": "2020-07-02T23:27:01.181573Z"
    }
   },
   "outputs": [
    {
     "data": {
      "text/plain": [
       "array([0.27219977])"
      ]
     },
     "execution_count": 50,
     "metadata": {},
     "output_type": "execute_result"
    }
   ],
   "source": [
    "Avg_Neu_Frac_Dist"
   ]
  },
  {
   "cell_type": "code",
   "execution_count": null,
   "metadata": {},
   "outputs": [],
   "source": []
  }
 ],
 "metadata": {
  "kernelspec": {
   "display_name": "21cmfast2",
   "language": "python",
   "name": "21cmfast2"
  },
  "language_info": {
   "codemirror_mode": {
    "name": "ipython",
    "version": 3
   },
   "file_extension": ".py",
   "mimetype": "text/x-python",
   "name": "python",
   "nbconvert_exporter": "python",
   "pygments_lexer": "ipython3",
   "version": "3.7.7"
  }
 },
 "nbformat": 4,
 "nbformat_minor": 4
}
