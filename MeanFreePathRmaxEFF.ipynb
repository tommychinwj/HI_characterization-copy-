{
 "cells": [
  {
   "cell_type": "markdown",
   "metadata": {},
   "source": [
    "## Importing Libraries"
   ]
  },
  {
   "cell_type": "code",
   "execution_count": 1,
   "metadata": {
    "ExecuteTime": {
     "end_time": "2020-07-13T18:40:31.131377Z",
     "start_time": "2020-07-13T18:40:31.125544Z"
    }
   },
   "outputs": [],
   "source": [
    "%matplotlib inline\n",
    "import matplotlib.pyplot as plt\n",
    "import numpy as np\n",
    "import py21cmfast as p21c\n",
    "from datetime import datetime\n",
    "import logging, os\n",
    "from numba import njit, jit"
   ]
  },
  {
   "cell_type": "markdown",
   "metadata": {},
   "source": [
    "## Set logger to log caching activity"
   ]
  },
  {
   "cell_type": "code",
   "execution_count": 2,
   "metadata": {},
   "outputs": [],
   "source": [
    "logger = logging.getLogger('21cmFAST')\n",
    "logger.setLevel(logging.INFO)"
   ]
  },
  {
   "cell_type": "markdown",
   "metadata": {},
   "source": [
    "## Version of 21cmFAST"
   ]
  },
  {
   "cell_type": "code",
   "execution_count": 3,
   "metadata": {
    "ExecuteTime": {
     "end_time": "2020-07-13T18:40:31.679355Z",
     "start_time": "2020-07-13T18:40:31.675874Z"
    },
    "scrolled": true
   },
   "outputs": [
    {
     "name": "stdout",
     "output_type": "stream",
     "text": [
      "Using 21cmFAST version 3.0.0.dev5\n"
     ]
    }
   ],
   "source": [
    "print(f\"Using 21cmFAST version {p21c.__version__}\")"
   ]
  },
  {
   "cell_type": "markdown",
   "metadata": {},
   "source": [
    "## Number of cores running"
   ]
  },
  {
   "cell_type": "code",
   "execution_count": 4,
   "metadata": {
    "scrolled": true
   },
   "outputs": [
    {
     "name": "stdout",
     "output_type": "stream",
     "text": [
      "Number of threads running = 16\n"
     ]
    }
   ],
   "source": [
    "print(f'Number of threads running = {os.cpu_count()}')"
   ]
  },
  {
   "cell_type": "markdown",
   "metadata": {},
   "source": [
    "## Reset cache location "
   ]
  },
  {
   "cell_type": "code",
   "execution_count": 5,
   "metadata": {},
   "outputs": [],
   "source": [
    "p21c.config['direc'] = '/lustre/aoc/projects/hera/wchin/21cmFAST-cache'"
   ]
  },
  {
   "cell_type": "markdown",
   "metadata": {},
   "source": [
    "## Cosmological Parameters (Default is used when no input is specified)"
   ]
  },
  {
   "cell_type": "code",
   "execution_count": 6,
   "metadata": {
    "ExecuteTime": {
     "end_time": "2020-07-13T16:47:07.620136Z",
     "start_time": "2020-07-13T16:47:07.617575Z"
    }
   },
   "outputs": [],
   "source": [
    "cosmo_params = p21c.CosmoParams()"
   ]
  },
  {
   "cell_type": "markdown",
   "metadata": {},
   "source": [
    "## User Parameters, like box length, number of voxels (i.e. resolution) etc."
   ]
  },
  {
   "cell_type": "code",
   "execution_count": 7,
   "metadata": {
    "ExecuteTime": {
     "end_time": "2020-07-13T16:47:07.625008Z",
     "start_time": "2020-07-13T16:47:07.622093Z"
    }
   },
   "outputs": [],
   "source": [
    "BOX_LEN=301  # 300, 301\n",
    "HII_DIM=301  # 450, 301\n",
    "\n",
    "user_params = p21c.UserParams(\n",
    "    BOX_LEN=BOX_LEN,  # Box length in Mpc\n",
    "    DIM=4*HII_DIM,      # Number of Voxels for hight resolution \n",
    "    HII_DIM=HII_DIM,  # Number of Voxels for low resolution \n",
    "    N_THREADS=os.cpu_count()\n",
    ")"
   ]
  },
  {
   "cell_type": "markdown",
   "metadata": {},
   "source": [
    "## Creating initial conditions box"
   ]
  },
  {
   "cell_type": "code",
   "execution_count": 8,
   "metadata": {
    "ExecuteTime": {
     "end_time": "2020-07-13T16:49:19.338938Z",
     "start_time": "2020-07-13T16:47:07.627140Z"
    }
   },
   "outputs": [
    {
     "name": "stdout",
     "output_type": "stream",
     "text": [
      "Excution qued at 2020-12-18 20:37:14.225739\n"
     ]
    },
    {
     "name": "stderr",
     "output_type": "stream",
     "text": [
      "2020-12-18 20:46:15,491 | INFO | Existing init_boxes found and read in (seed=230806296593).\n"
     ]
    },
    {
     "name": "stdout",
     "output_type": "stream",
     "text": [
      "Execution completed at 2020-12-18 20:46:16.267030\n",
      "Execution time = 0:09:02.041291\n"
     ]
    }
   ],
   "source": [
    "start_time = datetime.now()\n",
    "print(f'Excution qued at {start_time}')\n",
    "\n",
    "init_cond = p21c.initial_conditions(\n",
    "    cosmo_params=cosmo_params,\n",
    "    user_params=user_params,\n",
    "    direc='/lustre/aoc/projects/hera/wchin/21cmFAST-cache'\n",
    ")\n",
    "\n",
    "end_time = datetime.now()\n",
    "execution_time = end_time - start_time\n",
    "print(f'Execution completed at {end_time}')\n",
    "print(f'Execution time = {execution_time}')"
   ]
  },
  {
   "cell_type": "markdown",
   "metadata": {},
   "source": [
    "## Vary: Rmax, EFF, constant: x_HI, z. x_HI error: 1e-2%"
   ]
  },
  {
   "cell_type": "code",
   "execution_count": 9,
   "metadata": {},
   "outputs": [],
   "source": [
    "R_BUBBLE_MAXES = np.linspace(30, 0.225, 9)\n",
    "HII_EFF_FACTORS = np.array(\n",
    "    [19.04625, \n",
    "     19.511249999999997, \n",
    "     20.23875, \n",
    "     21.085, \n",
    "     22.655000000000012, \n",
    "     25.779375, \n",
    "     32.056640625, \n",
    "     56.6734375, \n",
    "     5291.5]\n",
    ")\n",
    "redshifts = np.array([6]*len(R_BUBBLE_MAXES))"
   ]
  },
  {
   "cell_type": "markdown",
   "metadata": {},
   "source": [
    "## Generate ionized boxes and total neutral fractions as a function of redshift"
   ]
  },
  {
   "cell_type": "code",
   "execution_count": 10,
   "metadata": {
    "scrolled": false
   },
   "outputs": [
    {
     "name": "stdout",
     "output_type": "stream",
     "text": [
      "Progress = 0%, localtime = 2020-12-18 20:46:18.584473\n"
     ]
    },
    {
     "name": "stderr",
     "output_type": "stream",
     "text": [
      "2020-12-18 20:46:21,513 | INFO | Existing z=6 ionized boxes found and read in (seed=230806296593).\n"
     ]
    },
    {
     "name": "stdout",
     "output_type": "stream",
     "text": [
      "progress = 11%, localtime = 2020-12-18 20:46:21.628437, loopexecuted in 0:00:03.043964, elapsedtime = 0:00:03.043964\n"
     ]
    },
    {
     "name": "stderr",
     "output_type": "stream",
     "text": [
      "2020-12-18 20:46:24,702 | INFO | Existing z=6 ionized boxes found and read in (seed=230806296593).\n"
     ]
    },
    {
     "name": "stdout",
     "output_type": "stream",
     "text": [
      "progress = 22%, localtime = 2020-12-18 20:46:24.805328, loopexecuted in 0:00:03.176891, elapsedtime = 0:00:06.220855\n"
     ]
    },
    {
     "name": "stderr",
     "output_type": "stream",
     "text": [
      "2020-12-18 20:46:26,449 | INFO | Existing z=6 ionized boxes found and read in (seed=230806296593).\n"
     ]
    },
    {
     "name": "stdout",
     "output_type": "stream",
     "text": [
      "progress = 33%, localtime = 2020-12-18 20:46:26.539184, loopexecuted in 0:00:01.733856, elapsedtime = 0:00:07.954711\n"
     ]
    },
    {
     "name": "stderr",
     "output_type": "stream",
     "text": [
      "2020-12-18 20:46:29,072 | INFO | Existing z=6 ionized boxes found and read in (seed=230806296593).\n"
     ]
    },
    {
     "name": "stdout",
     "output_type": "stream",
     "text": [
      "progress = 44%, localtime = 2020-12-18 20:46:29.150635, loopexecuted in 0:00:02.611451, elapsedtime = 0:00:10.566162\n"
     ]
    },
    {
     "name": "stderr",
     "output_type": "stream",
     "text": [
      "2020-12-18 20:46:30,867 | INFO | Existing z=6 ionized boxes found and read in (seed=230806296593).\n"
     ]
    },
    {
     "name": "stdout",
     "output_type": "stream",
     "text": [
      "progress = 56%, localtime = 2020-12-18 20:46:30.945652, loopexecuted in 0:00:01.795017, elapsedtime = 0:00:12.361179\n"
     ]
    },
    {
     "name": "stderr",
     "output_type": "stream",
     "text": [
      "2020-12-18 20:46:33,176 | INFO | Existing z=6 ionized boxes found and read in (seed=230806296593).\n"
     ]
    },
    {
     "name": "stdout",
     "output_type": "stream",
     "text": [
      "progress = 67%, localtime = 2020-12-18 20:46:33.258134, loopexecuted in 0:00:02.312482, elapsedtime = 0:00:14.673661\n"
     ]
    },
    {
     "name": "stderr",
     "output_type": "stream",
     "text": [
      "2020-12-18 20:46:35,647 | INFO | Existing z=6 ionized boxes found and read in (seed=230806296593).\n"
     ]
    },
    {
     "name": "stdout",
     "output_type": "stream",
     "text": [
      "progress = 78%, localtime = 2020-12-18 20:46:35.751199, loopexecuted in 0:00:02.493065, elapsedtime = 0:00:17.166726\n"
     ]
    },
    {
     "name": "stderr",
     "output_type": "stream",
     "text": [
      "2020-12-18 20:46:37,832 | INFO | Existing z=6 ionized boxes found and read in (seed=230806296593).\n"
     ]
    },
    {
     "name": "stdout",
     "output_type": "stream",
     "text": [
      "progress = 89%, localtime = 2020-12-18 20:46:37.933549, loopexecuted in 0:00:02.182350, elapsedtime = 0:00:19.349076\n"
     ]
    },
    {
     "name": "stderr",
     "output_type": "stream",
     "text": [
      "2020-12-18 20:46:40,581 | INFO | Existing z=6 ionized boxes found and read in (seed=230806296593).\n"
     ]
    },
    {
     "name": "stdout",
     "output_type": "stream",
     "text": [
      "progress = 100%, localtime = 2020-12-18 20:46:40.719844, loopexecuted in 0:00:02.786295, elapsedtime = 0:00:22.135371\n"
     ]
    },
    {
     "data": {
      "text/plain": [
       "array([0.19999881, 0.19998097, 0.20000417, 0.20001106, 0.19998624,\n",
       "       0.20001978, 0.19999591, 0.19998911, 0.19998213])"
      ]
     },
     "execution_count": 10,
     "metadata": {},
     "output_type": "execute_result"
    }
   ],
   "source": [
    "# R_BUBBLE_MAXES = np.array(\n",
    "#     [10, 20, 30]*3\n",
    "# )\n",
    "# HII_EFF_FACTORS = np.array(\n",
    "#     [62.625, 42.042500000000004, 36.183125000000004,\n",
    "#      47.1875, 34.390625, 31.25, \n",
    "#      37.96875, 29.53125, 27.6875]  \n",
    "# )\n",
    "# redshifts = np.array([7]*len(R_BUBBLE_MAXES))\n",
    "\n",
    "progress_status = True\n",
    "\n",
    "\n",
    "\n",
    "# sample_range = 10\n",
    "# target_variable = 0.3  # x_HI neutral fraction\n",
    "# target_error = 0.5  # percent\n",
    "# error = 1  # intializing\n",
    "# while abs(error) > target_variable*target_error/100:\n",
    "\n",
    "\n",
    "\n",
    "ionized_boxes = np.zeros((len(redshifts), HII_DIM, HII_DIM, HII_DIM))\n",
    "total_neutral_fractions = np.zeros(len(redshifts))\n",
    "\n",
    "# print progress and local time\n",
    "if progress_status:\n",
    "    start_time = datetime.now()\n",
    "    current_time = start_time\n",
    "    print(f'Progress = 0%, localtime = {start_time}')\n",
    "\n",
    "for i, z in enumerate(redshifts):\n",
    "    ionized_boxes[i] = p21c.ionize_box(\n",
    "        redshift=z, \n",
    "        init_boxes=init_cond,\n",
    "        astro_params={\n",
    "            'HII_EFF_FACTOR': HII_EFF_FACTORS[i],\n",
    "            'R_BUBBLE_MAX': R_BUBBLE_MAXES[i]\n",
    "        }\n",
    "    ).xH_box\n",
    "    total_neutral_fractions[i] = np.mean(ionized_boxes[i])\n",
    "\n",
    "    # print progress and local time\n",
    "    if progress_status:\n",
    "        previous_time = current_time\n",
    "        current_time = datetime.now()\n",
    "        loop_time = current_time - previous_time\n",
    "        elapsed_time = current_time - start_time\n",
    "        print(f'progress = {int(round((i+1)*100/len(redshifts)))}%, \\\n",
    "localtime = {current_time}, loopexecuted in {loop_time}, elapsedtime = {elapsed_time}')\n",
    "        \n",
    "total_neutral_fractions\n",
    "\n",
    "\n",
    "\n",
    "#     previous_error=error\n",
    "#     error = target_variable - total_neutral_fractions[0]\n",
    "    \n",
    "#     print(f'HII_EFF_FACTOR={HII_EFF_FACTORS[0]}')\n",
    "#     print(f'x_HI={total_neutral_fractions[0]}')\n",
    "#     print(f'sample_range={sample_range}')\n",
    "#     print(f'previous_error={previous_error}')\n",
    "#     print(f'error={error}')\n",
    "    \n",
    "#     if error > 0:\n",
    "#         HII_EFF_FACTORS[0] -= sample_range\n",
    "#     else:\n",
    "#         HII_EFF_FACTORS[0] += sample_range\n",
    "        \n",
    "#     if error*previous_error < 0:\n",
    "#         sample_range -= 0.5*sample_range"
   ]
  },
  {
   "cell_type": "markdown",
   "metadata": {},
   "source": [
    "## Generating Neutral Region Size Distributions with mfp()"
   ]
  },
  {
   "cell_type": "code",
   "execution_count": 11,
   "metadata": {},
   "outputs": [],
   "source": [
    "def MFP_distributions(\n",
    "    boxes=ionized_boxes, \n",
    "    bins = int(1e3),\n",
    "    iterations=int(1e7)\n",
    "):\n",
    "    mfp_radii = np.zeros(bins)\n",
    "    mfp_radii_probabilities = np.zeros((len(redshifts), bins))\n",
    "    for i, box in enumerate(boxes):\n",
    "        mfp_radii, mfp_radii_probabilities[i, :] = mfp(\n",
    "            data=box,\n",
    "            boxsize=BOX_LEN,\n",
    "            iterations=iterations,\n",
    "            verbose=True, \n",
    "# keep upper_lim true, original function was written for \n",
    "# ionized fraction boxes, i.e. val=1 => fully ionized\n",
    "# we are operating on neutral fraction boxes, i.e. val=1 => fully neutral\n",
    "# abstractly, upper_lim=True will measure the sizes of val=1 regions\n",
    "            upper_lim=False,\n",
    "            bins=bins, \n",
    "            r_min=None, \n",
    "            r_max=None\n",
    "        )\n",
    "    return mfp_radii, mfp_radii_probabilities## Calling function to generate neutral region size distributions with mfp()"
   ]
  },
  {
   "cell_type": "markdown",
   "metadata": {},
   "source": [
    "## MFP alternate neutral region size measurement"
   ]
  },
  {
   "cell_type": "code",
   "execution_count": 13,
   "metadata": {},
   "outputs": [],
   "source": [
    "from scipy import interpolate\n",
    "def mfp(\n",
    "    data, \n",
    "    xth=0.5, \n",
    "    boxsize=None, \n",
    "    iterations = 10000000, \n",
    "    verbose=True, \n",
    "    upper_lim=False, \n",
    "    bins=None, \n",
    "    r_min=None, \n",
    "    r_max=None\n",
    "):\n",
    "    \"\"\"\n",
    "    Determines the sizes using the Mean-Free-Path (MFP) approach.\n",
    "\n",
    "    Parameters\n",
    "    ----------\n",
    "    input     : ndarray\n",
    "        2D/3D array of ionization fraction/brightness temperature.\n",
    "    xth       : float\n",
    "        The threshold value (Default: 0.5).\n",
    "    boxsize   : float\n",
    "        The boxsize in cMpc can be given (Default: conv.LB).\n",
    "    iterations: float\n",
    "        Number of iterations (Default: 1e7).\n",
    "    verbose   : bool\n",
    "        It prints the progress of the program (Default: True).\n",
    "    upper_lim : bool\n",
    "        It decides if the threshold is the upper limit or the lower limit (Default: False).\n",
    "    bins      : int\n",
    "        Give number of bins or an array of sizes to re-bin into (Default: None).\n",
    "    r_min     : float\n",
    "        Minimum size after rebinning (Default: None).\n",
    "    r_max     : float\n",
    "        Maximum size after rebinning (Default: None).\n",
    "\n",
    "    Returns\n",
    "    -------\n",
    "    r  : ndarray\n",
    "        sizes of the regions\n",
    "    dn : ndarray\n",
    "        probability of finding the corresponding size \n",
    "    \"\"\"\n",
    "    if boxsize is None:\n",
    "        boxsize = conv.LB\n",
    "        print('Boxsize is set to %.2f Mpc.'%boxsize) \n",
    "    dim = len(data.shape)\n",
    "    t1 = datetime.now()\n",
    "    if (upper_lim): \n",
    "        data = -1.*data\n",
    "        xth  = -1.*xth\n",
    "    check_box = (data>=xth).sum()\n",
    "    if check_box==0:\n",
    "        data = np.ones(data.shape)\n",
    "        iterations = 3\n",
    "    if dim == 2:\n",
    "        print(\"MFP method applied on 2D data (ver 1.0)\")\n",
    "        #out = mfp2d(data, xth, iterations=iterations, verbose=verbose)\n",
    "        out = mfp2d(data, xth, iterations=iterations, verbose=verbose)\n",
    "    elif dim == 3:\n",
    "        print(\"MFP method applied on 3D data (ver 1.0)\")\n",
    "        #out = mfp3d(data, xth, iterations=iterations, verbose=verbose)\n",
    "        out = mfp3d(data, xth, iterations=iterations, verbose=verbose)\n",
    "    else:\n",
    "        print(\"The data doesn't have the correct dimension\")\n",
    "        return 0\n",
    "    nn = out[0]/iterations\n",
    "    rr = out[1]\n",
    "    t2 = datetime.now()\n",
    "    runtime = (t2-t1).total_seconds()/60\n",
    "\n",
    "    print(\"\\nProgram runtime: %f minutes.\" %runtime)\n",
    "    if check_box==0:\n",
    "        print(\"There is no ROI in the data. Therefore, the BSD is zero everywhere.\")\n",
    "        return rr*boxsize/data.shape[0], np.zeros(rr.shape)\n",
    "    print(\"The output contains a tuple with three values: r, rdP/dr\")\n",
    "    print(\"The curve has been normalized.\")\n",
    "  \n",
    "    r0,p0 = rr*boxsize/data.shape[0], rr*nn #rr[nn.argmax()]*boxsize/data.shape[0]\n",
    "    if bins is not None: r0,p0 = rebin_bsd(r0, p0, bins=bins, r_min=r_min, r_max=r_max)\n",
    "    return r0, p0\n",
    "\n",
    "def rebin_bsd(rr, pp, bins=10, r_min=None, r_max=None):\n",
    "    fp = interpolate.interp1d(rr, pp, kind='cubic')\n",
    "    if np.array(bins).size == 1:\n",
    "        if r_min is None: r_min = rr.min()+1\n",
    "        if r_max is None: r_max = rr.max()-10\n",
    "        rs = 10**np.linspace(np.log10(r_min), np.log10(r_max), bins)\n",
    "    else: rs = np.array(bins)\n",
    "    return rs, fp(rs)\n"
   ]
  },
  {
   "cell_type": "markdown",
   "metadata": {},
   "source": [
    "## MFP3D & 2D"
   ]
  },
  {
   "cell_type": "code",
   "execution_count": 15,
   "metadata": {},
   "outputs": [],
   "source": [
    "from scipy.interpolate import RegularGridInterpolator\n",
    "import sys\n",
    "\n",
    "def mfp3d(arr, xth=0.5, iterations=10000000, verbose=True):\n",
    "    #3D interpolation is required\n",
    "    #RegularGridInterpolator in scipy(>0.14) is used to do the interpolation\n",
    "\n",
    "    info = arr.shape  # dimentions of the data box\n",
    "\n",
    "#=========================================================================================================\n",
    "    longest = int(max(arr.shape)*np.sqrt(3))  \n",
    "    # longest distance between 2 points in the box, i.e. diagonal corners\n",
    "    # EDIT: switch the definition of longest to sqrt(3)*longest\n",
    "#=========================================================================================================\n",
    "    \n",
    "    num_sz  = np.zeros(longest)  # place holder with length of the longest axis\n",
    "\n",
    "    ar  = np.zeros(arr.shape)  # place holder with data box shape\n",
    "    ar[arr >= xth] = 1  # generating a binary box, xth = threshold\n",
    "\n",
    "    loc = np.argwhere(ar == 1)  # locations of ionized cells\n",
    "    rand_loc = np.random.randint(0, high=loc.shape[0], size=iterations)  \n",
    "    # iterations number of random ionized locations\n",
    " \n",
    "    #==================================================================================\n",
    "    thetas   = np.random.randint(0, 180, size=iterations)  # should it be 0 to 180 deg?\n",
    "    # EDIT: switched upper limit from 360 to 180.\n",
    "    #==================================================================================\n",
    "\n",
    "    phis     = np.random.randint(0, 360, size=iterations)\n",
    "    ls       = np.sin(thetas*np.pi/180)*np.cos(phis*np.pi/180)  # dx\n",
    "    ms       = np.sin(thetas*np.pi/180)*np.sin(phis*np.pi/180)  # dy\n",
    "    ns       = np.cos(thetas*np.pi/180)  # dz\n",
    "    xs,ys,zs = loc[rand_loc,0],loc[rand_loc,1],loc[rand_loc,2]  \n",
    "    # slicing ionized locations with [randome coordinate, (x,y,z)]\n",
    "\n",
    "    interp_func = RegularGridInterpolator(\n",
    "        (np.arange(info[0]), np.arange(info[1]), np.arange(info[2])), \n",
    "        ar, \n",
    "        bounds_error=False, \n",
    "        fill_value=0\n",
    "    )\n",
    "\n",
    "    #=========================================================================================================\n",
    "    for rr in range(longest):  # steping 1 step along the ray for all directions.\n",
    "    # should it be sqrt(longestX^2, longestY^2, longestZ^2)?\n",
    "    # motivation: no rays will be longer than the longest axis?\n",
    "    # EDIT: switch the definition of longest to sqrt(3)*longest\n",
    "    #=========================================================================================================\n",
    "\n",
    "        xs,ys,zs = xs+ls,ys+ms,zs+ns  # steping by dx, dy, dz\n",
    "        pts    = np.vstack((xs,ys,zs)).T\n",
    "        vals   = interp_func(pts)\n",
    "        check  = np.argwhere(vals<=0.5)  # coordinates that are outsise ionized regions.\n",
    "        num_sz[rr] = check.shape[0]  # record the number of new rays terminated in this loop\n",
    "        xs,ys,zs = np.delete(xs, check),np.delete(ys, check),np.delete(zs, check)  # for the terminated rays,\n",
    "        ls,ms,ns = np.delete(ls, check),np.delete(ms, check),np.delete(ns, check)  # delete the forward step \n",
    "        if verbose:\n",
    "            perc = (rr+1)*100/longest\n",
    "            msg  = '%.1f'%perc + '%'\n",
    "            loading_verbose(msg)\n",
    "        if not xs.size: break\n",
    "    msg  = '100.0' + '%'\n",
    "    loading_verbose(msg)\n",
    "    size_px = np.arange(longest)\n",
    "    return num_sz, size_px\n",
    "\n",
    "def mfp2d(arr, xth=0.5, iterations=1000000, verbose=True):\n",
    "    #2D interpolation is required\n",
    "    #RegularGridInterpolator in scipy(>0.14) is used to do the interpolation\n",
    "\n",
    "    info    = arr.shape\n",
    "    longy\t= max([info[0], info[1]])\n",
    "    longest = int(np.sqrt(2)*longy)\n",
    "    num_sz  = np.zeros(longest)\n",
    "\n",
    "    ar  = np.zeros(arr.shape)\n",
    "    ar[arr >= xth] = 1\n",
    "\n",
    "    loc = np.argwhere(ar == 1)\n",
    "    rand_loc = np.random.randint(0, high=loc.shape[0], size=iterations)\n",
    "    thetas   = np.random.randint(0, 360, size=iterations)\n",
    "    ls       = np.sin(thetas*np.pi/180)\n",
    "    ms       = np.cos(thetas*np.pi/180)\n",
    "\n",
    "    xs,ys    = loc[rand_loc,0],loc[rand_loc,1]\n",
    "\n",
    "    interp_func = RegularGridInterpolator(\n",
    "        (np.arange(info[0]), np.arange(info[1])), \n",
    "        ar, \n",
    "        bounds_error=False, \n",
    "        fill_value=0\n",
    "    )\n",
    "\n",
    "    for rr in range(longest):\n",
    "        xs,ys  = xs+ls,ys+ms\n",
    "        pts    = np.vstack((xs,ys)).T\n",
    "        vals   = interp_func(pts)\n",
    "        check  = np.argwhere(vals<=0.5)\n",
    "        num_sz[rr] = check.shape[0]\n",
    "        xs,ys  = np.delete(xs, check),np.delete(ys, check)\n",
    "        ls,ms  = np.delete(ls, check),np.delete(ms, check)\n",
    "        if verbose:\n",
    "            perc = (rr+1)*100/longest\n",
    "            msg  = '%.1f'%perc + '%'\n",
    "            loading_verbose(msg)\n",
    "        if not xs.size: break\n",
    "    msg  = '100.0' + '%'\n",
    "    loading_verbose(msg)\n",
    "    size_px = np.arange(longest)\n",
    "    return num_sz, size_px\n",
    "\n",
    "\n",
    "def loading_verbose(string):\n",
    "    msg = (\"Completed: \" + string )\n",
    "    sys.stdout.write('\\r'+msg)\n",
    "    sys.stdout.flush()"
   ]
  },
  {
   "cell_type": "markdown",
   "metadata": {},
   "source": [
    "## Calling function to generate neutral region size distributions with mfp()"
   ]
  },
  {
   "cell_type": "code",
   "execution_count": 16,
   "metadata": {},
   "outputs": [
    {
     "name": "stdout",
     "output_type": "stream",
     "text": [
      "Run started at 2020-12-18 20:51:51.791352\n",
      "MFP method applied on 3D data (ver 1.0)\n",
      "Completed: 100.0%\n",
      "Program runtime: 17.702392 minutes.\n",
      "The output contains a tuple with three values: r, rdP/dr\n",
      "The curve has been normalized.\n",
      "MFP method applied on 3D data (ver 1.0)\n",
      "Completed: 100.0%\n",
      "Program runtime: 15.363810 minutes.\n",
      "The output contains a tuple with three values: r, rdP/dr\n",
      "The curve has been normalized.\n",
      "MFP method applied on 3D data (ver 1.0)\n",
      "Completed: 100.0%\n",
      "Program runtime: 14.920974 minutes.\n",
      "The output contains a tuple with three values: r, rdP/dr\n",
      "The curve has been normalized.\n",
      "MFP method applied on 3D data (ver 1.0)\n",
      "Completed: 100.0%\n",
      "Program runtime: 14.446806 minutes.\n",
      "The output contains a tuple with three values: r, rdP/dr\n",
      "The curve has been normalized.\n",
      "MFP method applied on 3D data (ver 1.0)\n",
      "Completed: 100.0%\n",
      "Program runtime: 13.545549 minutes.\n",
      "The output contains a tuple with three values: r, rdP/dr\n",
      "The curve has been normalized.\n",
      "MFP method applied on 3D data (ver 1.0)\n",
      "Completed: 100.0%\n",
      "Program runtime: 12.627606 minutes.\n",
      "The output contains a tuple with three values: r, rdP/dr\n",
      "The curve has been normalized.\n",
      "MFP method applied on 3D data (ver 1.0)\n",
      "Completed: 100.0%\n",
      "Program runtime: 10.918010 minutes.\n",
      "The output contains a tuple with three values: r, rdP/dr\n",
      "The curve has been normalized.\n",
      "MFP method applied on 3D data (ver 1.0)\n",
      "Completed: 100.0%\n",
      "Program runtime: 7.878610 minutes.\n",
      "The output contains a tuple with three values: r, rdP/dr\n",
      "The curve has been normalized.\n",
      "MFP method applied on 3D data (ver 1.0)\n",
      "Completed: 100.0%\n",
      "Program runtime: 3.545076 minutes.\n",
      "The output contains a tuple with three values: r, rdP/dr\n",
      "The curve has been normalized.\n",
      "Run completed at 2020-12-18 22:42:49.659517\n",
      "Total runtime: 1:50:57.868165\n"
     ]
    }
   ],
   "source": [
    "bin_num_mfp = int(1e3)\n",
    "iteration_mfp = int(1e8)\n",
    "start_time = datetime.now()\n",
    "print(f'Run started at {start_time}')\n",
    "mfp_neutral_region_size, mfp_size_probabilities = MFP_distributions(\n",
    "    boxes=ionized_boxes,\n",
    "    bins=bin_num_mfp,\n",
    "    iterations=iteration_mfp\n",
    ")\n",
    "end_time = datetime.now()\n",
    "print(f'Run completed at {end_time}')\n",
    "print(f'Total runtime: {end_time - start_time}')## Plotting mfp() distributions"
   ]
  },
  {
   "cell_type": "markdown",
   "metadata": {},
   "source": [
    "np.save('/lustre/aoc/projects/hera/wchin/mfp_neutral_region_size', mfp_neutral_region_size)\n",
    "np.save('/lustre/aoc/projects/hera/wchin/mfp_size_probabilities', mfp_size_probabilities)"
   ]
  },
  {
   "cell_type": "code",
   "execution_count": null,
   "metadata": {},
   "outputs": [],
   "source": [
    "mfp_neutral_region_size = np.load('/lustre/aoc/projects/hera/wchin/mfp_neutral_region_size')\n",
    "mfp_size_probabilities = np.load('/lustre/aoc/projects/hera/wchin/mfp_size_probabilities')"
   ]
  },
  {
   "cell_type": "markdown",
   "metadata": {},
   "source": [
    "## Plotting mfp() distributions"
   ]
  },
  {
   "cell_type": "code",
   "execution_count": 23,
   "metadata": {},
   "outputs": [
    {
     "data": {
      "text/plain": [
       "(1000,)"
      ]
     },
     "execution_count": 23,
     "metadata": {},
     "output_type": "execute_result"
    }
   ],
   "source": [
    "np.shape(mfp_neutral_region_size)"
   ]
  },
  {
   "cell_type": "code",
   "execution_count": 24,
   "metadata": {},
   "outputs": [
    {
     "data": {
      "text/plain": [
       "(9, 1000)"
      ]
     },
     "execution_count": 24,
     "metadata": {},
     "output_type": "execute_result"
    }
   ],
   "source": [
    "np.shape(mfp_size_probabilities)"
   ]
  },
  {
   "cell_type": "code",
   "execution_count": 26,
   "metadata": {},
   "outputs": [
    {
     "data": {
      "image/png": "[encoded data removed]",
      "text/plain": [
       "<Figure size 720x432 with 1 Axes>"
      ]
     },
     "metadata": {
      "needs_background": "dark"
     },
     "output_type": "display_data"
    }
   ],
   "source": [
    "color='white'\n",
    "percent=0.475\n",
    "\n",
    "mfp_maxRs = np.zeros(len(mfp_size_probabilities))\n",
    "\n",
    "plt.rcParams['figure.figsize'] = [10, 6]\n",
    "for i, mfp_size_probability in enumerate(mfp_size_probabilities):\n",
    "    \n",
    "    mfp_maxRs[i] = mfp_neutral_region_size[np.argmax(mfp_size_probability)]\n",
    "    \n",
    "    plt.plot(\n",
    "        mfp_neutral_region_size[:int(percent*bin_num_mfp)], \n",
    "        mfp_size_probability[:int(percent*bin_num_mfp)], \n",
    "        '-',\n",
    "        label=f'Rmax={R_BUBBLE_MAXES[i]:.2f}, EFF={HII_EFF_FACTORS[i]:.2f}, \\\n",
    "x_HI={total_neutral_fractions[i]*100:.1f}%, \\\n",
    "maxR={mfp_maxRs[i]:.2f}'\n",
    "    )\n",
    "plt.legend(prop={'size': 15}, fancybox=True, framealpha=0)\n",
    "plt.tick_params(color=color, labelcolor=color)\n",
    "plt.xlabel('$R$ (Mpc)', color=color)\n",
    "plt.ylabel('$R\\mathrm{d}P/\\mathrm{d}R$', color=color)\n",
    "plt.title(f'Our Boxes, MFP method: Vary: Rmax, EFF, constant: x_HI, z={redshifts[0]} ({iteration_mfp:.0e} iterations)', color=color)\n",
    "plt.rcParams['font.size'] = 18\n",
    "# plt.yscale('log')"
   ]
  },
  {
   "cell_type": "code",
   "execution_count": 1,
   "metadata": {},
   "outputs": [
    {
     "ename": "NameError",
     "evalue": "name 'np' is not defined",
     "output_type": "error",
     "traceback": [
      "\u001b[0;31m---------------------------------------------------------------------------\u001b[0m",
      "\u001b[0;31mNameError\u001b[0m                                 Traceback (most recent call last)",
      "\u001b[0;32m<ipython-input-1-6b5581f5a888>\u001b[0m in \u001b[0;36m<module>\u001b[0;34m\u001b[0m\n\u001b[1;32m      2\u001b[0m \u001b[0mpercent\u001b[0m\u001b[0;34m=\u001b[0m\u001b[0;36m0.475\u001b[0m\u001b[0;34m\u001b[0m\u001b[0;34m\u001b[0m\u001b[0m\n\u001b[1;32m      3\u001b[0m \u001b[0;34m\u001b[0m\u001b[0m\n\u001b[0;32m----> 4\u001b[0;31m \u001b[0mmfp_maxRs\u001b[0m \u001b[0;34m=\u001b[0m \u001b[0mnp\u001b[0m\u001b[0;34m.\u001b[0m\u001b[0mzeros\u001b[0m\u001b[0;34m(\u001b[0m\u001b[0mlen\u001b[0m\u001b[0;34m(\u001b[0m\u001b[0mmfp_size_probabilities\u001b[0m\u001b[0;34m[\u001b[0m\u001b[0;34m[\u001b[0m\u001b[0;36m0\u001b[0m\u001b[0;34m,\u001b[0m \u001b[0;36m5\u001b[0m\u001b[0;34m,\u001b[0m \u001b[0;36m6\u001b[0m\u001b[0;34m,\u001b[0m \u001b[0;36m7\u001b[0m\u001b[0;34m]\u001b[0m\u001b[0;34m]\u001b[0m\u001b[0;34m)\u001b[0m\u001b[0;34m)\u001b[0m\u001b[0;34m\u001b[0m\u001b[0;34m\u001b[0m\u001b[0m\n\u001b[0m\u001b[1;32m      5\u001b[0m \u001b[0;34m\u001b[0m\u001b[0m\n\u001b[1;32m      6\u001b[0m \u001b[0;31m# plt.rcParams['figure.figsize'] = [10, 6]\u001b[0m\u001b[0;34m\u001b[0m\u001b[0;34m\u001b[0m\u001b[0;34m\u001b[0m\u001b[0m\n",
      "\u001b[0;31mNameError\u001b[0m: name 'np' is not defined"
     ]
    }
   ],
   "source": [
    "color='white'\n",
    "percent=0.475\n",
    "\n",
    "mfp_maxRs = np.zeros(len(mfp_size_probabilities[[0, 5, 6, 7]]))\n",
    "\n",
    "# plt.rcParams['figure.figsize'] = [10, 6]\n",
    "plt.figure(dpi=500)\n",
    "for i, mfp_size_probability in enumerate(mfp_size_probabilities[[0, 5, 6, 7]]):\n",
    "    \n",
    "    mfp_maxRs[i] = mfp_neutral_region_size[np.argmax(mfp_size_probability)]\n",
    "    \n",
    "    plt.plot(\n",
    "        mfp_neutral_region_size[:int(percent*bin_num_mfp)], \n",
    "        mfp_size_probability[:int(percent*bin_num_mfp)], \n",
    "        '-',\n",
    "        label=f'Rmax={R_BUBBLE_MAXES[[0, 5, 6, 7]][i]:.2f}, EFF={HII_EFF_FACTORS[[0, 5, 6, 7]][i]:.2f}, radius={mfp_maxRs[i]:.2f}'\n",
    "    )\n",
    "plt.legend(prop={'size': 15}, fancybox=True, framealpha=0)\n",
    "plt.tick_params(color=color, labelcolor=color)\n",
    "plt.xlabel('$R$ (Mpc)', color=color)\n",
    "plt.ylabel('$R\\mathrm{d}P/\\mathrm{d}R$', color=color)\n",
    "plt.title(f'MFP method', color=color)\n",
    "plt.rcParams['font.size'] = 18\n",
    "# plt.yscale('log')"
   ]
  },
  {
   "cell_type": "code",
   "execution_count": null,
   "metadata": {},
   "outputs": [],
   "source": []
  }
 ],
 "metadata": {
  "kernelspec": {
   "display_name": "21cmfast",
   "language": "python",
   "name": "21cmfast"
  },
  "language_info": {
   "codemirror_mode": {
    "name": "ipython",
    "version": 3
   },
   "file_extension": ".py",
   "mimetype": "text/x-python",
   "name": "python",
   "nbconvert_exporter": "python",
   "pygments_lexer": "ipython3",
   "version": "3.8.3"
  }
 },
 "nbformat": 4,
 "nbformat_minor": 4
}
