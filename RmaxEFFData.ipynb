{
 "cells": [
  {
   "cell_type": "markdown",
   "metadata": {},
   "source": [
    "## Importing Libraries"
   ]
  },
  {
   "cell_type": "code",
   "execution_count": 1,
   "metadata": {
    "ExecuteTime": {
     "end_time": "2020-07-13T18:40:31.131377Z",
     "start_time": "2020-07-13T18:40:31.125544Z"
    }
   },
   "outputs": [],
   "source": [
    "%matplotlib inline\n",
    "import matplotlib.pyplot as plt\n",
    "import numpy as np\n",
    "import py21cmfast as p21c\n",
    "from datetime import datetime\n",
    "import logging, os\n",
    "from numba import njit, jit"
   ]
  },
  {
   "cell_type": "markdown",
   "metadata": {},
   "source": [
    "## Set logger to log caching activity"
   ]
  },
  {
   "cell_type": "code",
   "execution_count": 2,
   "metadata": {},
   "outputs": [],
   "source": [
    "logger = logging.getLogger('21cmFAST')\n",
    "logger.setLevel(logging.INFO)"
   ]
  },
  {
   "cell_type": "markdown",
   "metadata": {},
   "source": [
    "## Version of 21cmFAST"
   ]
  },
  {
   "cell_type": "code",
   "execution_count": 3,
   "metadata": {
    "ExecuteTime": {
     "end_time": "2020-07-13T18:40:31.679355Z",
     "start_time": "2020-07-13T18:40:31.675874Z"
    },
    "scrolled": true
   },
   "outputs": [
    {
     "name": "stdout",
     "output_type": "stream",
     "text": [
      "Using 21cmFAST version 3.0.0.dev5\n"
     ]
    }
   ],
   "source": [
    "print(f\"Using 21cmFAST version {p21c.__version__}\")"
   ]
  },
  {
   "cell_type": "markdown",
   "metadata": {},
   "source": [
    "## Number of cores running"
   ]
  },
  {
   "cell_type": "code",
   "execution_count": 4,
   "metadata": {
    "scrolled": true
   },
   "outputs": [
    {
     "name": "stdout",
     "output_type": "stream",
     "text": [
      "Number of threads running = 16\n"
     ]
    }
   ],
   "source": [
    "print(f'Number of threads running = {os.cpu_count()}')"
   ]
  },
  {
   "cell_type": "markdown",
   "metadata": {},
   "source": [
    "## Reset cache location "
   ]
  },
  {
   "cell_type": "code",
   "execution_count": 5,
   "metadata": {},
   "outputs": [],
   "source": [
    "p21c.config['direc'] = '/lustre/aoc/projects/hera/wchin/21cmFAST-cache'"
   ]
  },
  {
   "cell_type": "markdown",
   "metadata": {},
   "source": [
    "## Cosmological Parameters (Default is used when no input is specified)"
   ]
  },
  {
   "cell_type": "code",
   "execution_count": 6,
   "metadata": {
    "ExecuteTime": {
     "end_time": "2020-07-13T16:47:07.620136Z",
     "start_time": "2020-07-13T16:47:07.617575Z"
    }
   },
   "outputs": [],
   "source": [
    "cosmo_params = p21c.CosmoParams()"
   ]
  },
  {
   "cell_type": "markdown",
   "metadata": {},
   "source": [
    "## User Parameters, like box length, number of voxels (i.e. resolution) etc."
   ]
  },
  {
   "cell_type": "code",
   "execution_count": 7,
   "metadata": {
    "ExecuteTime": {
     "end_time": "2020-07-13T16:47:07.625008Z",
     "start_time": "2020-07-13T16:47:07.622093Z"
    }
   },
   "outputs": [],
   "source": [
    "BOX_LEN=301  # 300, 301\n",
    "HII_DIM=301  # 450, 301\n",
    "\n",
    "user_params = p21c.UserParams(\n",
    "    BOX_LEN=BOX_LEN,  # Box length in Mpc\n",
    "    DIM=4*HII_DIM,      # Number of Voxels for hight resolution \n",
    "    HII_DIM=HII_DIM,  # Number of Voxels for low resolution \n",
    "    N_THREADS=os.cpu_count()\n",
    ")"
   ]
  },
  {
   "cell_type": "markdown",
   "metadata": {},
   "source": [
    "## Creating initial conditions box"
   ]
  },
  {
   "cell_type": "code",
   "execution_count": 8,
   "metadata": {
    "ExecuteTime": {
     "end_time": "2020-07-13T16:49:19.338938Z",
     "start_time": "2020-07-13T16:47:07.627140Z"
    }
   },
   "outputs": [
    {
     "name": "stdout",
     "output_type": "stream",
     "text": [
      "Excution qued at 2020-12-26 19:57:31.095330\n"
     ]
    },
    {
     "name": "stderr",
     "output_type": "stream",
     "text": [
      "2020-12-26 20:00:12,567 | INFO | Existing init_boxes found and read in (seed=230806296593).\n"
     ]
    },
    {
     "name": "stdout",
     "output_type": "stream",
     "text": [
      "Execution completed at 2020-12-26 20:00:12.569082\n",
      "Execution time = 0:02:41.473752\n"
     ]
    }
   ],
   "source": [
    "start_time = datetime.now()\n",
    "print(f'Excution qued at {start_time}')\n",
    "\n",
    "init_cond = p21c.initial_conditions(\n",
    "    cosmo_params=cosmo_params,\n",
    "    user_params=user_params,\n",
    "    direc='/lustre/aoc/projects/hera/wchin/21cmFAST-cache'\n",
    ")\n",
    "\n",
    "end_time = datetime.now()\n",
    "execution_time = end_time - start_time\n",
    "print(f'Execution completed at {end_time}')\n",
    "print(f'Execution time = {execution_time}')"
   ]
  },
  {
   "cell_type": "markdown",
   "metadata": {},
   "source": [
    "## Make sure averaging region size is not larger than the box itself "
   ]
  },
  {
   "cell_type": "code",
   "execution_count": 9,
   "metadata": {},
   "outputs": [],
   "source": [
    "def check_averaging_radius_limit(averaging_radius, box_length):\n",
    "    # check to see if averaging region is larger than the box itself\n",
    "    if averaging_radius > (box_length-1)/2:\n",
    "        raise ValueError(f'Averaging_radius = {averaging_radius} > \\\n",
    "{(box_length-1)/2} = (Box Length-1)/2, averaging region is larger than the box itself.')"
   ]
  },
  {
   "cell_type": "markdown",
   "metadata": {},
   "source": [
    "## Measure the distance of each voxel to the center"
   ]
  },
  {
   "cell_type": "code",
   "execution_count": 10,
   "metadata": {
    "ExecuteTime": {
     "end_time": "2020-07-13T16:47:07.490164Z",
     "start_time": "2020-07-13T16:47:07.485545Z"
    }
   },
   "outputs": [],
   "source": [
    "@jit\n",
    "def distance_from_coordinate(box_length):\n",
    "    \"\"\"\n",
    "    Generate a cube of voxels.\n",
    "    On each voxel, the distanace from the center is \n",
    "    calculated and the value is assigned to the voxel.\n",
    "    jit by numba compiles what it can to machine code,\n",
    "    the rest as python code.\n",
    "    \n",
    "    Parameters\n",
    "    ----------\n",
    "    box_length : int\n",
    "        The length of each side of the cube.\n",
    "        \n",
    "    Returns\n",
    "    -------\n",
    "    distance : 3D-ndarray\n",
    "        Cube of voxels with each voxel having its \n",
    "        distance from the center assigned to it.\n",
    "    \"\"\"\n",
    "    # range of nummbers with 0 as the center    \n",
    "    index = np.arange(-0.5*(box_length-1), 0.5*(box_length+1))\n",
    "    # 3D mesh\n",
    "    x_mesh, y_mesh, z_mesh = np.meshgrid(index, index, index, indexing='ij')\n",
    "    # generating cube and computing distacne for each voxel\n",
    "    distance = np.sqrt((x_mesh)**2 + (y_mesh)**2 + (z_mesh)**2)\n",
    "    \n",
    "    return distance"
   ]
  },
  {
   "cell_type": "markdown",
   "metadata": {},
   "source": [
    "## Random Coordinate"
   ]
  },
  {
   "cell_type": "code",
   "execution_count": 11,
   "metadata": {},
   "outputs": [],
   "source": [
    "def random_cube_regions(box_length, number_of_coordinates, radius):\n",
    "    \"\"\"\n",
    "    Selects a number cubical sub-regions\n",
    "    within a larger cube at random positions.\n",
    "    \n",
    "    Parameters\n",
    "    ----------\n",
    "    box_length            : int\n",
    "        Side length of the larger cube in\n",
    "        arbitrary units of number of cells.\n",
    "    number_of_coordinates : int\n",
    "        Νumber of sub-regions to be selected.\n",
    "    radius                : int\n",
    "        Side of the smaller selected cubical \n",
    "        sub-region in arbitrary units of number of cells.\n",
    "        Called radius because a sphere is\n",
    "        often define within this smaller cube.\n",
    "        \n",
    "    Returns\n",
    "    -------\n",
    "    inds1 : ndarray dtype:int\n",
    "        In 1D, the left bound that defines the cubical region.\n",
    "    inds2 : ndarray dtype:int\n",
    "        In 1D, the right bound that defines the cubical region.\n",
    "    \"\"\"\n",
    "    \n",
    "    np.random.seed()  # no entry: set seed to a randome number\n",
    "#     np.random.seed(4)  # specifying seed for testing purposes\n",
    "\n",
    "    # selecting 'number_of_coordiantes' random coordinates within larger cube\n",
    "    coordinates = np.random.randint(0, box_length, size=(number_of_coordinates, 3))\n",
    "    \n",
    "    # cube indices \n",
    "    inds1 = (coordinates-radius).astype(int)\n",
    "    inds2 = (coordinates+radius+1).astype(int)  # ending index is not inclusive\n",
    "    \n",
    "\n",
    "    return inds1, inds2"
   ]
  },
  {
   "cell_type": "markdown",
   "metadata": {
    "ExecuteTime": {
     "end_time": "2020-07-02T04:52:03.906927Z",
     "start_time": "2020-07-02T04:52:03.902405Z"
    }
   },
   "source": [
    "## Select a Smaller Cube with Sides 2R+1 Voxels, Centered about the Random Coordinate"
   ]
  },
  {
   "cell_type": "code",
   "execution_count": 12,
   "metadata": {},
   "outputs": [],
   "source": [
    "def slicing_the_cube(ind1, ind2, box):\n",
    "    \"\"\"\n",
    "    Selects a smaller cubical sub-region within a larger cube called 'box'.\n",
    "    Incoorporates periodic boundary conditions, i.e. Pac-Man effect.\n",
    "    This function takes in a set of slicing indices of one particular randomly\n",
    "    selected cubical sub-region and returns the selected smaller cube.\n",
    "    \n",
    "    Parameters\n",
    "    ----------\n",
    "    ind1 : 1D ndarray, dtype: int\n",
    "        The left bounds of the selected region in 1D respectively.\n",
    "    ind2 : 1D ndarray, dtype: int\n",
    "        The right bounds of the selected region in 1D respectively.\n",
    "    box  : 3D ndarray, dtype: float32\n",
    "        Data cube, when the smaller cubical\n",
    "        sub-regions are being selected from.\n",
    "        \n",
    "    Returns\n",
    "    -------\n",
    "    output_box : 3D ndarray, dtype: float32\n",
    "        The selected cubical smaller sub-region\n",
    "        within the larger data cube.\n",
    "    \"\"\"\n",
    "        \n",
    "    if ind1[0] < 0:  # periodic boundary conditions\n",
    "        # region that went beyond the zeroth voxel face of the\n",
    "        # cube is replaced by the region at the 'box_length'th\n",
    "        # voxel face of the cube with the same size.\n",
    "        x_inds = np.r_[(ind1[0]+len(box)):len(box), 0:ind2[0]]\n",
    "    elif ind2[0] > len(box):\n",
    "        # region that went beyond the 'box_length'th voxel face\n",
    "        # of the cube is replaced by the region at the zeroth \n",
    "        # voxel face of the cube with the same size.\n",
    "        x_inds = np.r_[ind1[0]:len(box), 0:(ind2[0]-len(box))]\n",
    "    else:\n",
    "        # selected voxel is perfectly in the larger data cube.\n",
    "        x_inds = np.r_[ind1[0]:ind2[0]]\n",
    "\n",
    "    if ind1[1] < 0:\n",
    "        y_inds = np.r_[(ind1[1]+len(box)):len(box), 0:ind2[1]]\n",
    "    elif ind2[1] > len(box):\n",
    "        y_inds = np.r_[ind1[1]:len(box), 0:(ind2[1]-len(box))]\n",
    "    else:\n",
    "        y_inds = np.r_[ind1[1]:ind2[1]]\n",
    "\n",
    "    if ind1[2] < 0:\n",
    "        z_inds = np.r_[(ind1[2]+len(box)):len(box), 0:ind2[2]]\n",
    "    elif ind2[2] > len(box):\n",
    "        z_inds = np.r_[ind1[2]:len(box), 0:(ind2[2]-len(box))]\n",
    "    else:\n",
    "        z_inds = np.r_[ind1[2]:ind2[2]]\n",
    "                    \n",
    "    try:\n",
    "        # box[indices]\n",
    "        output_box = box[np.ix_(x_inds, y_inds, z_inds)]\n",
    "        \n",
    "    except IndexError:  # sample region larger than box.\n",
    "        print(f'ind1 = {ind1}')  # print useful info\n",
    "        print(f'ind2 = {ind2}')  # for debugging\n",
    "        print(f'box length = {len(box)}')\n",
    "        print(f'x_ind1 = {ind1[0]}')\n",
    "        print(f'x_ind2 = {ind2[0]}')\n",
    "        print(f'x_inds = {x_inds}')\n",
    "        print(f'y_ind1 = {ind1[1]}')\n",
    "        print(f'y_ind2 = {ind2[1]}')\n",
    "        print(f'y_inds = {y_inds}')\n",
    "        print(f'z_ind1 = {ind1[2]}')\n",
    "        print(f'z_ind2 = {ind2[2]}')\n",
    "        print(f'z_inds = {z_inds}')\n",
    "        \n",
    "    return output_box"
   ]
  },
  {
   "cell_type": "markdown",
   "metadata": {},
   "source": [
    "## Gausssian Sphere Averaging"
   ]
  },
  {
   "cell_type": "code",
   "execution_count": 13,
   "metadata": {
    "ExecuteTime": {
     "end_time": "2020-07-13T16:47:07.516644Z",
     "start_time": "2020-07-13T16:47:07.510222Z"
    }
   },
   "outputs": [],
   "source": [
    "def gaussian_sphere_average(\n",
    "    distance_box, \n",
    "    radius, \n",
    "    input_box, \n",
    "    shell_num, \n",
    "    sigma_factor\n",
    "):\n",
    "    \"\"\"\n",
    "    Takes in a cube of voxels and defines 'shell_num'\n",
    "    of concentric spherical shells and a core.\n",
    "    A mean is taken over the voxels in each shell and the core.\n",
    "    Then 'shell_num' equally spaced values are drawn as weights from 0 to \n",
    "    'sigma_factor' standard deviations of the Gaussian distribution.\n",
    "    Each spherical shell and the core is assigned a weight, \n",
    "    The inner most core is weighted the most.\n",
    "    The weights decrease moving outwards through the shells.\n",
    "    And the outmost shell is weighted the least.\n",
    "    The function then computes a weighted average over the shells and core.\n",
    "    \n",
    "    Parameters\n",
    "    ----------\n",
    "    distance_box : 3D ndarray, dtype: float32\n",
    "        Cube of voxels with each voxel having its \n",
    "        distance from the center assigned to it.\n",
    "        This function uses the distance box to\n",
    "        set the condition required to slice\n",
    "        the voxels in the spherical shells.\n",
    "    radius : int\n",
    "        Radius of the Guassian sphere, i.e. \n",
    "        the sphere complied by the center core \n",
    "        and the concentric spherical shells \n",
    "        in units of number of voxels.\n",
    "    input_box : \n",
    "    \n",
    "    \n",
    "    \n",
    "    \"\"\"\n",
    "    \n",
    "    \n",
    "    mean = np.zeros(shell_num)\n",
    "\n",
    "    shell_radius_edges = np.linspace(0,1,shell_num+1)\n",
    "    # sigma_factor number of sigmas the weighting goes out to, sigma = radius\n",
    "    shell_center = 0.5*(shell_radius_edges[1:] + shell_radius_edges[:-1])*sigma_factor \n",
    "    weight = gaussian(x=shell_center)\n",
    "    \n",
    "    for ii in range(shell_num):\n",
    "        condition = np.logical_and(\n",
    "            distance_box <= shell_radius_edges[ii+1]*radius, \n",
    "            distance_box > shell_radius_edges[ii]*radius\n",
    "        )\n",
    "        mean[ii] = np.mean(input_box[condition])  # inside shell mean\n",
    "        \n",
    "    Gaussian_mean = np.average(mean, weights=weight)\n",
    "    \n",
    "    return Gaussian_mean"
   ]
  },
  {
   "cell_type": "markdown",
   "metadata": {},
   "source": [
    "## Gaussian function"
   ]
  },
  {
   "cell_type": "code",
   "execution_count": 14,
   "metadata": {
    "ExecuteTime": {
     "end_time": "2020-07-13T16:47:07.482570Z",
     "start_time": "2020-07-13T16:47:07.478593Z"
    }
   },
   "outputs": [],
   "source": [
    "@njit\n",
    "def gaussian(x):  # μ=0, σ=1/sqrt(2), π=1\n",
    "    \"\"\"\n",
    "    Gaussian distribution with amplitude=1,\n",
    "    mu=0, standard deviation=1/sqrt(2), pi=1.\n",
    "    @njit by numba compiles the code in machine code \n",
    "    instead of python, speeding up the computation.\n",
    "    \n",
    "    Parameters\n",
    "    ----------\n",
    "    x        : array_like\n",
    "        Independent variable\n",
    "        \n",
    "    Returns\n",
    "    -------\n",
    "    gaussian : array_like\n",
    "        Gaussian distribution array\n",
    "    \"\"\"\n",
    "    gaussian = np.exp(-x**2)\n",
    "    return gaussian"
   ]
  },
  {
   "cell_type": "markdown",
   "metadata": {},
   "source": [
    "## Sphere Blurring Function"
   ]
  },
  {
   "cell_type": "code",
   "execution_count": 15,
   "metadata": {},
   "outputs": [],
   "source": [
    "@jit\n",
    "def average_neutral_fraction_distribution(\n",
    "    box, \n",
    "    radius, \n",
    "    iteration, \n",
    "    shell_num=6, \n",
    "    sigma_factor=1.4370397097748921*3, \n",
    "    blur_shape=None\n",
    "):\n",
    "    \n",
    "    box = box.copy()  # make copy of input box to have a separate box\n",
    "    \n",
    "    mean_data = np.zeros(iteration)  # empty list for data collection\n",
    "    \n",
    "    \n",
    "    if blur_shape == 'Gaussian_sphere':\n",
    "        \n",
    "        \n",
    "# ====================================================================================================================\n",
    "        # Radius Ratio 1\n",
    "        radius = int(round(radius*1.4370397097748921*3))\n",
    "        \n",
    "        # Radius Ratio 2\n",
    "#         radius = int(round(radius*((4/3/np.sqrt(np.pi))**(1/3))*13/4))  \n",
    "            # 13/4 --> speculated correction factor\n",
    "# ====================================================================================================================\n",
    "\n",
    "        \n",
    "        \n",
    "        # check to see if averaging region is largert than the box itself\n",
    "        check_averaging_radius_limit(radius, len(box))\n",
    "            \n",
    "        # used as condition to define a sphere within a cube\n",
    "        dist_frm_coord_box = distance_from_coordinate(radius*2+1)\n",
    "        \n",
    "        # iteration number of random cube region indices in the box\n",
    "        rand_coord_inds1, rand_coord_inds2 = random_cube_regions(\n",
    "            len(box), \n",
    "            iteration, \n",
    "            radius\n",
    "        )  \n",
    "\n",
    "        \n",
    "        for i in range(iteration):\n",
    "            cube_region_box = slicing_the_cube(\n",
    "                rand_coord_inds1[i, :], \n",
    "                rand_coord_inds2[i, :], \n",
    "                box\n",
    "            )\n",
    "            # mean\n",
    "            mean_data[i] = gaussian_sphere_average(\n",
    "                dist_frm_coord_box, \n",
    "                radius, \n",
    "                cube_region_box, \n",
    "                shell_num, \n",
    "                sigma_factor\n",
    "            )\n",
    "        \n",
    "    elif blur_shape == 'top_hat_sphere':\n",
    "        \n",
    "        # check to see if averaging region is largert than the box itself\n",
    "        check_averaging_radius_limit(radius, len(box))\n",
    "            \n",
    "        # used as condition to define a sphere within a cube\n",
    "        dist_frm_coord_box = distance_from_coordinate(radius*2+1)\n",
    "        \n",
    "        # iteration number of random cube region indices in the box\n",
    "        rand_coord_inds1, rand_coord_inds2 = random_cube_regions(\n",
    "            len(box), \n",
    "            iteration, \n",
    "            radius\n",
    "        )  \n",
    "        \n",
    "        for i in range(iteration):\n",
    "            cube_region_box = slicing_the_cube(\n",
    "                rand_coord_inds1[i, :], \n",
    "                rand_coord_inds2[i, :], \n",
    "                box\n",
    "            )\n",
    "            # mean\n",
    "            mean_data[i] = top_hat_sphere_average(\n",
    "                dist_frm_coord_box, \n",
    "                radius, \n",
    "                cube_region_box\n",
    "            )\n",
    "            \n",
    "    elif blur_shape == 'top_hat_cube':\n",
    "                \n",
    "        # ratio determiend by equating the volumes of cube & sphere\n",
    "        radius = int(round((radius*((4*np.pi/3)**(1/3))-1)/2))  \n",
    "\n",
    "        # check to see if averaging region is largert than the box itself\n",
    "        check_averaging_radius_limit(radius, len(box))\n",
    "\n",
    "        # iteration number of random cube region indices in the box\n",
    "        rand_coord_inds1, rand_coord_inds2 = random_cube_regions(\n",
    "            len(box), \n",
    "            iteration, \n",
    "            radius\n",
    "        )  \n",
    "        \n",
    "        for i in range(iteration):\n",
    "            cube_region_box = slicing_the_cube(\n",
    "                rand_coord_inds1[i, :], \n",
    "                rand_coord_inds2[i, :], \n",
    "                box\n",
    "            )\n",
    "            # mean\n",
    "            mean_data[i] = top_hat_cube_average(cube_region_box)\n",
    "    else:\n",
    "        \n",
    "        print('Blurring shape assumed to be a Gaussian sphere with 4 shells \\\n",
    "              weighted by equally spaced values from 0 sigma to 4 sigma.')\n",
    "                \n",
    "        \n",
    "# ====================================================================================================================\n",
    "        # Radius Ratio 1\n",
    "        radius = int(round(radius*1.4370397097748921*3))\n",
    "        \n",
    "        # Radius Ratio 2\n",
    "#         radius = int(round(radius*((4/3/np.sqrt(np.pi))**(1/3))*13/4))  \n",
    "            # 13/4 --> speculated correction factor\n",
    "# ====================================================================================================================\n",
    "        \n",
    "        \n",
    "        # check to see if averaging region is largert than the box itself\n",
    "        check_averaging_radius_limit(radius, len(box))\n",
    "\n",
    "        # used as condition to define a sphere within a cube\n",
    "        dist_frm_coord_box = distance_from_coordinate(radius*2+1)\n",
    "\n",
    "        # iteration number of random cube region indices in the box\n",
    "        rand_coord_inds1, rand_coord_inds2 = random_cube_regions(\n",
    "            len(box), \n",
    "            iteration, \n",
    "            radius\n",
    "        )  \n",
    "        \n",
    "        for i in range(iteration):\n",
    "            cube_region_box = slicing_the_cube(\n",
    "                rand_coord_inds1[i, :], \n",
    "                rand_coord_inds2[i, :], \n",
    "                box\n",
    "            )\n",
    "            mean_data[i] = gaussian_sphere_average(\n",
    "                dist_frm_coord_box, \n",
    "                radius, \n",
    "                cube_region_box, \n",
    "                shell_num, \n",
    "                sigma_factor\n",
    "            )\n",
    "            # mean\n",
    "            \n",
    "    return mean_data"
   ]
  },
  {
   "cell_type": "markdown",
   "metadata": {},
   "source": [
    "## Generate Average Neutral Fraction Distributions as a function of redshift"
   ]
  },
  {
   "cell_type": "code",
   "execution_count": 16,
   "metadata": {
    "ExecuteTime": {
     "end_time": "2020-07-13T17:38:36.997883Z",
     "start_time": "2020-07-13T17:38:36.987749Z"
    }
   },
   "outputs": [],
   "source": [
    "def generate_distributions(\n",
    "    boxes,\n",
    "    radii=np.arange(8, 17, 1),\n",
    "    iterations=int(10**3),\n",
    "    sigma_factor=1.4370397097748921*3,\n",
    "    shell_number=6,\n",
    "    progress_status=True\n",
    "):\n",
    "\n",
    "    gaussians = np.zeros((len(boxes), len(radii), iterations))\n",
    "    \n",
    "    # print progress and local time\n",
    "    if progress_status:\n",
    "        start_time = datetime.now()\n",
    "        current_time = start_time\n",
    "        print(f'Progress = 0%, localtime = {start_time}')\n",
    "\n",
    "    for i, box in enumerate(boxes):\n",
    "               \n",
    "        for ii, radius in enumerate(radii):\n",
    "                        \n",
    "            gaussians[i, ii, :] = average_neutral_fraction_distribution(\n",
    "                box=box,\n",
    "                radius=radius,\n",
    "                iteration=iterations,\n",
    "                sigma_factor=sigma_factor,\n",
    "                shell_num=shell_number,\n",
    "                blur_shape='Gaussian_sphere'\n",
    "            )\n",
    "        # print progress and local time\n",
    "        if progress_status:\n",
    "            previous_time = current_time\n",
    "            current_time = datetime.now()\n",
    "            loop_time = current_time - previous_time\n",
    "            elapsed_time = current_time - start_time\n",
    "            print(f'progress = {int(round((i+1)*100/len(boxes)))}%, \\\n",
    "localtime = {current_time}, loopexecuted in {loop_time}, elapsedtime = {elapsed_time}')\n",
    "    \n",
    "    return gaussians"
   ]
  },
  {
   "cell_type": "markdown",
   "metadata": {},
   "source": [
    "## Vary: Rmax, EFF, constant: x_HI, z. x_HI error: 1e-2%"
   ]
  },
  {
   "cell_type": "code",
   "execution_count": 17,
   "metadata": {},
   "outputs": [],
   "source": [
    "R_BUBBLE_MAXES = np.linspace(30, 0.225, 9)\n",
    "HII_EFF_FACTORS = np.array(\n",
    "    [19.04625, \n",
    "     19.511249999999997, \n",
    "     20.23875, \n",
    "     21.085, \n",
    "     22.655000000000012, \n",
    "     25.779375, \n",
    "     32.056640625, \n",
    "     56.6734375, \n",
    "     5291.5]\n",
    ")\n",
    "redshifts = np.array([6]*len(R_BUBBLE_MAXES))"
   ]
  },
  {
   "cell_type": "markdown",
   "metadata": {},
   "source": [
    "## Generate ionized boxes and total neutral fractions as a function of redshift"
   ]
  },
  {
   "cell_type": "code",
   "execution_count": 18,
   "metadata": {
    "scrolled": true
   },
   "outputs": [
    {
     "name": "stdout",
     "output_type": "stream",
     "text": [
      "Progress = 0%, localtime = 2020-12-26 20:00:12.732264\n"
     ]
    },
    {
     "name": "stderr",
     "output_type": "stream",
     "text": [
      "2020-12-26 20:00:14,738 | INFO | Existing z=6 ionized boxes found and read in (seed=230806296593).\n"
     ]
    },
    {
     "name": "stdout",
     "output_type": "stream",
     "text": [
      "progress = 11%, localtime = 2020-12-26 20:00:14.819977, loopexecuted in 0:00:02.087713, elapsedtime = 0:00:02.087713\n"
     ]
    },
    {
     "name": "stderr",
     "output_type": "stream",
     "text": [
      "2020-12-26 20:00:16,685 | INFO | Existing z=6 ionized boxes found and read in (seed=230806296593).\n"
     ]
    },
    {
     "name": "stdout",
     "output_type": "stream",
     "text": [
      "progress = 22%, localtime = 2020-12-26 20:00:16.763119, loopexecuted in 0:00:01.943142, elapsedtime = 0:00:04.030855\n"
     ]
    },
    {
     "name": "stderr",
     "output_type": "stream",
     "text": [
      "2020-12-26 20:00:18,732 | INFO | Existing z=6 ionized boxes found and read in (seed=230806296593).\n"
     ]
    },
    {
     "name": "stdout",
     "output_type": "stream",
     "text": [
      "progress = 33%, localtime = 2020-12-26 20:00:18.814773, loopexecuted in 0:00:02.051654, elapsedtime = 0:00:06.082509\n"
     ]
    },
    {
     "name": "stderr",
     "output_type": "stream",
     "text": [
      "2020-12-26 20:00:20,691 | INFO | Existing z=6 ionized boxes found and read in (seed=230806296593).\n"
     ]
    },
    {
     "name": "stdout",
     "output_type": "stream",
     "text": [
      "progress = 44%, localtime = 2020-12-26 20:00:20.767868, loopexecuted in 0:00:01.953095, elapsedtime = 0:00:08.035604\n"
     ]
    },
    {
     "name": "stderr",
     "output_type": "stream",
     "text": [
      "2020-12-26 20:00:22,468 | INFO | Existing z=6 ionized boxes found and read in (seed=230806296593).\n"
     ]
    },
    {
     "name": "stdout",
     "output_type": "stream",
     "text": [
      "progress = 56%, localtime = 2020-12-26 20:00:22.544624, loopexecuted in 0:00:01.776756, elapsedtime = 0:00:09.812360\n"
     ]
    },
    {
     "name": "stderr",
     "output_type": "stream",
     "text": [
      "2020-12-26 20:00:24,305 | INFO | Existing z=6 ionized boxes found and read in (seed=230806296593).\n"
     ]
    },
    {
     "name": "stdout",
     "output_type": "stream",
     "text": [
      "progress = 67%, localtime = 2020-12-26 20:00:24.394028, loopexecuted in 0:00:01.849404, elapsedtime = 0:00:11.661764\n"
     ]
    },
    {
     "name": "stderr",
     "output_type": "stream",
     "text": [
      "2020-12-26 20:00:26,090 | INFO | Existing z=6 ionized boxes found and read in (seed=230806296593).\n"
     ]
    },
    {
     "name": "stdout",
     "output_type": "stream",
     "text": [
      "progress = 78%, localtime = 2020-12-26 20:00:26.168677, loopexecuted in 0:00:01.774649, elapsedtime = 0:00:13.436413\n"
     ]
    },
    {
     "name": "stderr",
     "output_type": "stream",
     "text": [
      "2020-12-26 20:00:27,863 | INFO | Existing z=6 ionized boxes found and read in (seed=230806296593).\n"
     ]
    },
    {
     "name": "stdout",
     "output_type": "stream",
     "text": [
      "progress = 89%, localtime = 2020-12-26 20:00:27.948261, loopexecuted in 0:00:01.779584, elapsedtime = 0:00:15.215997\n"
     ]
    },
    {
     "name": "stderr",
     "output_type": "stream",
     "text": [
      "2020-12-26 20:00:31,212 | INFO | Existing z=6 ionized boxes found and read in (seed=230806296593).\n"
     ]
    },
    {
     "name": "stdout",
     "output_type": "stream",
     "text": [
      "progress = 100%, localtime = 2020-12-26 20:00:31.535352, loopexecuted in 0:00:03.587091, elapsedtime = 0:00:18.803088\n"
     ]
    },
    {
     "data": {
      "text/plain": [
       "array([0.19999881, 0.19998097, 0.20000417, 0.20001106, 0.19998624,\n",
       "       0.20001978, 0.19999591, 0.19998911, 0.19998213])"
      ]
     },
     "execution_count": 18,
     "metadata": {},
     "output_type": "execute_result"
    }
   ],
   "source": [
    "# R_BUBBLE_MAXES = np.array(\n",
    "#     [10, 20, 30]*3\n",
    "# )\n",
    "# HII_EFF_FACTORS = np.array(\n",
    "#     [62.625, 42.042500000000004, 36.183125000000004,\n",
    "#      47.1875, 34.390625, 31.25, \n",
    "#      37.96875, 29.53125, 27.6875]  \n",
    "# )\n",
    "# redshifts = np.array([7]*len(R_BUBBLE_MAXES))\n",
    "\n",
    "progress_status = True\n",
    "\n",
    "\n",
    "\n",
    "# sample_range = 10\n",
    "# target_variable = 0.3  # x_HI neutral fraction\n",
    "# target_error = 0.5  # percent\n",
    "# error = 1  # intializing\n",
    "# while abs(error) > target_variable*target_error/100:\n",
    "\n",
    "\n",
    "\n",
    "ionized_boxes = np.zeros((len(redshifts), HII_DIM, HII_DIM, HII_DIM))\n",
    "total_neutral_fractions = np.zeros(len(redshifts))\n",
    "\n",
    "# print progress and local time\n",
    "if progress_status:\n",
    "    start_time = datetime.now()\n",
    "    current_time = start_time\n",
    "    print(f'Progress = 0%, localtime = {start_time}')\n",
    "\n",
    "for i, z in enumerate(redshifts):\n",
    "    ionized_boxes[i] = p21c.ionize_box(\n",
    "        redshift=z, \n",
    "        init_boxes=init_cond,\n",
    "        astro_params={\n",
    "            'HII_EFF_FACTOR': HII_EFF_FACTORS[i],\n",
    "            'R_BUBBLE_MAX': R_BUBBLE_MAXES[i]\n",
    "        }\n",
    "    ).xH_box\n",
    "    total_neutral_fractions[i] = np.mean(ionized_boxes[i])\n",
    "\n",
    "    # print progress and local time\n",
    "    if progress_status:\n",
    "        previous_time = current_time\n",
    "        current_time = datetime.now()\n",
    "        loop_time = current_time - previous_time\n",
    "        elapsed_time = current_time - start_time\n",
    "        print(f'progress = {int(round((i+1)*100/len(redshifts)))}%, \\\n",
    "localtime = {current_time}, loopexecuted in {loop_time}, elapsedtime = {elapsed_time}')\n",
    "        \n",
    "total_neutral_fractions\n",
    "\n",
    "\n",
    "\n",
    "#     previous_error=error\n",
    "#     error = target_variable - total_neutral_fractions[0]\n",
    "    \n",
    "#     print(f'HII_EFF_FACTOR={HII_EFF_FACTORS[0]}')\n",
    "#     print(f'x_HI={total_neutral_fractions[0]}')\n",
    "#     print(f'sample_range={sample_range}')\n",
    "#     print(f'previous_error={previous_error}')\n",
    "#     print(f'error={error}')\n",
    "    \n",
    "#     if error > 0:\n",
    "#         HII_EFF_FACTORS[0] -= sample_range\n",
    "#     else:\n",
    "#         HII_EFF_FACTORS[0] += sample_range\n",
    "        \n",
    "#     if error*previous_error < 0:\n",
    "#         sample_range -= 0.5*sample_range"
   ]
  },
  {
   "cell_type": "markdown",
   "metadata": {},
   "source": [
    "## Generate the distributions and storing the data in global variables"
   ]
  },
  {
   "cell_type": "code",
   "execution_count": 19,
   "metadata": {
    "scrolled": true
   },
   "outputs": [
    {
     "name": "stdout",
     "output_type": "stream",
     "text": [
      "Progress = 0%, localtime = 2020-12-26 20:00:31.910243\n"
     ]
    },
    {
     "name": "stderr",
     "output_type": "stream",
     "text": [
      "<ipython-input-15-521f3fee503c>:1: NumbaWarning: \n",
      "Compilation is falling back to object mode WITH looplifting enabled because Function \"average_neutral_fraction_distribution\" failed type inference due to: Untyped global name 'check_averaging_radius_limit': cannot determine Numba type of <class 'function'>\n",
      "\n",
      "File \"<ipython-input-15-521f3fee503c>\", line 31:\n",
      "def average_neutral_fraction_distribution(\n",
      "    <source elided>\n",
      "        # check to see if averaging region is largert than the box itself\n",
      "        check_averaging_radius_limit(radius, len(box))\n",
      "        ^\n",
      "\n",
      "  @jit\n",
      "<ipython-input-15-521f3fee503c>:1: NumbaWarning: \n",
      "Compilation is falling back to object mode WITHOUT looplifting enabled because Function \"average_neutral_fraction_distribution\" failed type inference due to: cannot determine Numba type of <class 'numba.core.dispatcher.LiftedLoop'>\n",
      "\n",
      "File \"<ipython-input-15-521f3fee503c>\", line 21:\n",
      "def average_neutral_fraction_distribution(\n",
      "    <source elided>\n",
      "        # Radius Ratio 1\n",
      "        radius = int(round(radius*1.4370397097748921*3))\n",
      "        ^\n",
      "\n",
      "  @jit\n",
      "/lustre/aoc/projects/hera/wchin/anaconda3/envs/21cmfast/lib/python3.8/site-packages/numba/core/object_mode_passes.py:177: NumbaWarning: Function \"average_neutral_fraction_distribution\" was compiled in object mode without forceobj=True, but has lifted loops.\n",
      "\n",
      "File \"<ipython-input-15-521f3fee503c>\", line 11:\n",
      "def average_neutral_fraction_distribution(\n",
      "    <source elided>\n",
      "    \n",
      "    box = box.copy()  # make copy of input box to have a separate box\n",
      "    ^\n",
      "\n",
      "  warnings.warn(errors.NumbaWarning(warn_msg,\n",
      "/lustre/aoc/projects/hera/wchin/anaconda3/envs/21cmfast/lib/python3.8/site-packages/numba/core/object_mode_passes.py:187: NumbaDeprecationWarning: \n",
      "Fall-back from the nopython compilation path to the object mode compilation path has been detected, this is deprecated behaviour.\n",
      "\n",
      "For more information visit http://numba.pydata.org/numba-doc/latest/reference/deprecation.html#deprecation-of-object-mode-fall-back-behaviour-when-using-jit\n",
      "\n",
      "File \"<ipython-input-15-521f3fee503c>\", line 11:\n",
      "def average_neutral_fraction_distribution(\n",
      "    <source elided>\n",
      "    \n",
      "    box = box.copy()  # make copy of input box to have a separate box\n",
      "    ^\n",
      "\n",
      "  warnings.warn(errors.NumbaDeprecationWarning(msg,\n",
      "<ipython-input-15-521f3fee503c>:1: NumbaWarning: \n",
      "Compilation is falling back to object mode WITHOUT looplifting enabled because Function \"average_neutral_fraction_distribution\" failed type inference due to: Untyped global name 'check_averaging_radius_limit': cannot determine Numba type of <class 'function'>\n",
      "\n",
      "File \"<ipython-input-15-521f3fee503c>\", line 31:\n",
      "def average_neutral_fraction_distribution(\n",
      "    <source elided>\n",
      "        # check to see if averaging region is largert than the box itself\n",
      "        check_averaging_radius_limit(radius, len(box))\n",
      "        ^\n",
      "\n",
      "  @jit\n",
      "/lustre/aoc/projects/hera/wchin/anaconda3/envs/21cmfast/lib/python3.8/site-packages/numba/core/object_mode_passes.py:177: NumbaWarning: Function \"average_neutral_fraction_distribution\" was compiled in object mode without forceobj=True.\n",
      "\n",
      "File \"<ipython-input-15-521f3fee503c>\", line 21:\n",
      "def average_neutral_fraction_distribution(\n",
      "    <source elided>\n",
      "        # Radius Ratio 1\n",
      "        radius = int(round(radius*1.4370397097748921*3))\n",
      "        ^\n",
      "\n",
      "  warnings.warn(errors.NumbaWarning(warn_msg,\n",
      "/lustre/aoc/projects/hera/wchin/anaconda3/envs/21cmfast/lib/python3.8/site-packages/numba/core/object_mode_passes.py:187: NumbaDeprecationWarning: \n",
      "Fall-back from the nopython compilation path to the object mode compilation path has been detected, this is deprecated behaviour.\n",
      "\n",
      "For more information visit http://numba.pydata.org/numba-doc/latest/reference/deprecation.html#deprecation-of-object-mode-fall-back-behaviour-when-using-jit\n",
      "\n",
      "File \"<ipython-input-15-521f3fee503c>\", line 21:\n",
      "def average_neutral_fraction_distribution(\n",
      "    <source elided>\n",
      "        # Radius Ratio 1\n",
      "        radius = int(round(radius*1.4370397097748921*3))\n",
      "        ^\n",
      "\n",
      "  warnings.warn(errors.NumbaDeprecationWarning(msg,\n",
      "<ipython-input-10-4c4afb62d49a>:1: NumbaWarning: \n",
      "Compilation is falling back to object mode WITH looplifting enabled because Function \"distance_from_coordinate\" failed type inference due to: Use of unsupported NumPy function 'numpy.meshgrid' or unsupported use of the function.\n",
      "\n",
      "File \"<ipython-input-10-4c4afb62d49a>\", line 24:\n",
      "def distance_from_coordinate(box_length):\n",
      "    <source elided>\n",
      "    # 3D mesh\n",
      "    x_mesh, y_mesh, z_mesh = np.meshgrid(index, index, index, indexing='ij')\n",
      "    ^\n",
      "\n",
      "During: typing of get attribute at <ipython-input-10-4c4afb62d49a> (24)\n",
      "\n",
      "File \"<ipython-input-10-4c4afb62d49a>\", line 24:\n",
      "def distance_from_coordinate(box_length):\n",
      "    <source elided>\n",
      "    # 3D mesh\n",
      "    x_mesh, y_mesh, z_mesh = np.meshgrid(index, index, index, indexing='ij')\n",
      "    ^\n",
      "\n",
      "  @jit\n",
      "/lustre/aoc/projects/hera/wchin/anaconda3/envs/21cmfast/lib/python3.8/site-packages/numba/core/object_mode_passes.py:177: NumbaWarning: Function \"distance_from_coordinate\" was compiled in object mode without forceobj=True.\n",
      "\n",
      "File \"<ipython-input-10-4c4afb62d49a>\", line 2:\n",
      "@jit\n",
      "def distance_from_coordinate(box_length):\n",
      "^\n",
      "\n",
      "  warnings.warn(errors.NumbaWarning(warn_msg,\n",
      "/lustre/aoc/projects/hera/wchin/anaconda3/envs/21cmfast/lib/python3.8/site-packages/numba/core/object_mode_passes.py:187: NumbaDeprecationWarning: \n",
      "Fall-back from the nopython compilation path to the object mode compilation path has been detected, this is deprecated behaviour.\n",
      "\n",
      "For more information visit http://numba.pydata.org/numba-doc/latest/reference/deprecation.html#deprecation-of-object-mode-fall-back-behaviour-when-using-jit\n",
      "\n",
      "File \"<ipython-input-10-4c4afb62d49a>\", line 2:\n",
      "@jit\n",
      "def distance_from_coordinate(box_length):\n",
      "^\n",
      "\n",
      "  warnings.warn(errors.NumbaDeprecationWarning(msg,\n"
     ]
    },
    {
     "name": "stdout",
     "output_type": "stream",
     "text": [
      "progress = 50%, localtime = 2020-12-26 21:14:57.687034, loopexecuted in 1:14:25.776791, elapsedtime = 1:14:25.776791\n",
      "progress = 100%, localtime = 2020-12-26 22:27:28.591251, loopexecuted in 1:12:30.904217, elapsedtime = 2:26:56.681008\n"
     ]
    }
   ],
   "source": [
    "radii = np.array([13]*2)  # array([34, 32, 30,... 6, 4]) units: voxels (51, 3, -3)\n",
    "iterations = int(1e5)\n",
    "\n",
    "gaussians = generate_distributions(\n",
    "    boxes=ionized_boxes[[-3, -2]],\n",
    "    radii=radii,\n",
    "    iterations=iterations,\n",
    "    sigma_factor=1.4370397097748921*3\n",
    ")"
   ]
  },
  {
   "cell_type": "code",
   "execution_count": 20,
   "metadata": {},
   "outputs": [],
   "source": [
    "np.save('/lustre/aoc/projects/hera/wchin/gaussians_Rmax7.67,3.95_r13', gaussians)"
   ]
  },
  {
   "cell_type": "code",
   "execution_count": 22,
   "metadata": {},
   "outputs": [
    {
     "name": "stdout",
     "output_type": "stream",
     "text": [
      "Progress = 0%, localtime = 2020-12-23 14:26:17.870783\n",
      "progress = 100%, localtime = 2020-12-23 16:36:44.880486, loopexecuted in 2:10:27.009703, elapsedtime = 2:10:27.009703\n"
     ]
    }
   ],
   "source": [
    "radii = np.array([13, 12, 11, 10])  # array([34, 32, 30,... 6, 4]) units: voxels (51, 3, -3)\n",
    "iterations = int(1e5)\n",
    "\n",
    "gaussians = generate_distributions(\n",
    "    boxes=np.array([ionized_boxes[0]]),\n",
    "    radii=radii,\n",
    "    iterations=iterations,\n",
    "    sigma_factor=1.4370397097748921*3\n",
    ")"
   ]
  },
  {
   "cell_type": "markdown",
   "metadata": {},
   "source": [
    "np.save('/lustre/aoc/projects/hera/wchin/gaussians_Rmax30_r13,12,11,10', gaussians)"
   ]
  },
  {
   "cell_type": "markdown",
   "metadata": {},
   "source": [
    "gaussians = np.load('/lustre/aoc/projects/hera/wchin/VaryRmax&EFF_gaussians.npy')"
   ]
  },
  {
   "cell_type": "markdown",
   "metadata": {},
   "source": [
    "## Check if object is iterable"
   ]
  },
  {
   "cell_type": "code",
   "execution_count": null,
   "metadata": {},
   "outputs": [],
   "source": [
    "def iterable(obj):\n",
    "    \n",
    "    try:\n",
    "        iter(obj)\n",
    "        \n",
    "    except Exception:\n",
    "        return False\n",
    "    \n",
    "    else:\n",
    "        return True"
   ]
  },
  {
   "cell_type": "markdown",
   "metadata": {},
   "source": [
    "## Histogram Function"
   ]
  },
  {
   "cell_type": "code",
   "execution_count": null,
   "metadata": {
    "ExecuteTime": {
     "end_time": "2020-07-13T16:47:07.578877Z",
     "start_time": "2020-07-13T16:47:07.546390Z"
    }
   },
   "outputs": [],
   "source": [
    "def histogram(\n",
    "    y1s, \n",
    "    figure_shape, \n",
    "    y2s=None,\n",
    "    y3s=None,\n",
    "    marker_lines=None,\n",
    "    y1s_labels=None,\n",
    "    y2s_label=None,\n",
    "    y3s_label=None,\n",
    "    title=None, \n",
    "    legend_font_size=12,\n",
    "    fancy_legend_box=True,\n",
    "    legend_alpha=0.5,\n",
    "    shared_title=None,\n",
    "    shared_title_x_position=0.5,   # figure coordinates, max=1 I think\n",
    "    shared_title_y_position=0.92,\n",
    "    shared_x_label=None, \n",
    "    shared_x_label_x_position=0.5,\n",
    "    shared_x_label_y_position=0.08,\n",
    "    shared_y_label=None, \n",
    "    shared_y_label_x_position=0.07,\n",
    "    shared_y_label_y_postion=0.5,\n",
    "    x_start=0, \n",
    "    x_stop=1, \n",
    "    bin_num=int(1e3), \n",
    "    color='white', \n",
    "    figure_size=(18,7), \n",
    "    font_size=15, \n",
    "    horizontal_gap=0.05, \n",
    "    vertical_gap=0.05, \n",
    "    y_scale='linear', \n",
    "    y_notation='plain', \n",
    "    share_x_axis=True, \n",
    "    share_y_axis=True,\n",
    "    dpi=100\n",
    "):  # a: x start, b: x stop\n",
    "    \n",
    "    bin_edges = np.linspace(x_start, x_stop, bin_num) # bin_num of bins from 0-1\n",
    "    \n",
    "    bin_centers = 0.5 * (bin_edges[1:] + bin_edges[:-1])\n",
    "    \n",
    "    if np.array(y1s).ndim > 2:  # hopefully more robust condition.\n",
    "        \n",
    "        fig, axes = plt.subplots(\n",
    "            figure_shape[0], \n",
    "            figure_shape[1], \n",
    "            figsize=figure_size, \n",
    "            sharex=share_x_axis, \n",
    "            sharey=share_y_axis, \n",
    "            gridspec_kw={\"hspace\":vertical_gap, 'wspace':horizontal_gap},\n",
    "            dpi=dpi\n",
    "        )\n",
    "        \n",
    "        if shared_title != None:\n",
    "            \n",
    "            fig.suptitle(\n",
    "                x=shared_title_x_position, \n",
    "                y=shared_title_y_position, \n",
    "                t=shared_title, ha='center', \n",
    "                size=1.5*font_size, \n",
    "                color=color\n",
    "            )\n",
    "            \n",
    "        if shared_x_label != None:  # shared x label\n",
    "            fig.text(\n",
    "                x=shared_x_label_x_position, \n",
    "                y=shared_x_label_y_position, \n",
    "                s=shared_x_label, ha='center', \n",
    "                size=font_size, \n",
    "                color=color\n",
    "            )\n",
    "\n",
    "        if shared_y_label != None:  # shared y label\n",
    "            fig.text(\n",
    "                x=shared_y_label_x_position, \n",
    "                y=shared_y_label_y_postion, \n",
    "                s=shared_y_label, \n",
    "                va='center', \n",
    "                rotation='vertical', \n",
    "                size=font_size, \n",
    "                color=color\n",
    "            )\n",
    "        \n",
    "        for i, y1 in enumerate(y1s):\n",
    "            \n",
    "            for ii, marker_line in enumerate(marker_lines):\n",
    "                axes.flatten()[i].plot(\n",
    "                    bin_centers, \n",
    "                    np.histogram(y1s[i,ii,:], bins=bin_edges)[0], \n",
    "                    marker_line,\n",
    "                    label=y1s_labels[ii]\n",
    "                )\n",
    "            \n",
    "            if iterable(y2s):\n",
    "                axes.flatten()[i].plot(\n",
    "                    bin_centers, \n",
    "                    np.histogram(y2s[i], bins=bin_edges)[0], \n",
    "                    '--', \n",
    "                    label=y2s_label\n",
    "                )\n",
    "                \n",
    "                if iterable(y3s):\n",
    "                    axes.flatten()[i].plot(\n",
    "                        bin_centers, \n",
    "                        np.histogram(y3s[i], bins=bin_edges)[0], \n",
    "                        label=y3s_label\n",
    "                    )\n",
    "                    \n",
    "                    \n",
    "            if y1s_labels != None:\n",
    "                axes.flatten()[i].legend(\n",
    "                    prop={'size': legend_font_size}, \n",
    "                    fancybox=fancy_legend_box, \n",
    "                    framealpha=legend_alpha\n",
    "                )\n",
    "                \n",
    "            if title != None:\n",
    "                axes.flatten()[i].set_title(title[i], color=color, fontsize=font_size)\n",
    "                \n",
    "            axes.flatten()[i].set_yscale(y_scale)\n",
    "            \n",
    "            if y_notation == 'sci':\n",
    "                axes.flatten()[i].ticklabel_format(\n",
    "                    axis='y', \n",
    "                    style=y_notation, \n",
    "                    scilimits=(0,0), \n",
    "                    useMathText=True\n",
    "                )\n",
    "                \n",
    "            axes.flatten()[i].tick_params(\n",
    "                color=color, \n",
    "                labelcolor=color, \n",
    "                labelsize=font_size, \n",
    "                size=font_size\n",
    "            )  # font style\n",
    "\n",
    "            for spine in axes.flatten()[i].spines.values():  # figure color\n",
    "                spine.set_edgecolor(color)\n",
    "                \n",
    "    else:\n",
    "        \n",
    "        fig, ax = plt.subplots(figsize=figure_size)\n",
    "        \n",
    "        ax.plot(bin_centers, np.histogram(y1s, bins=bin_edges)[0], label=y1s_labels)\n",
    "        \n",
    "        if y2s != None:\n",
    "            ax.plot(bin_centers, np.histogram(y2s, bins=bin_edges)[0], '--', label=y2s_label)\n",
    "            \n",
    "            if y3s == None:\n",
    "                ax.legend(\n",
    "                    prop={'size': legend_font_size}, \n",
    "                    fancybox=fancy_legend_box, \n",
    "                    framealpha=legend_alpha\n",
    "                )                 \n",
    "                \n",
    "            else:\n",
    "                ax.plot(bin_centers, np.histogram(y3s, bins=bin_edges)[0], '-.', label=y3s_label)\n",
    "                ax.legend(\n",
    "                    prop={'size': legend_font_size}, \n",
    "                    fancybox=fancy_legend_box, \n",
    "                    framealpha=legend_alpha\n",
    "                )                 \n",
    "                \n",
    "        if title != None:\n",
    "            ax.set_title(title, color=color, fontsize=font_size)\n",
    "            \n",
    "        ax.set_yscale(y_scale)\n",
    "        \n",
    "        if y_notation == 'sci':\n",
    "            ax.ticklabel_format(axis='y', style=y_notation, scilimits=(0,0), useMathText=True)\n",
    "            \n",
    "        ax.tick_params(color=color, labelcolor=color, labelsize=font_size)  # font style\n",
    "\n",
    "        for spine in ax.spines.values():  # figure color\n",
    "            spine.set_edgecolor(color)\n",
    "            \n",
    "    plt.show()"
   ]
  },
  {
   "cell_type": "markdown",
   "metadata": {},
   "source": [
    "## Creating Histogram"
   ]
  },
  {
   "cell_type": "code",
   "execution_count": null,
   "metadata": {
    "ExecuteTime": {
     "end_time": "2020-07-13T18:44:11.263417Z",
     "start_time": "2020-07-13T18:44:04.542540Z"
    },
    "scrolled": false
   },
   "outputs": [],
   "source": [
    "bins = int(1e2)\n",
    "histogram(\n",
    "    y1s=gaussians,       \n",
    "    marker_lines=['-']*len(radii),\n",
    "    y1s_labels=[f'Radius={r*BOX_LEN/HII_DIM:.0f}Mpc' for r in radii],\n",
    "    legend_alpha=0,\n",
    "    bin_num=bins,   \n",
    "    title=[f'Rmax={R_BUBBLE_MAXES[i]:.2f}, EFF={HII_EFF_FACTORS[i]:.2f}' for i,\n",
    "           z in enumerate(redshifts)],\n",
    "    shared_title=f'Distribution of Average Neutral Fraction \\\n",
    "({bins} bins, {iterations:.2e} iterations)',\n",
    "    shared_y_label='Counts',\n",
    "    shared_x_label='Neutral Fraction',\n",
    "    figure_shape=(3,3), \n",
    "    figure_size=(18,18),\n",
    "    vertical_gap=0.1,\n",
    "    horizontal_gap=0.05,\n",
    "    y_scale='log',\n",
    "#     y_notation='sci',\n",
    "    share_y_axis=True,\n",
    "#     dpi=1000\n",
    ")"
   ]
  },
  {
   "cell_type": "code",
   "execution_count": null,
   "metadata": {},
   "outputs": [],
   "source": [
    "np.shape(gaussians)"
   ]
  },
  {
   "cell_type": "code",
   "execution_count": null,
   "metadata": {},
   "outputs": [],
   "source": [
    "radius = 2\n",
    "color = 'w'\n",
    "\n",
    "plt.figure(dpi=300)\n",
    "bin_edges = np.linspace(0., 1., int(1e2)) # bin_num of bins from 0-1\n",
    "bin_centers = 0.5 * (bin_edges[1:] + bin_edges[:-1])\n",
    "\n",
    "for i in range(9):\n",
    "    plt.semilogy(\n",
    "        bin_centers, \n",
    "        np.histogram(gaussians[i, radius], bins=bin_edges)[0],\n",
    "        label=f'Rmax={R_BUBBLE_MAXES[i]:.1f}, EFF={HII_EFF_FACTORS[i]:.1f}'\n",
    "    )\n",
    "plt.legend(fancybox=True, framealpha=0.5)\n",
    "plt.title(f' Radius = {radii[radius]} Mpc', color=color)\n",
    "plt.tick_params(color=color, labelcolor=color)\n",
    "plt.show()"
   ]
  },
  {
   "cell_type": "code",
   "execution_count": null,
   "metadata": {},
   "outputs": [],
   "source": [
    "radius = 2\n",
    "color = 'w'\n",
    "\n",
    "plt.figure(dpi=300)\n",
    "bin_edges = np.linspace(0., 1., int(1e2)) # bin_num of bins from 0-1\n",
    "bin_centers = 0.5 * (bin_edges[1:] + bin_edges[:-1])\n",
    "\n",
    "for i in range(5, 9):\n",
    "    plt.semilogy(\n",
    "        bin_centers, \n",
    "        np.histogram(gaussians[i, radius], bins=bin_edges)[0],\n",
    "        label=f'Rmax={R_BUBBLE_MAXES[i]:.1f}, EFF={HII_EFF_FACTORS[i]:.1f}'\n",
    "    )\n",
    "plt.legend(fancybox=True, framealpha=0.5)\n",
    "plt.title(f'Averaging Sphere Radius = {radii[radius]} Mpc', color=color)\n",
    "plt.tick_params(color=color, labelcolor=color)\n",
    "plt.show()"
   ]
  },
  {
   "cell_type": "code",
   "execution_count": null,
   "metadata": {},
   "outputs": [],
   "source": []
  }
 ],
 "metadata": {
  "kernelspec": {
   "display_name": "21cmfast",
   "language": "python",
   "name": "21cmfast"
  },
  "language_info": {
   "codemirror_mode": {
    "name": "ipython",
    "version": 3
   },
   "file_extension": ".py",
   "mimetype": "text/x-python",
   "name": "python",
   "nbconvert_exporter": "python",
   "pygments_lexer": "ipython3",
   "version": "3.8.3"
  }
 },
 "nbformat": 4,
 "nbformat_minor": 4
}
